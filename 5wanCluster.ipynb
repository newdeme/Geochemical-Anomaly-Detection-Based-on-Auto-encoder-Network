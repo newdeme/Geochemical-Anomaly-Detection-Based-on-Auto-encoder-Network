{
 "cells": [
  {
   "cell_type": "code",
   "execution_count": 1,
   "metadata": {},
   "outputs": [],
   "source": [
    "import pandas as pd\n",
    "import numpy as np\n",
    "import os\n",
    "import math"
   ]
  },
  {
   "cell_type": "code",
   "execution_count": 5,
   "metadata": {},
   "outputs": [],
   "source": [
    "def dist(location_test):\n",
    "    dist=[]\n",
    "    loc_list=location_test.values\n",
    "    for i in range(len(location_test)):\n",
    "        tmp=[]\n",
    "        for j in range(len(location_test)):\n",
    "            tmp.append(np.linalg.norm(loc_list[i]-loc_list[j]))\n",
    "        dist.append(tmp)\n",
    "    return dist"
   ]
  },
  {
   "cell_type": "code",
   "execution_count": 8,
   "metadata": {},
   "outputs": [],
   "source": [
    "# dists[0][0]\n",
    "# dists=dist(locatin)\n",
    "# dist=np.array(dists)\n",
    "# np.save('C:/Users/wk/Desktop/黄涛/毕设/CAE_Cluster/5wan/dists',dist)"
   ]
  },
  {
   "cell_type": "code",
   "execution_count": 240,
   "metadata": {},
   "outputs": [],
   "source": [
    "def savelabel(loc,label):\n",
    "    n=len(set(label))\n",
    "    dic0={}\n",
    "    for i in label:\n",
    "        if i in dic0:\n",
    "            dic0[i]+=1\n",
    "        else:\n",
    "            dic0[i]=1\n",
    "    sorted_x = sorted(dic0.items(), key=lambda x : x[1], reverse=True)\n",
    "    newlabel=[-1]*len(label)\n",
    "    for i in range(n):\n",
    "        k,v=sorted_x[i]\n",
    "        for j in range(len(label)):\n",
    "            if label[j]==k:\n",
    "                newlabel[j]=i           \n",
    "    data=[]\n",
    "    dic={}\n",
    "    for i in range(loc.shape[0]):\n",
    "        loc1=loc[i]\n",
    "        lab=newlabel[i]\n",
    "        for j in range(loc1.shape[0]):\n",
    "            x,y=loc1[j]\n",
    "            if (y,x) in dic:\n",
    "                dic[(y,x)].append(lab)\n",
    "            else:\n",
    "                dic[(y,x)]=[lab]\n",
    "    for tup in dic:\n",
    "        y,x=tup\n",
    "        count=0\n",
    "        dic1={}\n",
    "        lis=dic[tup]\n",
    "        for lab in lis:\n",
    "            if lab in dic1:\n",
    "                dic1[lab]+=1\n",
    "            else:\n",
    "                dic1[lab]=1\n",
    "        mx=max(dic1.values())\n",
    "        for k,v in dic1.items():\n",
    "            if v==mx:\n",
    "                mostlab=k\n",
    "                break\n",
    "        data.append([y,x,mostlab])\n",
    "    \n",
    "    return data"
   ]
  },
  {
   "cell_type": "code",
   "execution_count": 88,
   "metadata": {},
   "outputs": [],
   "source": [
    "dist1=np.load('./out/CAE_Cluster/5wan/dists.npy')\n",
    "dists=[]\n",
    "for i in dist1:\n",
    "    dists.append(list(i))"
   ]
  },
  {
   "cell_type": "code",
   "execution_count": 487,
   "metadata": {},
   "outputs": [
    {
     "name": "stdout",
     "output_type": "stream",
     "text": [
      "         Y        X    As    Sb    Bi    Co    Cu    Mo    Ni    Pb     W  \\\n",
      "0  10465.8  76750.4  25.2  4.09  0.31  12.9  23.1  0.55  26.9  18.9  2.31   \n",
      "1  10463.4  76746.2  9.42   0.9  0.32  13.8  28.2  1.18  26.9  45.5  3.96   \n",
      "2  10475.2  76741.6  19.2  5.35  0.32  12.8  26.8  0.75  26.5  29.0  7.34   \n",
      "3  10494.2  76753.8  26.8  4.84  0.32  14.7  26.4  0.53  29.9  21.0  2.41   \n",
      "4  10490.8  76744.8  9.27  0.88  0.34  14.6  27.8  0.66  31.4  32.8  5.90   \n",
      "\n",
      "     Zn    Au    Ag  \n",
      "0  63.3  1.66  0.10  \n",
      "1  65.2  1.22  0.09  \n",
      "2  68.6  0.42  0.07  \n",
      "3  78.1  0.88  0.07  \n",
      "4  75.0  0.30  0.09  \n"
     ]
    }
   ],
   "source": [
    "file_path='./data/5万水系.xlsx'\n",
    "data=pd.read_excel(file_path,sheet_name='Sheet1')\n",
    "print(data.head())"
   ]
  },
  {
   "cell_type": "code",
   "execution_count": 488,
   "metadata": {},
   "outputs": [
    {
     "name": "stdout",
     "output_type": "stream",
     "text": [
      "      W    Mo\n",
      "0  2.31  0.55\n",
      "(11482, 2)\n",
      "0.0\n"
     ]
    }
   ],
   "source": [
    "location_test=data.loc[:,['X','Y']]\n",
    "data_test1=data.loc[:,['W','Mo']]# 选择对应元素\n",
    "# 若无预先读入dists文件，需要在此进行dists数组的计算 \n",
    "# dists = dist(location_test)\n",
    "\n",
    "print(data_test1[0:1])\n",
    "print(location_test.shape)\n",
    "print(dist1[0][0])"
   ]
  },
  {
   "cell_type": "code",
   "execution_count": 489,
   "metadata": {},
   "outputs": [],
   "source": [
    "from sklearn import preprocessing\n",
    "scaler = preprocessing.MinMaxScaler() #min-max标准化\n",
    "#scaler = preprocessing.StandardScaler()  #z-score标准化\n",
    "# data_trian = scaler.fit_transform(data_trian)\n",
    "# data_test = scaler.fit_transform(data_test)\n",
    "# data_trian1=scaler.fit_transform(data_trian1) \n",
    "data_test1=scaler.fit_transform(data_test1) \n",
    "# data_trian2=scaler.fit_transform(data_trian2) \n",
    "# data_test2=scaler.fit_transform(data_test2) "
   ]
  },
  {
   "cell_type": "code",
   "execution_count": 490,
   "metadata": {},
   "outputs": [],
   "source": [
    "#滑动窗口长度；步长\n",
    "sequence_length = 32#采样点数量\n",
    "time_step =8#滑窗步长"
   ]
  },
  {
   "cell_type": "code",
   "execution_count": 491,
   "metadata": {},
   "outputs": [],
   "source": [
    "def get_data1(start, end, data,location, sequence_length, time_step,dist):\n",
    "    import heapq\n",
    "    result=[]\n",
    "    newloc=[]\n",
    "    loc1=location.values\n",
    "    for i in range(start,end,time_step):\n",
    "        tmp=dist[i]\n",
    "        idx=map(tmp.index,heapq.nsmallest(sequence_length,tmp))\n",
    "        idx=sorted(idx)\n",
    "        res=[]\n",
    "        newl=[]\n",
    "        for j in idx:\n",
    "            res.append(data[j])\n",
    "            newl.append(loc1[j])\n",
    "        result.append(res)\n",
    "        newloc.append(newl)\n",
    "    result=np.array(result)\n",
    "    newloc=np.array(newloc)\n",
    "    return result,newloc\n",
    "            "
   ]
  },
  {
   "cell_type": "code",
   "execution_count": 492,
   "metadata": {},
   "outputs": [
    {
     "name": "stdout",
     "output_type": "stream",
     "text": [
      "(1436, 32, 2)\n",
      "(11482, 2)\n"
     ]
    }
   ],
   "source": [
    "X_test,loc_test = get_data1(0, len(data_test1), data_test1,location_test, sequence_length, time_step,dists)\n",
    "print(X_test.shape)\n",
    "print(data_test1.shape)"
   ]
  },
  {
   "cell_type": "code",
   "execution_count": 493,
   "metadata": {},
   "outputs": [],
   "source": [
    "# import tensorflow as tf \n",
    "from keras.models import Model,Input,load_model, Sequential \n",
    "from keras.layers import Conv1D, Dropout, Dense  \n",
    "from keras.layers import MaxPooling1D, UpSampling1D, Flatten, Reshape \n",
    "from keras.callbacks import ModelCheckpoint, TensorBoard, EarlyStopping"
   ]
  },
  {
   "cell_type": "code",
   "execution_count": 494,
   "metadata": {},
   "outputs": [],
   "source": [
    "from keras.layers.wrappers import TimeDistributed\n",
    "from keras.layers.core import Dense, RepeatVector\n",
    "from keras.layers.noise import GaussianDropout,GaussianNoise"
   ]
  },
  {
   "cell_type": "code",
   "execution_count": 495,
   "metadata": {},
   "outputs": [
    {
     "name": "stdout",
     "output_type": "stream",
     "text": [
      "32 2\n"
     ]
    }
   ],
   "source": [
    "sample_length=X_test.shape[1]\n",
    "feature_dim=X_test.shape[2]\n",
    "print(sample_length,feature_dim)"
   ]
  },
  {
   "cell_type": "code",
   "execution_count": 496,
   "metadata": {},
   "outputs": [],
   "source": [
    "import os\n",
    "os.environ['CUDA_VISIBLE_DEVICES'] = '0'"
   ]
  },
  {
   "cell_type": "code",
   "execution_count": 497,
   "metadata": {},
   "outputs": [],
   "source": [
    "data=Input(shape=(sample_length,feature_dim ))\n",
    "x=GaussianNoise(0.01)(data)\n",
    "x=Conv1D(filters=16, kernel_size=5, padding='same', activation='relu',input_shape=(sample_length, feature_dim))(data)\n",
    "x=MaxPooling1D(pool_size=2)(x)\n",
    "x=Conv1D(filters=8, kernel_size=3, padding='same', activation='relu',input_shape=(sample_length//2,16))(x)\n",
    "x=MaxPooling1D(pool_size=2)(x)\n",
    "x=Conv1D(filters=8, kernel_size=3, padding='same', activation='relu',input_shape=(sample_length//4,8))(x)\n",
    "encoded=MaxPooling1D(pool_size=2)(x)\n",
    "\n",
    "x=UpSampling1D(size=2)(encoded)\n",
    "x=Conv1D(filters=8, kernel_size=3, padding='same', activation='relu',input_shape=(sample_length//4,8))(x)\n",
    "x=UpSampling1D(size=2)(x)\n",
    "x=Conv1D(filters=8, kernel_size=3, padding='same', activation='relu',input_shape=(sample_length//2,8))(x)\n",
    "x=UpSampling1D(size=2)(x)\n",
    "x=Conv1D(filters=16, kernel_size=5, padding='same', activation='relu',input_shape=(sample_length,8))(x)\n",
    "decoded=Conv1D(filters= feature_dim, kernel_size=5, padding='same', activation='sigmoid',input_shape=(sample_length,16))(x)\n",
    "       \n",
    "autoencoder = Model(data, decoded)\n",
    "autoencoder.compile(loss=\"mse\", optimizer='adam')\n",
    "encoder_model = Model(data,encoded)"
   ]
  },
  {
   "cell_type": "code",
   "execution_count": 498,
   "metadata": {},
   "outputs": [
    {
     "name": "stdout",
     "output_type": "stream",
     "text": [
      "Train on 1292 samples, validate on 144 samples\n",
      "Epoch 1/100\n",
      "1292/1292 [==============================] - 3s 2ms/step - loss: 0.2406 - val_loss: 0.2380\n",
      "Epoch 2/100\n",
      "1292/1292 [==============================] - 0s 106us/step - loss: 0.2342 - val_loss: 0.2289\n",
      "Epoch 3/100\n",
      "1292/1292 [==============================] - 0s 101us/step - loss: 0.2204 - val_loss: 0.2050\n",
      "Epoch 4/100\n",
      "1292/1292 [==============================] - 0s 105us/step - loss: 0.1828 - val_loss: 0.1412\n",
      "Epoch 5/100\n",
      "1292/1292 [==============================] - 0s 101us/step - loss: 0.0969 - val_loss: 0.0375\n",
      "Epoch 6/100\n",
      "1292/1292 [==============================] - 0s 99us/step - loss: 0.0167 - val_loss: 0.0035\n",
      "Epoch 7/100\n",
      "1292/1292 [==============================] - 0s 104us/step - loss: 0.0021 - val_loss: 8.1806e-04\n",
      "Epoch 8/100\n",
      "1292/1292 [==============================] - 0s 101us/step - loss: 7.6754e-04 - val_loss: 3.9759e-04\n",
      "Epoch 9/100\n",
      "1292/1292 [==============================] - 0s 96us/step - loss: 5.2500e-04 - val_loss: 2.8535e-04\n",
      "Epoch 10/100\n",
      "1292/1292 [==============================] - 0s 107us/step - loss: 4.5081e-04 - val_loss: 2.4084e-04\n",
      "Epoch 11/100\n",
      "1292/1292 [==============================] - 0s 100us/step - loss: 4.1785e-04 - val_loss: 2.1672e-04\n",
      "Epoch 12/100\n",
      "1292/1292 [==============================] - 0s 99us/step - loss: 3.9826e-04 - val_loss: 2.0034e-04\n",
      "Epoch 13/100\n",
      "1292/1292 [==============================] - 0s 97us/step - loss: 3.8422e-04 - val_loss: 1.8778e-04\n",
      "Epoch 14/100\n",
      "1292/1292 [==============================] - 0s 107us/step - loss: 3.7316e-04 - val_loss: 1.7750e-04\n",
      "Epoch 15/100\n",
      "1292/1292 [==============================] - 0s 102us/step - loss: 3.6399e-04 - val_loss: 1.6883e-04\n",
      "Epoch 16/100\n",
      "1292/1292 [==============================] - 0s 102us/step - loss: 3.5619e-04 - val_loss: 1.6136e-04\n",
      "Epoch 17/100\n",
      "1292/1292 [==============================] - 0s 101us/step - loss: 3.4949e-04 - val_loss: 1.5491e-04\n",
      "Epoch 18/100\n",
      "1292/1292 [==============================] - 0s 101us/step - loss: 3.4368e-04 - val_loss: 1.4932e-04\n",
      "Epoch 19/100\n",
      "1292/1292 [==============================] - 0s 101us/step - loss: 3.3865e-04 - val_loss: 1.4445e-04\n",
      "Epoch 20/100\n",
      "1292/1292 [==============================] - 0s 100us/step - loss: 3.3428e-04 - val_loss: 1.4017e-04\n",
      "Epoch 21/100\n",
      "1292/1292 [==============================] - 0s 98us/step - loss: 3.3043e-04 - val_loss: 1.3640e-04\n",
      "Epoch 22/100\n",
      "1292/1292 [==============================] - 0s 103us/step - loss: 3.2704e-04 - val_loss: 1.3308e-04\n",
      "Epoch 23/100\n",
      "1292/1292 [==============================] - 0s 101us/step - loss: 3.2407e-04 - val_loss: 1.3014e-04\n",
      "Epoch 24/100\n",
      "1292/1292 [==============================] - 0s 101us/step - loss: 3.2143e-04 - val_loss: 1.2754e-04\n",
      "Epoch 25/100\n",
      "1292/1292 [==============================] - 0s 93us/step - loss: 3.1909e-04 - val_loss: 1.2521e-04\n",
      "Epoch 26/100\n",
      "1292/1292 [==============================] - 0s 102us/step - loss: 3.1701e-04 - val_loss: 1.2313e-04\n",
      "Epoch 27/100\n",
      "1292/1292 [==============================] - 0s 101us/step - loss: 3.1515e-04 - val_loss: 1.2127e-04\n",
      "Epoch 28/100\n",
      "1292/1292 [==============================] - 0s 101us/step - loss: 3.1350e-04 - val_loss: 1.1963e-04\n",
      "Epoch 29/100\n",
      "1292/1292 [==============================] - 0s 101us/step - loss: 3.1202e-04 - val_loss: 1.1814e-04\n",
      "Epoch 30/100\n",
      "1292/1292 [==============================] - 0s 102us/step - loss: 3.1069e-04 - val_loss: 1.1678e-04\n",
      "Epoch 31/100\n",
      "1292/1292 [==============================] - 0s 101us/step - loss: 3.0950e-04 - val_loss: 1.1557e-04\n",
      "Epoch 32/100\n",
      "1292/1292 [==============================] - 0s 101us/step - loss: 3.0841e-04 - val_loss: 1.1447e-04\n",
      "Epoch 33/100\n",
      "1292/1292 [==============================] - 0s 100us/step - loss: 3.0742e-04 - val_loss: 1.1345e-04\n",
      "Epoch 34/100\n",
      "1292/1292 [==============================] - 0s 101us/step - loss: 3.0652e-04 - val_loss: 1.1252e-04\n",
      "Epoch 35/100\n",
      "1292/1292 [==============================] - 0s 101us/step - loss: 3.0569e-04 - val_loss: 1.1167e-04\n",
      "Epoch 36/100\n",
      "1292/1292 [==============================] - 0s 100us/step - loss: 3.0495e-04 - val_loss: 1.1090e-04\n",
      "Epoch 37/100\n",
      "1292/1292 [==============================] - 0s 101us/step - loss: 3.0427e-04 - val_loss: 1.1020e-04\n",
      "Epoch 38/100\n",
      "1292/1292 [==============================] - 0s 98us/step - loss: 3.0366e-04 - val_loss: 1.0957e-04\n",
      "Epoch 39/100\n",
      "1292/1292 [==============================] - 0s 99us/step - loss: 3.0310e-04 - val_loss: 1.0898e-04\n",
      "Epoch 40/100\n",
      "1292/1292 [==============================] - 0s 107us/step - loss: 3.0258e-04 - val_loss: 1.0844e-04\n",
      "Epoch 41/100\n",
      "1292/1292 [==============================] - 0s 99us/step - loss: 3.0211e-04 - val_loss: 1.0795e-04\n",
      "Epoch 42/100\n",
      "1292/1292 [==============================] - 0s 102us/step - loss: 3.0168e-04 - val_loss: 1.0749e-04\n",
      "Epoch 43/100\n",
      "1292/1292 [==============================] - 0s 103us/step - loss: 3.0127e-04 - val_loss: 1.0707e-04\n",
      "Epoch 44/100\n",
      "1292/1292 [==============================] - 0s 95us/step - loss: 3.0090e-04 - val_loss: 1.0666e-04\n",
      "Epoch 45/100\n",
      "1292/1292 [==============================] - 0s 106us/step - loss: 3.0052e-04 - val_loss: 1.0619e-04\n",
      "Epoch 46/100\n",
      "1292/1292 [==============================] - 0s 103us/step - loss: 3.0010e-04 - val_loss: 1.0572e-04\n",
      "Epoch 47/100\n",
      "1292/1292 [==============================] - 0s 101us/step - loss: 2.9970e-04 - val_loss: 1.0530e-04\n",
      "Epoch 48/100\n",
      "1292/1292 [==============================] - 0s 101us/step - loss: 2.9936e-04 - val_loss: 1.0493e-04\n",
      "Epoch 49/100\n",
      "1292/1292 [==============================] - 0s 101us/step - loss: 2.9906e-04 - val_loss: 1.0461e-04\n",
      "Epoch 50/100\n",
      "1292/1292 [==============================] - 0s 102us/step - loss: 2.9880e-04 - val_loss: 1.0433e-04\n",
      "Epoch 51/100\n",
      "1292/1292 [==============================] - 0s 100us/step - loss: 2.9857e-04 - val_loss: 1.0407e-04\n",
      "Epoch 52/100\n",
      "1292/1292 [==============================] - 0s 99us/step - loss: 2.9837e-04 - val_loss: 1.0385e-04\n",
      "Epoch 53/100\n",
      "1292/1292 [==============================] - 0s 101us/step - loss: 2.9818e-04 - val_loss: 1.0352e-04\n",
      "Epoch 54/100\n",
      "1292/1292 [==============================] - 0s 101us/step - loss: 2.9776e-04 - val_loss: 1.0295e-04\n",
      "Epoch 55/100\n",
      "1292/1292 [==============================] - 0s 94us/step - loss: 2.9728e-04 - val_loss: 1.0248e-04\n",
      "Epoch 56/100\n",
      "1292/1292 [==============================] - 0s 107us/step - loss: 2.9691e-04 - val_loss: 1.0213e-04\n",
      "Epoch 57/100\n",
      "1292/1292 [==============================] - 0s 97us/step - loss: 2.9666e-04 - val_loss: 1.0190e-04\n",
      "Epoch 58/100\n",
      "1292/1292 [==============================] - 0s 105us/step - loss: 2.9652e-04 - val_loss: 1.0178e-04\n",
      "Epoch 59/100\n",
      "1292/1292 [==============================] - 0s 101us/step - loss: 2.9645e-04 - val_loss: 1.0172e-04\n",
      "Epoch 60/100\n",
      "1292/1292 [==============================] - 0s 101us/step - loss: 2.9642e-04 - val_loss: 1.0169e-04\n",
      "Epoch 61/100\n",
      "1292/1292 [==============================] - 0s 101us/step - loss: 2.9640e-04 - val_loss: 1.0167e-04\n",
      "Epoch 62/100\n",
      "1292/1292 [==============================] - 0s 102us/step - loss: 2.9639e-04 - val_loss: 1.0165e-04\n",
      "Epoch 63/100\n",
      "1292/1292 [==============================] - 0s 100us/step - loss: 2.9637e-04 - val_loss: 1.0162e-04\n",
      "Epoch 64/100\n",
      "1292/1292 [==============================] - 0s 101us/step - loss: 2.9635e-04 - val_loss: 1.0159e-04\n",
      "Epoch 65/100\n",
      "1292/1292 [==============================] - 0s 100us/step - loss: 2.9633e-04 - val_loss: 1.0157e-04\n",
      "Epoch 66/100\n",
      "1292/1292 [==============================] - 0s 100us/step - loss: 2.9632e-04 - val_loss: 1.0155e-04\n",
      "Epoch 67/100\n",
      "1292/1292 [==============================] - 0s 100us/step - loss: 2.9631e-04 - val_loss: 1.0154e-04\n",
      "Epoch 68/100\n",
      "1292/1292 [==============================] - 0s 101us/step - loss: 2.9629e-04 - val_loss: 1.0152e-04\n",
      "Epoch 69/100\n",
      "1292/1292 [==============================] - 0s 101us/step - loss: 2.9628e-04 - val_loss: 1.0150e-04\n",
      "Epoch 70/100\n",
      "1292/1292 [==============================] - 0s 100us/step - loss: 2.9627e-04 - val_loss: 1.0149e-04\n",
      "Epoch 71/100\n",
      "1292/1292 [==============================] - 0s 100us/step - loss: 2.9625e-04 - val_loss: 1.0147e-04\n",
      "Epoch 72/100\n",
      "1292/1292 [==============================] - 0s 101us/step - loss: 2.9624e-04 - val_loss: 1.0146e-04\n",
      "Epoch 73/100\n"
     ]
    },
    {
     "name": "stdout",
     "output_type": "stream",
     "text": [
      "1292/1292 [==============================] - 0s 100us/step - loss: 2.9622e-04 - val_loss: 1.0145e-04\n",
      "Epoch 74/100\n",
      "1292/1292 [==============================] - 0s 101us/step - loss: 2.9621e-04 - val_loss: 1.0143e-04\n",
      "Epoch 75/100\n",
      "1292/1292 [==============================] - 0s 100us/step - loss: 2.9619e-04 - val_loss: 1.0141e-04\n",
      "Epoch 76/100\n",
      "1292/1292 [==============================] - 0s 101us/step - loss: 2.9618e-04 - val_loss: 1.0140e-04\n",
      "Epoch 77/100\n",
      "1292/1292 [==============================] - 0s 101us/step - loss: 2.9616e-04 - val_loss: 1.0139e-04\n",
      "Epoch 78/100\n",
      "1292/1292 [==============================] - 0s 100us/step - loss: 2.9615e-04 - val_loss: 1.0138e-04\n",
      "Epoch 79/100\n",
      "1292/1292 [==============================] - 0s 101us/step - loss: 2.9613e-04 - val_loss: 1.0137e-04\n",
      "Epoch 80/100\n",
      "1292/1292 [==============================] - 0s 98us/step - loss: 2.9611e-04 - val_loss: 1.0136e-04\n",
      "Epoch 81/100\n",
      "1292/1292 [==============================] - 0s 103us/step - loss: 2.9609e-04 - val_loss: 1.0134e-04\n",
      "Epoch 82/100\n",
      "1292/1292 [==============================] - 0s 101us/step - loss: 2.9607e-04 - val_loss: 1.0131e-04\n",
      "Epoch 83/100\n",
      "1292/1292 [==============================] - 0s 99us/step - loss: 2.9604e-04 - val_loss: 1.0127e-04\n",
      "Epoch 84/100\n",
      "1292/1292 [==============================] - 0s 100us/step - loss: 2.9601e-04 - val_loss: 1.0125e-04\n",
      "Epoch 85/100\n",
      "1292/1292 [==============================] - 0s 98us/step - loss: 2.9598e-04 - val_loss: 1.0124e-04\n",
      "Epoch 86/100\n",
      "1292/1292 [==============================] - 0s 107us/step - loss: 2.9596e-04 - val_loss: 1.0122e-04\n",
      "Epoch 87/100\n",
      "1292/1292 [==============================] - 0s 102us/step - loss: 2.9594e-04 - val_loss: 1.0121e-04\n",
      "Epoch 88/100\n",
      "1292/1292 [==============================] - 0s 100us/step - loss: 2.9592e-04 - val_loss: 1.0119e-04\n",
      "Epoch 89/100\n",
      "1292/1292 [==============================] - 0s 101us/step - loss: 2.9590e-04 - val_loss: 1.0117e-04\n",
      "Epoch 90/100\n",
      "1292/1292 [==============================] - 0s 101us/step - loss: 2.9587e-04 - val_loss: 1.0116e-04\n",
      "Epoch 91/100\n",
      "1292/1292 [==============================] - 0s 101us/step - loss: 2.9585e-04 - val_loss: 1.0114e-04\n",
      "Epoch 92/100\n",
      "1292/1292 [==============================] - 0s 99us/step - loss: 2.9584e-04 - val_loss: 1.0114e-04\n",
      "Epoch 93/100\n",
      "1292/1292 [==============================] - 0s 104us/step - loss: 2.9581e-04 - val_loss: 1.0111e-04\n",
      "Epoch 94/100\n",
      "1292/1292 [==============================] - 0s 100us/step - loss: 2.9579e-04 - val_loss: 1.0109e-04\n",
      "Epoch 95/100\n",
      "1292/1292 [==============================] - 0s 100us/step - loss: 2.9577e-04 - val_loss: 1.0105e-04\n",
      "Epoch 96/100\n",
      "1292/1292 [==============================] - 0s 101us/step - loss: 2.9573e-04 - val_loss: 1.0103e-04\n",
      "Epoch 97/100\n",
      "1292/1292 [==============================] - 0s 101us/step - loss: 2.9570e-04 - val_loss: 1.0100e-04\n",
      "Epoch 98/100\n",
      "1292/1292 [==============================] - 0s 100us/step - loss: 2.9567e-04 - val_loss: 1.0097e-04\n",
      "Epoch 99/100\n",
      "1292/1292 [==============================] - 0s 101us/step - loss: 2.9564e-04 - val_loss: 1.0095e-04\n",
      "Epoch 100/100\n",
      "1292/1292 [==============================] - 0s 101us/step - loss: 2.9560e-04 - val_loss: 1.0092e-04\n"
     ]
    },
    {
     "data": {
      "text/plain": [
       "<keras.callbacks.History at 0x12ef932c630>"
      ]
     },
     "execution_count": 498,
     "metadata": {},
     "output_type": "execute_result"
    }
   ],
   "source": [
    "early_stopping = EarlyStopping(monitor='val_loss', patience=10)\n",
    "autoencoder.fit(X_test, X_test,epochs=100,batch_size=128,shuffle=True,validation_split=0.1,callbacks=[early_stopping])"
   ]
  },
  {
   "cell_type": "code",
   "execution_count": 499,
   "metadata": {},
   "outputs": [
    {
     "name": "stdout",
     "output_type": "stream",
     "text": [
      "(1436, 32, 2)\n",
      "(1436, 4, 8)\n"
     ]
    }
   ],
   "source": [
    "encoded_data =encoder_model.predict(X_test)\n",
    "print(X_test.shape)\n",
    "print(encoded_data.shape)\n",
    "# print(encoded_data[0])"
   ]
  },
  {
   "cell_type": "code",
   "execution_count": 500,
   "metadata": {},
   "outputs": [
    {
     "name": "stdout",
     "output_type": "stream",
     "text": [
      "[3.0512414 3.0570042 3.0141706 3.0114627]\n",
      "(1436, 4)\n"
     ]
    }
   ],
   "source": [
    "encoded_data1=np.sum(encoded_data,axis=2)\n",
    "# encoded_data1=encoded_data.reshape([498,32])\n",
    "print(encoded_data1[0])\n",
    "print(encoded_data1.shape)"
   ]
  },
  {
   "cell_type": "code",
   "execution_count": 501,
   "metadata": {},
   "outputs": [],
   "source": [
    "from sklearn.cluster import SpectralClustering\n",
    "from sklearn.metrics import calinski_harabaz_score"
   ]
  },
  {
   "cell_type": "code",
   "execution_count": 502,
   "metadata": {},
   "outputs": [],
   "source": [
    "# X=encoded_data1\n",
    "# scores=[]\n",
    "# s=dict()\n",
    "# label={}\n",
    "# for index,gamma in enumerate([0.01,0.1,1,10]):\n",
    "#     for index,k in enumerate(range(4,14)):\n",
    "#         pred_y=SpectralClustering(n_clusters=k, gamma=gamma).fit_predict(X)\n",
    "#         print(\"Calinski-Harabasz Score with gamma=\",gamma,\"n_cluster=\",k,\"score=\",calinski_harabaz_score(X,pred_y))\n",
    "#         tmp=dict()\n",
    "#         tmp['gamma']=gamma\n",
    "#         tmp['n_cluster']=k\n",
    "#         tmp['score']=calinski_harabaz_score(X,pred_y)\n",
    "#         s[calinski_harabaz_score(X,pred_y)]=tmp\n",
    "#         label[(gamma,k)]=pred_y\n",
    "#         scores.append(calinski_harabaz_score(X,pred_y))\n",
    "# gamma,n_cluster=s.get(np.max(scores))['gamma'],s.get(np.max(scores))['n_cluster']\n",
    "# last_label=label[(gamma,n_cluster)]\n",
    "# print(np.max(scores))\n",
    "# print(\"最大得分项：\")\n",
    "# print(s.get(np.max(scores)))"
   ]
  },
  {
   "cell_type": "code",
   "execution_count": 503,
   "metadata": {},
   "outputs": [
    {
     "name": "stdout",
     "output_type": "stream",
     "text": [
      "Calinski-Harabasz Score with n_neighbors= 8 n_cluster= 9 score= 142.84103639961594\n",
      "Calinski-Harabasz Score with n_neighbors= 8 n_cluster= 10 score= 126.3528273633761\n",
      "Calinski-Harabasz Score with n_neighbors= 8 n_cluster= 11 score= 114.6898890597528\n",
      "Calinski-Harabasz Score with n_neighbors= 8 n_cluster= 12 score= 105.40729043699463\n",
      "Calinski-Harabasz Score with n_neighbors= 8 n_cluster= 13 score= 96.70264912313242\n",
      "Calinski-Harabasz Score with n_neighbors= 8 n_cluster= 14 score= 89.46167511284202\n",
      "Calinski-Harabasz Score with n_neighbors= 9 n_cluster= 9 score= 141.500040883181\n",
      "Calinski-Harabasz Score with n_neighbors= 9 n_cluster= 10 score= 126.69726122573168\n",
      "Calinski-Harabasz Score with n_neighbors= 9 n_cluster= 11 score= 114.53407726185624\n",
      "Calinski-Harabasz Score with n_neighbors= 9 n_cluster= 12 score= 105.58442009633272\n",
      "Calinski-Harabasz Score with n_neighbors= 9 n_cluster= 13 score= 96.88684073004958\n",
      "Calinski-Harabasz Score with n_neighbors= 9 n_cluster= 14 score= 113.11554595396272\n",
      "Calinski-Harabasz Score with n_neighbors= 10 n_cluster= 9 score= 142.32471718154702\n",
      "Calinski-Harabasz Score with n_neighbors= 10 n_cluster= 10 score= 127.84013742321733\n",
      "Calinski-Harabasz Score with n_neighbors= 10 n_cluster= 11 score= 116.47237044008523\n",
      "Calinski-Harabasz Score with n_neighbors= 10 n_cluster= 12 score= 106.17378979027167\n",
      "Calinski-Harabasz Score with n_neighbors= 10 n_cluster= 13 score= 96.87257656281209\n",
      "Calinski-Harabasz Score with n_neighbors= 10 n_cluster= 14 score= 113.31616668656167\n",
      "Calinski-Harabasz Score with n_neighbors= 11 n_cluster= 9 score= 142.17382857444167\n",
      "Calinski-Harabasz Score with n_neighbors= 11 n_cluster= 10 score= 126.28925390635649\n",
      "Calinski-Harabasz Score with n_neighbors= 11 n_cluster= 11 score= 114.7508537244564\n",
      "Calinski-Harabasz Score with n_neighbors= 11 n_cluster= 12 score= 105.2707040364449\n",
      "Calinski-Harabasz Score with n_neighbors= 11 n_cluster= 13 score= 96.90231330354544\n",
      "Calinski-Harabasz Score with n_neighbors= 11 n_cluster= 14 score= 112.30391395241075\n",
      "Calinski-Harabasz Score with n_neighbors= 12 n_cluster= 9 score= 143.26902728705994\n",
      "Calinski-Harabasz Score with n_neighbors= 12 n_cluster= 10 score= 129.2614502531172\n",
      "Calinski-Harabasz Score with n_neighbors= 12 n_cluster= 11 score= 117.20192627299383\n",
      "Calinski-Harabasz Score with n_neighbors= 12 n_cluster= 12 score= 107.10209617734955\n",
      "Calinski-Harabasz Score with n_neighbors= 12 n_cluster= 13 score= 98.56900618407225\n",
      "Calinski-Harabasz Score with n_neighbors= 12 n_cluster= 14 score= 90.76712210012325\n",
      "Calinski-Harabasz Score with n_neighbors= 13 n_cluster= 9 score= 144.36451835998207\n",
      "Calinski-Harabasz Score with n_neighbors= 13 n_cluster= 10 score= 129.44743687950773\n",
      "Calinski-Harabasz Score with n_neighbors= 13 n_cluster= 11 score= 117.19844832600846\n",
      "Calinski-Harabasz Score with n_neighbors= 13 n_cluster= 12 score= 107.1547345628595\n",
      "Calinski-Harabasz Score with n_neighbors= 13 n_cluster= 13 score= 98.15993601271636\n",
      "Calinski-Harabasz Score with n_neighbors= 13 n_cluster= 14 score= 91.22371021925692\n",
      "Calinski-Harabasz Score with n_neighbors= 14 n_cluster= 9 score= 144.56483996335018\n",
      "Calinski-Harabasz Score with n_neighbors= 14 n_cluster= 10 score= 130.16329619760546\n",
      "Calinski-Harabasz Score with n_neighbors= 14 n_cluster= 11 score= 117.83249122870296\n",
      "Calinski-Harabasz Score with n_neighbors= 14 n_cluster= 12 score= 107.73338764380631\n",
      "Calinski-Harabasz Score with n_neighbors= 14 n_cluster= 13 score= 98.205806740156\n",
      "Calinski-Harabasz Score with n_neighbors= 14 n_cluster= 14 score= 91.68289815760983\n",
      "Calinski-Harabasz Score with n_neighbors= 15 n_cluster= 9 score= 143.7015170275035\n",
      "Calinski-Harabasz Score with n_neighbors= 15 n_cluster= 10 score= 130.09088161524133\n",
      "Calinski-Harabasz Score with n_neighbors= 15 n_cluster= 11 score= 117.7870378939568\n",
      "Calinski-Harabasz Score with n_neighbors= 15 n_cluster= 12 score= 107.64859034260719\n",
      "Calinski-Harabasz Score with n_neighbors= 15 n_cluster= 13 score= 98.98402273429055\n",
      "Calinski-Harabasz Score with n_neighbors= 15 n_cluster= 14 score= 91.72744258727347\n",
      "Calinski-Harabasz Score with n_neighbors= 16 n_cluster= 9 score= 144.38975399525276\n",
      "Calinski-Harabasz Score with n_neighbors= 16 n_cluster= 10 score= 130.88129975018433\n",
      "Calinski-Harabasz Score with n_neighbors= 16 n_cluster= 11 score= 117.83151587107342\n",
      "Calinski-Harabasz Score with n_neighbors= 16 n_cluster= 12 score= 107.95000417235285\n",
      "Calinski-Harabasz Score with n_neighbors= 16 n_cluster= 13 score= 98.92894876012409\n",
      "Calinski-Harabasz Score with n_neighbors= 16 n_cluster= 14 score= 91.67689587455423\n",
      "144.56483996335018\n",
      "最大得分项：\n",
      "{'n_neighbors': 14, 'n_cluster': 9, 'score': 144.56483996335018}\n"
     ]
    }
   ],
   "source": [
    "#KNN法构造邻接矩阵\n",
    "X=encoded_data1\n",
    "scores=[]\n",
    "s=dict()\n",
    "label={}\n",
    "for index,nb in enumerate([8,9,10,11,12,13,14,15,16]):\n",
    "    for index,k in enumerate(range(9,15)):\n",
    "        pred_y=SpectralClustering(affinity='nearest_neighbors',n_clusters=k, n_neighbors=nb).fit_predict(X)\n",
    "        print(\"Calinski-Harabasz Score with n_neighbors=\",nb,\"n_cluster=\",k,\"score=\",calinski_harabaz_score(X,pred_y))\n",
    "        tmp=dict()\n",
    "        tmp['n_neighbors']=nb\n",
    "        tmp['n_cluster']=k\n",
    "        tmp['score']=calinski_harabaz_score(X,pred_y)\n",
    "        s[calinski_harabaz_score(X,pred_y)]=tmp\n",
    "        label[(nb,k)]=pred_y\n",
    "        scores.append(calinski_harabaz_score(X,pred_y))\n",
    "nb,n_cluster=s.get(np.max(scores))['n_neighbors'],s.get(np.max(scores))['n_cluster']\n",
    "last_label=label[(nb,n_cluster)]\n",
    "print(np.max(scores))\n",
    "print(\"最大得分项：\")\n",
    "print(s.get(np.max(scores)))"
   ]
  },
  {
   "cell_type": "code",
   "execution_count": 504,
   "metadata": {},
   "outputs": [
    {
     "name": "stdout",
     "output_type": "stream",
     "text": [
      "(11428, 3)\n"
     ]
    }
   ],
   "source": [
    "data=savelabel(loc_test,last_label)\n",
    "data=pd.DataFrame(data)\n",
    "data.columns=['Y','X','label']\n",
    "with pd.ExcelWriter('./out/CAE_Cluster/5wan/WMo_9.xlsx') as writer:\n",
    "    data.to_excel(writer,sheet_name='WMo')\n",
    "print(data.shape)"
   ]
  },
  {
   "cell_type": "code",
   "execution_count": 505,
   "metadata": {},
   "outputs": [
    {
     "data": {
      "image/png": "[encoded data removed]",
      "text/plain": [
       "<Figure size 432x288 with 2 Axes>"
      ]
     },
     "metadata": {
      "needs_background": "light"
     },
     "output_type": "display_data"
    }
   ],
   "source": [
    "import matplotlib.pyplot as plt\n",
    "data.plot.scatter('Y', 'X', c='label', colormap='jet')\n",
    "plt.title('result1')\n",
    "plt.show()"
   ]
  },
  {
   "cell_type": "code",
   "execution_count": null,
   "metadata": {},
   "outputs": [],
   "source": []
  }
 ],
 "metadata": {
  "kernelspec": {
   "display_name": "Python 3",
   "language": "python",
   "name": "python3"
  },
  "language_info": {
   "codemirror_mode": {
    "name": "ipython",
    "version": 3
   },
   "file_extension": ".py",
   "mimetype": "text/x-python",
   "name": "python",
   "nbconvert_exporter": "python",
   "pygments_lexer": "ipython3",
   "version": "3.10.6"
  },
  "vscode": {
   "interpreter": {
    "hash": "31f2aee4e71d21fbe5cf8b01ff0e069b9275f58929596ceb00d14d90e3e16cd6"
   }
  }
 },
 "nbformat": 4,
 "nbformat_minor": 2
}
