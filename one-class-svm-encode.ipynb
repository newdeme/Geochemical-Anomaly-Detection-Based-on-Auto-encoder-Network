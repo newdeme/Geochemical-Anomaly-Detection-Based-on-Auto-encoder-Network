{
 "cells": [
  {
   "cell_type": "code",
   "execution_count": 1,
   "metadata": {},
   "outputs": [],
   "source": [
    "import pandas as pd\n",
    "import numpy as np\n",
    "import os\n",
    "import math\n",
    "os.environ['CUDA_VISIBLE_DEVICES'] = '0'"
   ]
  },
  {
   "cell_type": "code",
   "execution_count": 15,
   "metadata": {},
   "outputs": [
    {
     "name": "stdout",
     "output_type": "stream",
     "text": [
      "         Y        X     As    Sb    Bi    Co    Cu    Mo    Ni    Pb     W  \\\n",
      "0  10465.8  76750.4  25.20  4.09  0.31  12.9  23.1  0.55  26.9  18.9  2.31   \n",
      "1  10463.4  76746.2   9.42  0.90  0.32  13.8  28.2  1.18  26.9  45.5  3.96   \n",
      "2  10475.2  76741.6  19.20  5.35  0.32  12.8  26.8  0.75  26.5  29.0  7.34   \n",
      "3  10494.2  76753.8  26.80  4.84  0.32  14.7  26.4  0.53  29.9  21.0  2.41   \n",
      "4  10490.8  76744.8   9.27  0.88  0.34  14.6  27.8  0.66  31.4  32.8  5.90   \n",
      "\n",
      "     Zn    Au    Ag  \n",
      "0  63.3  1.66  0.10  \n",
      "1  65.2  1.22  0.09  \n",
      "2  68.6  0.42  0.07  \n",
      "3  78.1  0.88  0.07  \n",
      "4  75.0  0.30  0.09  \n",
      "         Y        X  label\n",
      "0  11053.0  76516.0      6\n",
      "1  11054.4  76516.2      6\n",
      "2  11056.0  76512.5      6\n",
      "3  11057.7  76512.8      6\n",
      "4  11059.4  76513.0      6\n"
     ]
    }
   ],
   "source": [
    "file_path='./data/5万水系.xlsx'\n",
    "file_path1='./data/钻孔坐标.xlsx'\n",
    "data=pd.read_excel(file_path,sheet_name='Sheet1')\n",
    "zk=pd.read_excel(file_path1,sheet_name='Sheet2')\n",
    "print(data.head())\n",
    "print(zk.head())"
   ]
  },
  {
   "cell_type": "code",
   "execution_count": 16,
   "metadata": {},
   "outputs": [
    {
     "name": "stdout",
     "output_type": "stream",
     "text": [
      "         Y        X  label\n",
      "0  11053.0  76516.0      6\n",
      "1  11054.4  76516.2      6\n",
      "3  11057.7  76512.8      6\n",
      "[10465.8 76750.4]\n"
     ]
    }
   ],
   "source": [
    "zk_loc=zk.loc[:,['Y','X']].values\n",
    "data_loc=data.loc[:,['Y','X']].values\n",
    "print(zk.loc[[0,1,3],:])\n",
    "print(data_loc[0])"
   ]
  },
  {
   "cell_type": "code",
   "execution_count": 146,
   "metadata": {},
   "outputs": [
    {
     "name": "stdout",
     "output_type": "stream",
     "text": [
      "[11221.5 76685.7]\n",
      "[11379.  76757.6]\n",
      "[10361.4 76145.9]\n",
      "[10000.2 76014. ]\n"
     ]
    },
    {
     "data": {
      "text/plain": [
       "array([10465.8, 76750.4])"
      ]
     },
     "execution_count": 146,
     "metadata": {},
     "output_type": "execute_result"
    }
   ],
   "source": [
    "zk_loc1=zk_loc\n",
    "data_loc1=data_loc\n",
    "print(np.max(zk_loc1,axis=0))\n",
    "print(np.max(data_loc1,axis=0))\n",
    "print(np.min(zk_loc1,axis=0))\n",
    "print(np.min(data_loc1,axis=0))\n",
    "data_loc1[unknown[0]]\n",
    "# np.save('out/CAE_Cluster/5wan/dists',dist)"
   ]
  },
  {
   "cell_type": "code",
   "execution_count": 18,
   "metadata": {},
   "outputs": [],
   "source": [
    "R=np.array(50)#距离半径为50\n",
    "true_label=[]\n",
    "false_label=[]\n",
    "unknown=[]\n",
    "zk_label=zk['label'].values\n",
    "for i in range(len(data_loc1)):\n",
    "    loc=data_loc1[i]\n",
    "    dist={}\n",
    "    for j in range(len(zk_loc1)):\n",
    "        dist[j]=np.linalg.norm(loc-zk_loc1[j])\n",
    "    minv=min(dist.values())\n",
    "    k=[i for i in dist if dist[i]==minv ]\n",
    "    if minv>R:\n",
    "        unknown.append(i)\n",
    "    else:\n",
    "        bl=0\n",
    "        for m in k:\n",
    "            if zk_label[m]==6:\n",
    "                bl=1\n",
    "                break\n",
    "        if bl:\n",
    "            true_label.append(i)\n",
    "        else:\n",
    "            false_label.append(i)"
   ]
  },
  {
   "cell_type": "code",
   "execution_count": 148,
   "metadata": {},
   "outputs": [
    {
     "name": "stdout",
     "output_type": "stream",
     "text": [
      "(1016, 14)\n",
      "(1657, 14)\n",
      "         Y        X    As    Sb    Bi    Co    Cu    Mo    Ni    Pb     W  \\\n",
      "0  10465.8  76750.4  25.2  4.09  0.31  12.9  23.1  0.55  26.9  18.9  2.31   \n",
      "\n",
      "     Zn    Au   Ag  \n",
      "0  63.3  1.66  0.1  \n"
     ]
    }
   ],
   "source": [
    "data_true=data.loc[true_label,:]\n",
    "data_false=data.loc[false_label,:]\n",
    "data_unknown=data.loc[unknown,:]\n",
    "print(data_true.shape)\n",
    "print(data_false.shape)\n",
    "print(data[0:1])"
   ]
  },
  {
   "cell_type": "code",
   "execution_count": 106,
   "metadata": {},
   "outputs": [],
   "source": [
    "data1=pd.DataFrame(data_true)\n",
    "data2=pd.DataFrame(data_false)\n",
    "data3=pd.DataFrame(data_unknown)\n",
    "with pd.ExcelWriter('out/one-class-svm/5wan_r10.xlsx') as writer:\n",
    "    data1.to_excel(writer,sheet_name='有矿')\n",
    "    data2.to_excel(writer,sheet_name='无矿')\n",
    "    data3.to_excel(writer,sheet_name='未知')    "
   ]
  },
  {
   "cell_type": "code",
   "execution_count": 20,
   "metadata": {},
   "outputs": [],
   "source": [
    "# data_tv=data_true.loc[:,['As','Sb','Bi','Co','Cu','Mo','Ni','Pb','W','Zn','Au','Ag']].values\n",
    "# data_fv=data_false.loc[:,['As','Sb','Bi','Co','Cu','Mo','Ni','Pb','W','Zn','Au','Ag']].values\n",
    "data_prev=data_unknown.loc[:,['As','Sb','Bi','Co','Cu','Mo','Ni','Pb','W','Zn','Au','Ag']].values\n",
    "# data_true1=np.insert(data_tv,12,1,axis=1)\n",
    "# data_false1=np.insert(data_fv,12,-1,axis=1)\n",
    "traindata=data.loc[true_label+false_label,:]\n",
    "train_data=traindata.loc[:,['As','Sb','Bi','Co','Cu','Mo','Ni','Pb','W','Zn','Au','Ag']].values\n",
    "train_label1=np.array([1]*len(true_label)+[0]*len(false_label))"
   ]
  },
  {
   "cell_type": "code",
   "execution_count": 5,
   "metadata": {},
   "outputs": [],
   "source": [
    "alldata=data.loc[:,['As','Sb','Bi','Co','Cu','Mo','Ni','Pb','W','Zn','Au','Ag']].values\n",
    "# for i in range(alldata.shape[0]):\n",
    "#     for j in range(alldata.shape[1]):\n",
    "#         if type(alldata[i][j])==str:\n",
    "#             data1.append(alldata[i][j])\n",
    "#             alldata[i][j]=0\n",
    "# type(alldata[0][0])\n",
    "# print(data1)"
   ]
  },
  {
   "cell_type": "code",
   "execution_count": 6,
   "metadata": {},
   "outputs": [],
   "source": [
    "from sklearn import preprocessing\n",
    "scaler = preprocessing.MinMaxScaler() #min-max标准化\n",
    "alldata1=scaler.fit_transform(alldata)\n",
    "\n"
   ]
  },
  {
   "cell_type": "code",
   "execution_count": 13,
   "metadata": {},
   "outputs": [],
   "source": [
    "alldata2=alldata1.reshape((alldata1.shape[0],alldata1.shape[1],1))\n",
    "alldata2.shape\n",
    "np.save('out/data.npy',alldata2)"
   ]
  },
  {
   "cell_type": "code",
   "execution_count": 9,
   "metadata": {},
   "outputs": [
    {
     "name": "stderr",
     "output_type": "stream",
     "text": [
      "Using TensorFlow backend.\n"
     ]
    }
   ],
   "source": [
    "# import tensorflow as tf \n",
    "from keras.models import Model,Input,load_model, Sequential \n",
    "from keras.layers import Conv1D, Dropout, Dense  \n",
    "from keras.layers import MaxPooling1D, UpSampling1D, Flatten, Reshape \n",
    "from keras.callbacks import ModelCheckpoint, TensorBoard, EarlyStopping\n",
    "from keras.layers.wrappers import TimeDistributed\n",
    "from keras.layers.noise import GaussianDropout,GaussianNoise\n",
    "import os\n",
    "os.environ['CUDA_VISIBLE_DEVICES'] = '0'"
   ]
  },
  {
   "cell_type": "code",
   "execution_count": 10,
   "metadata": {},
   "outputs": [
    {
     "name": "stdout",
     "output_type": "stream",
     "text": [
      "12 1\n"
     ]
    }
   ],
   "source": [
    "sample_length,feature_dim=alldata2.shape[1],alldata2.shape[2]\n",
    "print(sample_length,feature_dim)"
   ]
  },
  {
   "cell_type": "code",
   "execution_count": 12,
   "metadata": {},
   "outputs": [
    {
     "name": "stdout",
     "output_type": "stream",
     "text": [
      "_________________________________________________________________\n",
      "Layer (type)                 Output Shape              Param #   \n",
      "=================================================================\n",
      "input_1 (InputLayer)         (None, 12, 1)             0         \n",
      "_________________________________________________________________\n",
      "gaussian_noise_1 (GaussianNo (None, 12, 1)             0         \n",
      "_________________________________________________________________\n",
      "conv1d_1 (Conv1D)            (None, 12, 16)            64        \n",
      "_________________________________________________________________\n",
      "max_pooling1d_1 (MaxPooling1 (None, 6, 16)             0         \n",
      "_________________________________________________________________\n",
      "conv1d_2 (Conv1D)            (None, 6, 8)              392       \n",
      "_________________________________________________________________\n",
      "max_pooling1d_2 (MaxPooling1 (None, 3, 8)              0         \n",
      "_________________________________________________________________\n",
      "up_sampling1d_1 (UpSampling1 (None, 6, 8)              0         \n",
      "_________________________________________________________________\n",
      "conv1d_3 (Conv1D)            (None, 6, 8)              200       \n",
      "_________________________________________________________________\n",
      "up_sampling1d_2 (UpSampling1 (None, 12, 8)             0         \n",
      "_________________________________________________________________\n",
      "conv1d_4 (Conv1D)            (None, 12, 16)            400       \n",
      "_________________________________________________________________\n",
      "conv1d_5 (Conv1D)            (None, 12, 1)             49        \n",
      "=================================================================\n",
      "Total params: 1,105\n",
      "Trainable params: 1,105\n",
      "Non-trainable params: 0\n",
      "_________________________________________________________________\n"
     ]
    }
   ],
   "source": [
    "data=Input(shape=(sample_length,feature_dim ))\n",
    "x=GaussianNoise(0.01)(data)\n",
    "x=Conv1D(filters=16, kernel_size=3, padding='same', activation='relu',input_shape=(sample_length, feature_dim))(x)\n",
    "x=MaxPooling1D(pool_size=2)(x)\n",
    "x=Conv1D(filters=8, kernel_size=3, padding='same', activation='relu',input_shape=(sample_length//2,16))(x)\n",
    "encoded=MaxPooling1D(pool_size=2)(x)\n",
    "\n",
    "x=UpSampling1D(size=2)(encoded)\n",
    "x=Conv1D(filters=8, kernel_size=3, padding='same', activation='relu',input_shape=(sample_length//2,8))(x)\n",
    "x=UpSampling1D(size=2)(x)\n",
    "x=Conv1D(filters=16, kernel_size=3, padding='same', activation='relu',input_shape=(sample_length,8))(x)\n",
    "decoded=Conv1D(filters= feature_dim, kernel_size=3, padding='same', activation='sigmoid',input_shape=(sample_length,16))(x)\n",
    "       \n",
    "autoencoder   = Model(data, decoded)\n",
    "encoder_model = Model(data,encoded)\n",
    "autoencoder.compile(loss=\"mse\", optimizer='adam')\n",
    "autoencoder.summary()"
   ]
  },
  {
   "cell_type": "code",
   "execution_count": null,
   "metadata": {},
   "outputs": [
    {
     "name": "stdout",
     "output_type": "stream",
     "text": [
      "Train on 10333 samples, validate on 1149 samples\n",
      "Epoch 1/100\n"
     ]
    }
   ],
   "source": [
    "#early_stopping = EarlyStopping(monitor='val_loss', patience=10)\n",
    "#autoencoder.fit(alldata2,alldata2,epochs=100,batch_size=128,shuffle=True,validation_split=0.1,callbacks=[early_stopping])\n",
    "\n",
    "autoencoder.fit(alldata2,alldata2,epochs=100,batch_size=128,validation_split=0.1)"
   ]
  },
  {
   "cell_type": "code",
   "execution_count": 21,
   "metadata": {},
   "outputs": [],
   "source": [
    "from sklearn.svm import OneClassSVM,SVC\n",
    "from sklearn.model_selection import train_test_split\n",
    "from sklearn import metrics "
   ]
  },
  {
   "cell_type": "code",
   "execution_count": 180,
   "metadata": {},
   "outputs": [
    {
     "name": "stdout",
     "output_type": "stream",
     "text": [
      "(1016, 14)\n",
      "(1657, 14)\n",
      "(8809, 14)\n"
     ]
    }
   ],
   "source": [
    "true_data=pd.read_excel('out/one-class-svm/5wan_r50.xlsx',sheet_name='有矿')\n",
    "false_data=pd.read_excel('out/one-class-svm/5wan_r50.xlsx',sheet_name='无矿')\n",
    "unknown_data=pd.read_excel('out/one-class-svm/5wan_r50.xlsx',sheet_name='未知')\n",
    "print(true_data.shape)\n",
    "print(false_data.shape)\n",
    "print(unknown_data.shape)"
   ]
  },
  {
   "cell_type": "code",
   "execution_count": 181,
   "metadata": {},
   "outputs": [],
   "source": [
    "#采用原始数据\n",
    "# traindata=data.loc[true_label,:]\n",
    "traindata2=true_data.loc[:,['As','Sb','Bi','Co','Cu','Mo','Ni','Pb','W','Zn','Au','Ag']].values\n",
    "# false_data=data.loc[false_label,:]\n",
    "false_data2=false_data.loc[:,['As','Sb','Bi','Co','Cu','Mo','Ni','Pb','W','Zn','Au','Ag']].values\n",
    "# unknown_data1=data.loc[unknown,:]\n",
    "unknown_data2=unknown_data.loc[:,['As','Sb','Bi','Co','Cu','Mo','Ni','Pb','W','Zn','Au','Ag']].values\n",
    "from sklearn import preprocessing\n",
    "# scaler = preprocessing.MinMaxScaler() #min-max标准化\n",
    "scaler=preprocessing.StandardScaler()\n",
    "train_data2=scaler.fit_transform(traindata2)\n",
    "false_data2=scaler.fit_transform(false_data2)\n",
    "unknown_data2=scaler.fit_transform(unknown_data2)"
   ]
  },
  {
   "cell_type": "code",
   "execution_count": 197,
   "metadata": {},
   "outputs": [],
   "source": [
    "#采用压缩数据\n",
    "true_label=true_label\n",
    "false_label=false_label\n",
    "unknown=unknown\n",
    "alldata=np.load('out/one-class-svm/encoded_data1.npy')\n",
    "\n",
    "unknown_data1=np.array([alldata[i] for i in unknown])\n",
    "train_data1=np.array([alldata[i] for i in true_label])\n",
    "false_data1=np.array([alldata[i] for i in false_label])\n",
    "\n",
    "t_label=[1]*len(true_label)\n",
    "f_label=[-1]*len(false_label)"
   ]
  },
  {
   "cell_type": "code",
   "execution_count": 190,
   "metadata": {},
   "outputs": [
    {
     "data": {
      "text/plain": [
       "(914, 3)"
      ]
     },
     "execution_count": 190,
     "metadata": {},
     "output_type": "execute_result"
    }
   ],
   "source": [
    "train_data=train_data1\n",
    "x_train,x_test,y_train,y_test=train_test_split(train_data,t_label,test_size=0.1,random_state=1,stratify=t_label)\n",
    "# x_train,x_test,y_train,y_test=train_test_split(train_data,train_label1,train_size=1000,random_state=1)\n",
    "x_train.shape"
   ]
  },
  {
   "cell_type": "code",
   "execution_count": 191,
   "metadata": {
    "collapsed": true
   },
   "outputs": [
    {
     "name": "stdout",
     "output_type": "stream",
     "text": [
      "kernel: rbf gamma: 1e-10 Acc_score: 0.0\n",
      "kernel: rbf gamma: 1.3219411484660286e-10 Acc_score: 0.0\n",
      "kernel: rbf gamma: 1.747528400007683e-10 Acc_score: 0.0\n",
      "kernel: rbf gamma: 2.310129700083158e-10 Acc_score: 0.0\n",
      "kernel: rbf gamma: 3.0538555088334126e-10 Acc_score: 0.0\n",
      "kernel: rbf gamma: 4.03701725859655e-10 Acc_score: 0.0\n",
      "kernel: rbf gamma: 5.336699231206302e-10 Acc_score: 0.0\n",
      "kernel: rbf gamma: 7.054802310718631e-10 Acc_score: 0.0\n",
      "kernel: rbf gamma: 9.32603346883218e-10 Acc_score: 0.0\n",
      "kernel: rbf gamma: 1.2328467394420635e-09 Acc_score: 0.0\n",
      "kernel: rbf gamma: 1.6297508346206469e-09 Acc_score: 0.0\n",
      "kernel: rbf gamma: 2.1544346900318866e-09 Acc_score: 0.0\n",
      "kernel: rbf gamma: 2.848035868435805e-09 Acc_score: 0.0\n",
      "kernel: rbf gamma: 3.764935806792472e-09 Acc_score: 0.0\n",
      "kernel: rbf gamma: 4.977023564332114e-09 Acc_score: 0.0\n",
      "kernel: rbf gamma: 6.579332246575682e-09 Acc_score: 0.0\n",
      "kernel: rbf gamma: 8.697490026177834e-09 Acc_score: 0.0\n",
      "kernel: rbf gamma: 1.1497569953977357e-08 Acc_score: 0.0\n",
      "kernel: rbf gamma: 1.519911082952933e-08 Acc_score: 0.0\n",
      "kernel: rbf gamma: 2.009233002565046e-08 Acc_score: 0.0\n",
      "kernel: rbf gamma: 2.656087782946684e-08 Acc_score: 0.0\n",
      "kernel: rbf gamma: 3.5111917342151277e-08 Acc_score: 0.0\n",
      "kernel: rbf gamma: 4.641588833612782e-08 Acc_score: 0.0\n",
      "kernel: rbf gamma: 6.135907273413176e-08 Acc_score: 0.0\n",
      "kernel: rbf gamma: 8.111308307896873e-08 Acc_score: 0.0\n",
      "kernel: rbf gamma: 1.0722672220103232e-07 Acc_score: 0.0\n",
      "kernel: rbf gamma: 1.417474162926805e-07 Acc_score: 0.0\n",
      "kernel: rbf gamma: 1.8738174228603868e-07 Acc_score: 0.2059\n",
      "kernel: rbf gamma: 2.477076355991714e-07 Acc_score: 0.0\n",
      "kernel: rbf gamma: 3.2745491628777317e-07 Acc_score: 0.2941\n",
      "kernel: rbf gamma: 4.3287612810830616e-07 Acc_score: 0.3824\n",
      "kernel: rbf gamma: 5.722367659350221e-07 Acc_score: 0.3824\n",
      "kernel: rbf gamma: 7.564633275546291e-07 Acc_score: 0.4216\n",
      "kernel: rbf gamma: 1e-06 Acc_score: 0.4314\n",
      "kernel: rbf gamma: 1.3219411484660288e-06 Acc_score: 0.4314\n",
      "kernel: rbf gamma: 1.747528400007683e-06 Acc_score: 0.451\n",
      "kernel: rbf gamma: 2.310129700083158e-06 Acc_score: 0.4216\n",
      "kernel: rbf gamma: 3.0538555088334187e-06 Acc_score: 0.4314\n",
      "kernel: rbf gamma: 4.037017258596558e-06 Acc_score: 0.4314\n",
      "kernel: rbf gamma: 5.336699231206313e-06 Acc_score: 0.4314\n",
      "kernel: rbf gamma: 7.0548023107186455e-06 Acc_score: 0.4314\n",
      "kernel: rbf gamma: 9.3260334688322e-06 Acc_score: 0.4314\n",
      "kernel: rbf gamma: 1.2328467394420658e-05 Acc_score: 0.4314\n",
      "kernel: rbf gamma: 1.6297508346206434e-05 Acc_score: 0.7647\n",
      "kernel: rbf gamma: 2.1544346900318867e-05 Acc_score: 0.7647\n",
      "kernel: rbf gamma: 2.8480358684358048e-05 Acc_score: 0.8529\n",
      "kernel: rbf gamma: 3.7649358067924715e-05 Acc_score: 0.951\n",
      "kernel: rbf gamma: 4.977023564332114e-05 Acc_score: 0.951\n",
      "kernel: rbf gamma: 6.579332246575683e-05 Acc_score: 0.9314\n",
      "kernel: rbf gamma: 8.697490026177834e-05 Acc_score: 0.9314\n",
      "kernel: rbf gamma: 0.00011497569953977356 Acc_score: 0.9314\n",
      "kernel: rbf gamma: 0.0001519911082952933 Acc_score: 0.9314\n",
      "kernel: rbf gamma: 0.0002009233002565046 Acc_score: 0.9314\n",
      "kernel: rbf gamma: 0.0002656087782946689 Acc_score: 0.9314\n",
      "kernel: rbf gamma: 0.0003511191734215135 Acc_score: 0.9804\n",
      "kernel: rbf gamma: 0.0004641588833612782 Acc_score: 0.9804\n",
      "kernel: rbf gamma: 0.0006135907273413176 Acc_score: 0.9804\n",
      "kernel: rbf gamma: 0.0008111308307896872 Acc_score: 0.9804\n",
      "kernel: rbf gamma: 0.0010722672220103231 Acc_score: 0.9804\n",
      "kernel: rbf gamma: 0.0014174741629268048 Acc_score: 0.9804\n",
      "kernel: rbf gamma: 0.0018738174228603867 Acc_score: 0.9804\n",
      "kernel: rbf gamma: 0.002477076355991714 Acc_score: 0.9804\n",
      "kernel: rbf gamma: 0.0032745491628777316 Acc_score: 0.9804\n",
      "kernel: rbf gamma: 0.004328761281083062 Acc_score: 0.9804\n",
      "kernel: rbf gamma: 0.00572236765935022 Acc_score: 0.9804\n",
      "kernel: rbf gamma: 0.007564633275546291 Acc_score: 0.9804\n",
      "kernel: rbf gamma: 0.01 Acc_score: 0.9804\n",
      "kernel: rbf gamma: 0.013219411484660288 Acc_score: 0.9804\n",
      "kernel: rbf gamma: 0.017475284000076828 Acc_score: 0.9804\n",
      "kernel: rbf gamma: 0.02310129700083158 Acc_score: 0.9804\n",
      "kernel: rbf gamma: 0.030538555088334123 Acc_score: 0.9804\n",
      "kernel: rbf gamma: 0.040370172585965494 Acc_score: 0.9804\n",
      "kernel: rbf gamma: 0.053366992312063016 Acc_score: 0.9804\n",
      "kernel: rbf gamma: 0.0705480231071866 Acc_score: 0.9804\n",
      "kernel: rbf gamma: 0.09326033468832218 Acc_score: 0.9804\n",
      "kernel: rbf gamma: 0.12328467394420685 Acc_score: 0.9804\n",
      "kernel: rbf gamma: 0.16297508346206468 Acc_score: 0.9804\n",
      "kernel: rbf gamma: 0.21544346900318867 Acc_score: 0.9804\n",
      "kernel: rbf gamma: 0.2848035868435805 Acc_score: 0.9804\n",
      "kernel: rbf gamma: 0.37649358067924715 Acc_score: 0.9804\n",
      "kernel: rbf gamma: 0.49770235643321137 Acc_score: 0.9804\n",
      "kernel: rbf gamma: 0.6579332246575682 Acc_score: 0.9804\n",
      "kernel: rbf gamma: 0.8697490026177834 Acc_score: 0.9706\n",
      "kernel: rbf gamma: 1.1497569953977356 Acc_score: 0.9608\n",
      "kernel: rbf gamma: 1.5199110829529332 Acc_score: 0.9608\n",
      "kernel: rbf gamma: 2.009233002565046 Acc_score: 0.951\n",
      "kernel: rbf gamma: 2.656087782946684 Acc_score: 0.951\n",
      "kernel: rbf gamma: 3.5111917342151275 Acc_score: 0.951\n",
      "kernel: rbf gamma: 4.641588833612792 Acc_score: 0.9412\n",
      "kernel: rbf gamma: 6.1359072734131885 Acc_score: 0.9314\n",
      "kernel: rbf gamma: 8.11130830789689 Acc_score: 0.9216\n",
      "kernel: rbf gamma: 10.722672220103254 Acc_score: 0.8922\n",
      "kernel: rbf gamma: 14.174741629268077 Acc_score: 0.8824\n",
      "kernel: rbf gamma: 18.738174228603867 Acc_score: 0.8824\n",
      "kernel: rbf gamma: 24.77076355991714 Acc_score: 0.8627\n",
      "kernel: rbf gamma: 32.745491628777316 Acc_score: 0.8529\n",
      "kernel: rbf gamma: 43.287612810830616 Acc_score: 0.8431\n",
      "kernel: rbf gamma: 57.223676593502205 Acc_score: 0.8235\n",
      "kernel: rbf gamma: 75.64633275546291 Acc_score: 0.8039\n",
      "kernel: rbf gamma: 100.0 Acc_score: 0.8039\n"
     ]
    }
   ],
   "source": [
    "#交叉训练验证\n",
    "# kernel=['linear','rbf','sigmoid']\n",
    "kernel=['rbf']\n",
    "gammaList=np.logspace(-10,2,100)\n",
    "para=[]\n",
    "max_acc=0\n",
    "all_para=[]\n",
    "for gam in gammaList:\n",
    "    ocsvm= OneClassSVM(nu=0.01, kernel='rbf', gamma=gam).fit(x_train)\n",
    "    y_pred = ocsvm.predict(x_test) #测试集预测\n",
    "    acc_score = metrics.accuracy_score(y_test,y_pred)   #测试准确率\n",
    "    all_para.append([k,gam,round(acc_score,4)])\n",
    "    if acc_score > max_acc:\n",
    "        para=[k,gam]\n",
    "        max_acc=acc_score\n",
    "    print('kernel:',k,'gamma:',gam,'Acc_score:',round(acc_score,4))"
   ]
  },
  {
   "cell_type": "code",
   "execution_count": 203,
   "metadata": {},
   "outputs": [
    {
     "name": "stdout",
     "output_type": "stream",
     "text": [
      "['rbf', 0.0003511191734215135] 0.9803921568627451\n",
      "              precision    recall  f1-score   support\n",
      "\n",
      "          -1       0.00      0.00      0.00         0\n",
      "           1       1.00      0.98      0.99       102\n",
      "\n",
      "   micro avg       0.98      0.98      0.98       102\n",
      "   macro avg       0.50      0.49      0.50       102\n",
      "weighted avg       1.00      0.98      0.99       102\n",
      "\n",
      "acc: 0.9803921568627451\n"
     ]
    },
    {
     "name": "stderr",
     "output_type": "stream",
     "text": [
      "E:\\Anaconda\\lib\\site-packages\\sklearn\\metrics\\classification.py:1145: UndefinedMetricWarning: Recall and F-score are ill-defined and being set to 0.0 in labels with no true samples.\n",
      "  'recall', 'true', average, warn_for)\n"
     ]
    }
   ],
   "source": [
    "#测试集验证\n",
    "print(para,max_acc)\n",
    "k,gam=para[0:2]\n",
    "ocsvm = OneClassSVM(nu=0.01,kernel=k,gamma=gam).fit(x_train)\n",
    "y_pred = ocsvm.predict(x_test)\n",
    "class_report=metrics.classification_report(y_test,y_pred)\n",
    "acc=metrics.accuracy_score(y_test,y_pred)\n",
    "print(metrics.classification_report(y_test,y_pred))\n",
    "print('acc:',metrics.accuracy_score(y_test,y_pred))\n"
   ]
  },
  {
   "cell_type": "code",
   "execution_count": 205,
   "metadata": {},
   "outputs": [
    {
     "name": "stdout",
     "output_type": "stream",
     "text": [
      "              precision    recall  f1-score   support\n",
      "\n",
      "          -1       1.00      0.03      0.05      1657\n",
      "           1       0.00      0.00      0.00         0\n",
      "\n",
      "   micro avg       0.03      0.03      0.03      1657\n",
      "   macro avg       0.50      0.01      0.03      1657\n",
      "weighted avg       1.00      0.03      0.05      1657\n",
      "\n",
      "acc: 0.02715751357875679\n",
      "0.02715751357875679\n",
      "[1 1 1 ... 1 1 1]\n"
     ]
    },
    {
     "name": "stderr",
     "output_type": "stream",
     "text": [
      "E:\\Anaconda\\lib\\site-packages\\sklearn\\metrics\\classification.py:1145: UndefinedMetricWarning: Recall and F-score are ill-defined and being set to 0.0 in labels with no true samples.\n",
      "  'recall', 'true', average, warn_for)\n"
     ]
    }
   ],
   "source": [
    "#对负样本测试\n",
    "# k,gam=para[0:2]\n",
    "# ocsvm = OneClassSVM(nu=0.01,kernel=k,gamma=gam).fit(x_train)\n",
    "f_pred = ocsvm.predict(false_data1)\n",
    "class_report=metrics.classification_report(f_label,f_pred)\n",
    "acc=metrics.accuracy_score(f_label,f_pred)\n",
    "print(metrics.classification_report(f_label,f_pred))\n",
    "print('acc:',metrics.accuracy_score(f_label,f_pred))\n",
    "print(f_pred)"
   ]
  },
  {
   "cell_type": "code",
   "execution_count": 175,
   "metadata": {},
   "outputs": [
    {
     "name": "stdout",
     "output_type": "stream",
     "text": [
      "8809\n",
      "Yes! it is\n"
     ]
    },
    {
     "data": {
      "text/plain": [
       "[<matplotlib.lines.Line2D at 0x23ab37d8d30>]"
      ]
     },
     "execution_count": 175,
     "metadata": {},
     "output_type": "execute_result"
    },
    {
     "data": {
      "image/png": "[encoded data removed]",
      "text/plain": [
       "<Figure size 432x288 with 1 Axes>"
      ]
     },
     "metadata": {
      "needs_background": "light"
     },
     "output_type": "display_data"
    }
   ],
   "source": [
    "#对未知样本预测\n",
    "k,gam=para[0:2]\n",
    "ocsvm = OneClassSVM(nu=0.01,kernel=k,gamma=gam).fit(x_train)\n",
    "y_pred = ocsvm.predict(unknown_data)\n",
    "print(len(y_pred))\n",
    "if 1 in y_pred:\n",
    "    print('Yes! it is')\n",
    "else:\n",
    "    print('No,cannot find target')\n",
    "pre_true=[]\n",
    "pre_false=[]\n",
    "for i in range(len(y_pred)):\n",
    "    if y_pred[i]==1:\n",
    "        pre_true.append(unknown[i])\n",
    "    else:\n",
    "        pre_false.append(unknown[i])\n",
    "pretrue_data=data.loc[pre_true,:]\n",
    "prefalse_data=data.loc[pre_false,:]\n",
    "data4=pd.DataFrame(pretrue_data)\n",
    "data5=pd.DataFrame(prefalse_data)\n",
    "with pd.ExcelWriter('out/one-class-svm/encoded.xlsx') as writer:\n",
    "    data4.to_excel(writer,sheet_name='预测有矿')\n",
    "    data5.to_excel(writer,sheet_name='预测无矿')\n",
    "import matplotlib.pyplot as plt\n",
    "plt.plot(y_pred)"
   ]
  },
  {
   "cell_type": "code",
   "execution_count": 176,
   "metadata": {},
   "outputs": [
    {
     "data": {
      "image/png": "[encoded data removed]",
      "text/plain": [
       "<Figure size 432x288 with 1 Axes>"
      ]
     },
     "metadata": {
      "needs_background": "light"
     },
     "output_type": "display_data"
    },
    {
     "data": {
      "text/plain": [
       "<Figure size 432x288 with 0 Axes>"
      ]
     },
     "metadata": {},
     "output_type": "display_data"
    }
   ],
   "source": [
    "import matplotlib.pyplot as plt\n",
    "x=[all_para[i][1] for i in range(len(all_para) )]\n",
    "y=[all_para[i][2] for i in range(len(all_para) )]\n",
    "plt.plot(y)\n",
    "plt.title('result')\n",
    "plt.xlabel('gamma')\n",
    "plt.ylabel('accuracy')\n",
    "plt.show()\n",
    "plt.savefig('out/one-class svm/unencoded_gamma.fig')"
   ]
  },
  {
   "cell_type": "code",
   "execution_count": null,
   "metadata": {},
   "outputs": [],
   "source": []
  },
  {
   "cell_type": "code",
   "execution_count": null,
   "metadata": {},
   "outputs": [],
   "source": []
  }
 ],
 "metadata": {
  "kernelspec": {
   "display_name": "Python 3",
   "language": "python",
   "name": "python3"
  },
  "language_info": {
   "codemirror_mode": {
    "name": "ipython",
    "version": 3
   },
   "file_extension": ".py",
   "mimetype": "text/x-python",
   "name": "python",
   "nbconvert_exporter": "python",
   "pygments_lexer": "ipython3",
   "version": "3.7.11"
  }
 },
 "nbformat": 4,
 "nbformat_minor": 2
}
