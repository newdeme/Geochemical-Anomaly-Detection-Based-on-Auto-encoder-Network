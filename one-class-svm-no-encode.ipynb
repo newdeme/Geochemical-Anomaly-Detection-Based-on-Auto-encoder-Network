{
 "cells": [
  {
   "cell_type": "code",
   "execution_count": 1,
   "metadata": {},
   "outputs": [
    {
     "name": "stdout",
     "output_type": "stream",
     "text": [
      "         Y        X     As    Sb    Bi    Co    Cu    Mo    Ni    Pb     W  \\\n",
      "0  10465.8  76750.4  25.20  4.09  0.31  12.9  23.1  0.55  26.9  18.9  2.31   \n",
      "1  10463.4  76746.2   9.42  0.90  0.32  13.8  28.2  1.18  26.9  45.5  3.96   \n",
      "2  10475.2  76741.6  19.20  5.35  0.32  12.8  26.8  0.75  26.5  29.0  7.34   \n",
      "3  10494.2  76753.8  26.80  4.84  0.32  14.7  26.4  0.53  29.9  21.0  2.41   \n",
      "4  10490.8  76744.8   9.27  0.88  0.34  14.6  27.8  0.66  31.4  32.8  5.90   \n",
      "\n",
      "     Zn    Au    Ag  \n",
      "0  63.3  1.66  0.10  \n",
      "1  65.2  1.22  0.09  \n",
      "2  68.6  0.42  0.07  \n",
      "3  78.1  0.88  0.07  \n",
      "4  75.0  0.30  0.09  \n",
      "         Y        X  label\n",
      "0  11053.0  76516.0      6\n",
      "1  11054.4  76516.2      6\n",
      "2  11056.0  76512.5      6\n",
      "3  11057.7  76512.8      6\n",
      "4  11059.4  76513.0      6\n"
     ]
    }
   ],
   "source": [
    "import pandas as pd\n",
    "import numpy as np\n",
    "\n",
    "file_path='./data/5万水系.xlsx'\n",
    "file_path1='./data/钻孔坐标.xlsx'\n",
    "data=pd.read_excel(file_path,sheet_name='Sheet1')\n",
    "zk=pd.read_excel(file_path1,sheet_name='Sheet2')\n",
    "print(data.head())\n",
    "print(zk.head())\n",
    "\n"
   ]
  },
  {
   "cell_type": "code",
   "execution_count": 2,
   "metadata": {},
   "outputs": [],
   "source": [
    "alldata=data.loc[:,['As','Sb','Bi','Co','Cu','Mo','Ni','Pb','W','Zn','Au','Ag']].values\n",
    "\n",
    "from sklearn import preprocessing\n",
    "scaler = preprocessing.MinMaxScaler() #min-max标准化\n",
    "alldata1=scaler.fit_transform(alldata)\n",
    "\n"
   ]
  },
  {
   "cell_type": "code",
   "execution_count": 455,
   "metadata": {},
   "outputs": [],
   "source": [
    "zk_loc=zk.loc[:,['Y','X']].values\n",
    "data_loc=data.loc[:,['Y','X']].values    \n",
    "zk_loc1=zk_loc\n",
    "data_loc1=data_loc\n",
    "R=np.array(50)#距离半径为50\n",
    "true_label=[]\n",
    "false_label=[]\n",
    "unknown=[]\n",
    "zk_label=zk['label'].values\n",
    "zk_label1=np.array([1 if i==6 else 0 for i in zk_label])\n",
    "for i in range(len(data_loc1)):\n",
    "    loc=data_loc1[i]\n",
    "    dist={}\n",
    "    for j in range(len(zk_loc1)):\n",
    "        dist[j]=np.linalg.norm(loc-zk_loc1[j])\n",
    "    minv=min(dist.values())\n",
    "    k=[i for i in dist if dist[i]==minv ]\n",
    "    if minv>R:\n",
    "        unknown.append(i)\n",
    "    else:\n",
    "        bl=0\n",
    "        for m in k:\n",
    "            if zk_label1[m]==1:\n",
    "                bl=1\n",
    "                break\n",
    "        if bl:\n",
    "            true_label.append(i)\n",
    "        else:\n",
    "            false_label.append(i)"
   ]
  },
  {
   "cell_type": "code",
   "execution_count": 456,
   "metadata": {},
   "outputs": [],
   "source": [
    "data_true=data.loc[true_label,:]\n",
    "data_false=data.loc[false_label,:]\n",
    "data_unknown=data.loc[unknown,:]\n",
    "#print(data_true.shape)\n",
    "#print(data_false.shape)\n",
    "#print(data_unknown.shape)\n",
    "\n",
    "data1=pd.DataFrame(data_true)\n",
    "data2=pd.DataFrame(data_false)\n",
    "data3=pd.DataFrame(data_unknown)\n",
    "with pd.ExcelWriter('out/one-class-svm/5wan_r50.xlsx') as writer:\n",
    "    data1.to_excel(writer,sheet_name='有矿')\n",
    "    data2.to_excel(writer,sheet_name='无矿')\n",
    "    data3.to_excel(writer,sheet_name='未知')"
   ]
  },
  {
   "cell_type": "code",
   "execution_count": 457,
   "metadata": {},
   "outputs": [
    {
     "name": "stdout",
     "output_type": "stream",
     "text": [
      "(442, 14)\n",
      "(678, 14)\n",
      "(10362, 14)\n"
     ]
    }
   ],
   "source": [
    "#导入保存数据\n",
    "true_data=pd.read_excel('out/one-class-svm/5wan_r50.xlsx',sheet_name='有矿')\n",
    "false_data=pd.read_excel('out/one-class-svm/5wan_r50.xlsx',sheet_name='无矿')\n",
    "unknown_data=pd.read_excel('out/one-class-svm/5wan_r50.xlsx',sheet_name='未知')\n",
    "print(true_data.shape)\n",
    "print(false_data.shape)\n",
    "print(unknown_data.shape)"
   ]
  },
  {
   "cell_type": "code",
   "execution_count": 458,
   "metadata": {},
   "outputs": [],
   "source": [
    "# #采用原始数据\n",
    "# # traindata=data.loc[true_label,:]\n",
    "# traindata2=true_data.loc[:,['As','Sb','Bi','Co','Cu','Mo','Ni','Pb','W','Zn','Au','Ag']].values\n",
    "# # false_data=data.loc[false_label,:]\n",
    "# false_data2=false_data.loc[:,['As','Sb','Bi','Co','Cu','Mo','Ni','Pb','W','Zn','Au','Ag']].values\n",
    "# # unknown_data1=data.loc[unknown,:]\n",
    "# unknown_data2=unknown_data.loc[:,['As','Sb','Bi','Co','Cu','Mo','Ni','Pb','W','Zn','Au','Ag']].values\n",
    "# from sklearn import preprocessing\n",
    "# # scaler = preprocessing.MinMaxScaler() #min-max标准化\n",
    "# scaler=preprocessing.StandardScaler()\n",
    "# train_data2=scaler.fit_transform(traindata2)\n",
    "# false_data2=scaler.fit_transform(false_data2)\n",
    "# unknown_data2=scaler.fit_transform(unknown_data2)"
   ]
  },
  {
   "cell_type": "code",
   "execution_count": 459,
   "metadata": {},
   "outputs": [
    {
     "name": "stdout",
     "output_type": "stream",
     "text": [
      "(442, 3)\n",
      "(678, 3)\n"
     ]
    }
   ],
   "source": [
    "#采用压缩数据\n",
    "true_label=true_label\n",
    "false_label=false_label\n",
    "unknown=unknown\n",
    "\n",
    "alldata=np.load('out/one-class-svm/encoded_data1.npy')\n",
    "\n",
    "unknown_data1=np.array([alldata[i] for i in unknown])\n",
    "train_data1=np.array([alldata[i] for i in true_label])\n",
    "false_data1=np.array([alldata[i] for i in false_label])\n",
    "\n",
    "t_label=[-1]*len(true_label)\n",
    "f_label=[1]*len(false_label)\n",
    "print(train_data1.shape)\n",
    "print(false_data1.shape)"
   ]
  },
  {
   "cell_type": "code",
   "execution_count": 460,
   "metadata": {},
   "outputs": [],
   "source": [
    "#创建数据集\n",
    "import random\n",
    "def ceate_data(rate,false_data1,train_data1):\n",
    "    fn=false_data1.shape[0]\n",
    "    tn=train_data1.shape[0]\n",
    "    leng=int(fn//(1-rate))\n",
    "    m=int(leng-fn)\n",
    "    lis=random.sample(range(0,tn),m)\n",
    "    train_data3=np.concatenate([false_data1,[train_data1[i] for i in lis]])\n",
    "    t_label3=np.array([1]*fn+[-1]*m)\n",
    "    np.random.seed(116)\n",
    "    np.random.shuffle(train_data3) \n",
    "    np.random.seed(116)\n",
    "    np.random.shuffle(t_label3)\n",
    "    return train_data3,t_label3\n"
   ]
  },
  {
   "cell_type": "code",
   "execution_count": 461,
   "metadata": {},
   "outputs": [],
   "source": [
    "outlier_rate=outlier_rate=[0.01,0.03,0.05,0.1,0.15]\n",
    "rate=outlier_rate[0]\n",
    "# print(train_data.shape)\n",
    "# print(train_label.shape)\n",
    "\n",
    "#x_train,x_test,y_train,y_test=train_test_split(train_data,train_label,test_size=0.2,random_state=1,stratify=train_label)\n",
    "# print(x_train.shape)\n",
    "# print(x_test.shape)\n",
    "\n",
    "# plt.plot(train_label)"
   ]
  },
  {
   "cell_type": "code",
   "execution_count": 446,
   "metadata": {},
   "outputs": [],
   "source": [
    "import os\n",
    "os.environ['CUDA_VISIBLE_DEVICES'] = '0'"
   ]
  },
  {
   "cell_type": "code",
   "execution_count": 447,
   "metadata": {},
   "outputs": [],
   "source": [
    "from sklearn.svm import OneClassSVM\n",
    "from sklearn.model_selection import train_test_split\n",
    "from sklearn import metrics\n",
    "#train_data=train_data1\n",
    "#train_label=t_label\n"
   ]
  },
  {
   "cell_type": "code",
   "execution_count": 482,
   "metadata": {
    "scrolled": true
   },
   "outputs": [
    {
     "name": "stdout",
     "output_type": "stream",
     "text": [
      "nu: 0.01 gamma: 1e-10 test_acc: 0.3946\n",
      "nu: 0.01 gamma: 3.792690190732254e-10 test_acc: 0.3946\n",
      "nu: 0.01 gamma: 1.4384498882876659e-09 test_acc: 0.3946\n",
      "nu: 0.01 gamma: 5.455594781168515e-09 test_acc: 0.3946\n",
      "nu: 0.01 gamma: 2.0691380811147902e-08 test_acc: 0.3946\n",
      "nu: 0.01 gamma: 7.847599703514623e-08 test_acc: 0.3946\n",
      "nu: 0.01 gamma: 2.976351441631319e-07 test_acc: 0.4179\n",
      "nu: 0.01 gamma: 1.1288378916846883e-06 test_acc: 0.4241\n",
      "nu: 0.01 gamma: 4.281332398719396e-06 test_acc: 0.4616\n",
      "nu: 0.01 gamma: 1.6237767391887242e-05 test_acc: 0.6009\n",
      "nu: 0.01 gamma: 6.158482110660267e-05 test_acc: 0.6009\n",
      "nu: 0.01 gamma: 0.00023357214690901214 test_acc: 0.6009\n",
      "nu: 0.01 gamma: 0.0008858667904100832 test_acc: 0.6\n",
      "nu: 0.01 gamma: 0.003359818286283788 test_acc: 0.6\n",
      "nu: 0.01 gamma: 0.012742749857031322 test_acc: 0.6\n",
      "nu: 0.01 gamma: 0.04832930238571752 test_acc: 0.6\n",
      "nu: 0.01 gamma: 0.18329807108324375 test_acc: 0.6018\n",
      "nu: 0.01 gamma: 0.6951927961775619 test_acc: 0.6062\n",
      "nu: 0.01 gamma: 2.636650898730366 test_acc: 0.608\n",
      "nu: 0.01 gamma: 10.0 test_acc: 0.6125\n",
      "nu: 0.06210526315789474 gamma: 1e-10 test_acc: 0.3946\n",
      "nu: 0.06210526315789474 gamma: 3.792690190732254e-10 test_acc: 0.3946\n",
      "nu: 0.06210526315789474 gamma: 1.4384498882876659e-09 test_acc: 0.3946\n",
      "nu: 0.06210526315789474 gamma: 5.455594781168515e-09 test_acc: 0.3946\n",
      "nu: 0.06210526315789474 gamma: 2.0691380811147902e-08 test_acc: 0.3946\n",
      "nu: 0.06210526315789474 gamma: 7.847599703514623e-08 test_acc: 0.3946\n",
      "nu: 0.06210526315789474 gamma: 2.976351441631319e-07 test_acc: 0.3946\n",
      "nu: 0.06210526315789474 gamma: 1.1288378916846883e-06 test_acc: 0.4\n",
      "nu: 0.06210526315789474 gamma: 4.281332398719396e-06 test_acc: 0.4071\n",
      "nu: 0.06210526315789474 gamma: 1.6237767391887242e-05 test_acc: 0.5848\n",
      "nu: 0.06210526315789474 gamma: 6.158482110660267e-05 test_acc: 0.5848\n",
      "nu: 0.06210526315789474 gamma: 0.00023357214690901214 test_acc: 0.5848\n",
      "nu: 0.06210526315789474 gamma: 0.0008858667904100832 test_acc: 0.583\n",
      "nu: 0.06210526315789474 gamma: 0.003359818286283788 test_acc: 0.5839\n",
      "nu: 0.06210526315789474 gamma: 0.012742749857031322 test_acc: 0.5839\n",
      "nu: 0.06210526315789474 gamma: 0.04832930238571752 test_acc: 0.5821\n",
      "nu: 0.06210526315789474 gamma: 0.18329807108324375 test_acc: 0.5795\n",
      "nu: 0.06210526315789474 gamma: 0.6951927961775619 test_acc: 0.5857\n",
      "nu: 0.06210526315789474 gamma: 2.636650898730366 test_acc: 0.5848\n",
      "nu: 0.06210526315789474 gamma: 10.0 test_acc: 0.583\n",
      "nu: 0.11421052631578947 gamma: 1e-10 test_acc: 0.3946\n",
      "nu: 0.11421052631578947 gamma: 3.792690190732254e-10 test_acc: 0.3946\n",
      "nu: 0.11421052631578947 gamma: 1.4384498882876659e-09 test_acc: 0.3946\n",
      "nu: 0.11421052631578947 gamma: 5.455594781168515e-09 test_acc: 0.3946\n",
      "nu: 0.11421052631578947 gamma: 2.0691380811147902e-08 test_acc: 0.3946\n",
      "nu: 0.11421052631578947 gamma: 7.847599703514623e-08 test_acc: 0.3946\n",
      "nu: 0.11421052631578947 gamma: 2.976351441631319e-07 test_acc: 0.5009\n",
      "nu: 0.11421052631578947 gamma: 1.1288378916846883e-06 test_acc: 0.5089\n",
      "nu: 0.11421052631578947 gamma: 4.281332398719396e-06 test_acc: 0.4911\n",
      "nu: 0.11421052631578947 gamma: 1.6237767391887242e-05 test_acc: 0.5455\n",
      "nu: 0.11421052631578947 gamma: 6.158482110660267e-05 test_acc: 0.5714\n",
      "nu: 0.11421052631578947 gamma: 0.00023357214690901214 test_acc: 0.5714\n",
      "nu: 0.11421052631578947 gamma: 0.0008858667904100832 test_acc: 0.5714\n",
      "nu: 0.11421052631578947 gamma: 0.003359818286283788 test_acc: 0.5714\n",
      "nu: 0.11421052631578947 gamma: 0.012742749857031322 test_acc: 0.5714\n",
      "nu: 0.11421052631578947 gamma: 0.04832930238571752 test_acc: 0.5705\n",
      "nu: 0.11421052631578947 gamma: 0.18329807108324375 test_acc: 0.5688\n",
      "nu: 0.11421052631578947 gamma: 0.6951927961775619 test_acc: 0.567\n",
      "nu: 0.11421052631578947 gamma: 2.636650898730366 test_acc: 0.5634\n",
      "nu: 0.11421052631578947 gamma: 10.0 test_acc: 0.5723\n",
      "nu: 0.16631578947368422 gamma: 1e-10 test_acc: 0.3946\n",
      "nu: 0.16631578947368422 gamma: 3.792690190732254e-10 test_acc: 0.3946\n",
      "nu: 0.16631578947368422 gamma: 1.4384498882876659e-09 test_acc: 0.3946\n",
      "nu: 0.16631578947368422 gamma: 5.455594781168515e-09 test_acc: 0.3946\n",
      "nu: 0.16631578947368422 gamma: 2.0691380811147902e-08 test_acc: 0.3946\n",
      "nu: 0.16631578947368422 gamma: 7.847599703514623e-08 test_acc: 0.3946\n",
      "nu: 0.16631578947368422 gamma: 2.976351441631319e-07 test_acc: 0.3946\n",
      "nu: 0.16631578947368422 gamma: 1.1288378916846883e-06 test_acc: 0.3982\n",
      "nu: 0.16631578947368422 gamma: 4.281332398719396e-06 test_acc: 0.442\n",
      "nu: 0.16631578947368422 gamma: 1.6237767391887242e-05 test_acc: 0.5446\n",
      "nu: 0.16631578947368422 gamma: 6.158482110660267e-05 test_acc: 0.5455\n",
      "nu: 0.16631578947368422 gamma: 0.00023357214690901214 test_acc: 0.5446\n",
      "nu: 0.16631578947368422 gamma: 0.0008858667904100832 test_acc: 0.5446\n",
      "nu: 0.16631578947368422 gamma: 0.003359818286283788 test_acc: 0.5446\n",
      "nu: 0.16631578947368422 gamma: 0.012742749857031322 test_acc: 0.5446\n",
      "nu: 0.16631578947368422 gamma: 0.04832930238571752 test_acc: 0.5446\n",
      "nu: 0.16631578947368422 gamma: 0.18329807108324375 test_acc: 0.5455\n",
      "nu: 0.16631578947368422 gamma: 0.6951927961775619 test_acc: 0.5429\n",
      "nu: 0.16631578947368422 gamma: 2.636650898730366 test_acc: 0.5527\n",
      "nu: 0.16631578947368422 gamma: 10.0 test_acc: 0.5625\n",
      "nu: 0.21842105263157896 gamma: 1e-10 test_acc: 0.3946\n",
      "nu: 0.21842105263157896 gamma: 3.792690190732254e-10 test_acc: 0.3946\n",
      "nu: 0.21842105263157896 gamma: 1.4384498882876659e-09 test_acc: 0.3946\n",
      "nu: 0.21842105263157896 gamma: 5.455594781168515e-09 test_acc: 0.3946\n",
      "nu: 0.21842105263157896 gamma: 2.0691380811147902e-08 test_acc: 0.3946\n",
      "nu: 0.21842105263157896 gamma: 7.847599703514623e-08 test_acc: 0.3946\n",
      "nu: 0.21842105263157896 gamma: 2.976351441631319e-07 test_acc: 0.3946\n",
      "nu: 0.21842105263157896 gamma: 1.1288378916846883e-06 test_acc: 0.3938\n",
      "nu: 0.21842105263157896 gamma: 4.281332398719396e-06 test_acc: 0.525\n",
      "nu: 0.21842105263157896 gamma: 1.6237767391887242e-05 test_acc: 0.5223\n",
      "nu: 0.21842105263157896 gamma: 6.158482110660267e-05 test_acc: 0.5232\n",
      "nu: 0.21842105263157896 gamma: 0.00023357214690901214 test_acc: 0.5223\n",
      "nu: 0.21842105263157896 gamma: 0.0008858667904100832 test_acc: 0.5223\n",
      "nu: 0.21842105263157896 gamma: 0.003359818286283788 test_acc: 0.5223\n",
      "nu: 0.21842105263157896 gamma: 0.012742749857031322 test_acc: 0.5223\n",
      "nu: 0.21842105263157896 gamma: 0.04832930238571752 test_acc: 0.5214\n",
      "nu: 0.21842105263157896 gamma: 0.18329807108324375 test_acc: 0.5214\n",
      "nu: 0.21842105263157896 gamma: 0.6951927961775619 test_acc: 0.5205\n",
      "nu: 0.21842105263157896 gamma: 2.636650898730366 test_acc: 0.5402\n",
      "nu: 0.21842105263157896 gamma: 10.0 test_acc: 0.5455\n",
      "nu: 0.2705263157894737 gamma: 1e-10 test_acc: 0.3946\n",
      "nu: 0.2705263157894737 gamma: 3.792690190732254e-10 test_acc: 0.3946\n",
      "nu: 0.2705263157894737 gamma: 1.4384498882876659e-09 test_acc: 0.3946\n",
      "nu: 0.2705263157894737 gamma: 5.455594781168515e-09 test_acc: 0.3946\n",
      "nu: 0.2705263157894737 gamma: 2.0691380811147902e-08 test_acc: 0.3946\n",
      "nu: 0.2705263157894737 gamma: 7.847599703514623e-08 test_acc: 0.567\n",
      "nu: 0.2705263157894737 gamma: 2.976351441631319e-07 test_acc: 0.5759\n",
      "nu: 0.2705263157894737 gamma: 1.1288378916846883e-06 test_acc: 0.4946\n",
      "nu: 0.2705263157894737 gamma: 4.281332398719396e-06 test_acc: 0.5107\n",
      "nu: 0.2705263157894737 gamma: 1.6237767391887242e-05 test_acc: 0.5089\n",
      "nu: 0.2705263157894737 gamma: 6.158482110660267e-05 test_acc: 0.5089\n",
      "nu: 0.2705263157894737 gamma: 0.00023357214690901214 test_acc: 0.5089\n",
      "nu: 0.2705263157894737 gamma: 0.0008858667904100832 test_acc: 0.5089\n",
      "nu: 0.2705263157894737 gamma: 0.003359818286283788 test_acc: 0.5089\n",
      "nu: 0.2705263157894737 gamma: 0.012742749857031322 test_acc: 0.5089\n",
      "nu: 0.2705263157894737 gamma: 0.04832930238571752 test_acc: 0.508\n",
      "nu: 0.2705263157894737 gamma: 0.18329807108324375 test_acc: 0.5098\n",
      "nu: 0.2705263157894737 gamma: 0.6951927961775619 test_acc: 0.5098\n",
      "nu: 0.2705263157894737 gamma: 2.636650898730366 test_acc: 0.5232\n",
      "nu: 0.2705263157894737 gamma: 10.0 test_acc: 0.5375\n",
      "nu: 0.32263157894736844 gamma: 1e-10 test_acc: 0.3946\n",
      "nu: 0.32263157894736844 gamma: 3.792690190732254e-10 test_acc: 0.3946\n",
      "nu: 0.32263157894736844 gamma: 1.4384498882876659e-09 test_acc: 0.3946\n",
      "nu: 0.32263157894736844 gamma: 5.455594781168515e-09 test_acc: 0.3946\n",
      "nu: 0.32263157894736844 gamma: 2.0691380811147902e-08 test_acc: 0.3946\n",
      "nu: 0.32263157894736844 gamma: 7.847599703514623e-08 test_acc: 0.4375\n"
     ]
    },
    {
     "name": "stdout",
     "output_type": "stream",
     "text": [
      "nu: 0.32263157894736844 gamma: 2.976351441631319e-07 test_acc: 0.4875\n",
      "nu: 0.32263157894736844 gamma: 1.1288378916846883e-06 test_acc: 0.4982\n",
      "nu: 0.32263157894736844 gamma: 4.281332398719396e-06 test_acc: 0.4759\n",
      "nu: 0.32263157894736844 gamma: 1.6237767391887242e-05 test_acc: 0.4964\n",
      "nu: 0.32263157894736844 gamma: 6.158482110660267e-05 test_acc: 0.4964\n",
      "nu: 0.32263157894736844 gamma: 0.00023357214690901214 test_acc: 0.4964\n",
      "nu: 0.32263157894736844 gamma: 0.0008858667904100832 test_acc: 0.4964\n",
      "nu: 0.32263157894736844 gamma: 0.003359818286283788 test_acc: 0.4964\n",
      "nu: 0.32263157894736844 gamma: 0.012742749857031322 test_acc: 0.4964\n",
      "nu: 0.32263157894736844 gamma: 0.04832930238571752 test_acc: 0.4955\n",
      "nu: 0.32263157894736844 gamma: 0.18329807108324375 test_acc: 0.4964\n",
      "nu: 0.32263157894736844 gamma: 0.6951927961775619 test_acc: 0.4938\n",
      "nu: 0.32263157894736844 gamma: 2.636650898730366 test_acc: 0.5027\n",
      "nu: 0.32263157894736844 gamma: 10.0 test_acc: 0.533\n",
      "nu: 0.37473684210526315 gamma: 1e-10 test_acc: 0.3946\n",
      "nu: 0.37473684210526315 gamma: 3.792690190732254e-10 test_acc: 0.3946\n",
      "nu: 0.37473684210526315 gamma: 1.4384498882876659e-09 test_acc: 0.3946\n",
      "nu: 0.37473684210526315 gamma: 5.455594781168515e-09 test_acc: 0.3946\n",
      "nu: 0.37473684210526315 gamma: 2.0691380811147902e-08 test_acc: 0.3946\n",
      "nu: 0.37473684210526315 gamma: 7.847599703514623e-08 test_acc: 0.3946\n",
      "nu: 0.37473684210526315 gamma: 2.976351441631319e-07 test_acc: 0.4018\n",
      "nu: 0.37473684210526315 gamma: 1.1288378916846883e-06 test_acc: 0.4268\n",
      "nu: 0.37473684210526315 gamma: 4.281332398719396e-06 test_acc: 0.425\n",
      "nu: 0.37473684210526315 gamma: 1.6237767391887242e-05 test_acc: 0.4839\n",
      "nu: 0.37473684210526315 gamma: 6.158482110660267e-05 test_acc: 0.4848\n",
      "nu: 0.37473684210526315 gamma: 0.00023357214690901214 test_acc: 0.4848\n",
      "nu: 0.37473684210526315 gamma: 0.0008858667904100832 test_acc: 0.4857\n",
      "nu: 0.37473684210526315 gamma: 0.003359818286283788 test_acc: 0.4857\n",
      "nu: 0.37473684210526315 gamma: 0.012742749857031322 test_acc: 0.4848\n",
      "nu: 0.37473684210526315 gamma: 0.04832930238571752 test_acc: 0.4857\n",
      "nu: 0.37473684210526315 gamma: 0.18329807108324375 test_acc: 0.4884\n",
      "nu: 0.37473684210526315 gamma: 0.6951927961775619 test_acc: 0.4893\n",
      "nu: 0.37473684210526315 gamma: 2.636650898730366 test_acc: 0.4929\n",
      "nu: 0.37473684210526315 gamma: 10.0 test_acc: 0.5125\n",
      "nu: 0.4268421052631579 gamma: 1e-10 test_acc: 0.3946\n",
      "nu: 0.4268421052631579 gamma: 3.792690190732254e-10 test_acc: 0.3946\n",
      "nu: 0.4268421052631579 gamma: 1.4384498882876659e-09 test_acc: 0.3946\n",
      "nu: 0.4268421052631579 gamma: 5.455594781168515e-09 test_acc: 0.3946\n",
      "nu: 0.4268421052631579 gamma: 2.0691380811147902e-08 test_acc: 0.3946\n",
      "nu: 0.4268421052631579 gamma: 7.847599703514623e-08 test_acc: 0.4777\n",
      "nu: 0.4268421052631579 gamma: 2.976351441631319e-07 test_acc: 0.508\n",
      "nu: 0.4268421052631579 gamma: 1.1288378916846883e-06 test_acc: 0.5179\n",
      "nu: 0.4268421052631579 gamma: 4.281332398719396e-06 test_acc: 0.4393\n",
      "nu: 0.4268421052631579 gamma: 1.6237767391887242e-05 test_acc: 0.4804\n",
      "nu: 0.4268421052631579 gamma: 6.158482110660267e-05 test_acc: 0.4804\n",
      "nu: 0.4268421052631579 gamma: 0.00023357214690901214 test_acc: 0.4804\n",
      "nu: 0.4268421052631579 gamma: 0.0008858667904100832 test_acc: 0.4804\n",
      "nu: 0.4268421052631579 gamma: 0.003359818286283788 test_acc: 0.4795\n",
      "nu: 0.4268421052631579 gamma: 0.012742749857031322 test_acc: 0.4795\n",
      "nu: 0.4268421052631579 gamma: 0.04832930238571752 test_acc: 0.4804\n",
      "nu: 0.4268421052631579 gamma: 0.18329807108324375 test_acc: 0.4777\n",
      "nu: 0.4268421052631579 gamma: 0.6951927961775619 test_acc: 0.4839\n",
      "nu: 0.4268421052631579 gamma: 2.636650898730366 test_acc: 0.4884\n",
      "nu: 0.4268421052631579 gamma: 10.0 test_acc: 0.4884\n",
      "nu: 0.4789473684210527 gamma: 1e-10 test_acc: 0.3946\n",
      "nu: 0.4789473684210527 gamma: 3.792690190732254e-10 test_acc: 0.3946\n",
      "nu: 0.4789473684210527 gamma: 1.4384498882876659e-09 test_acc: 0.3946\n",
      "nu: 0.4789473684210527 gamma: 5.455594781168515e-09 test_acc: 0.3946\n",
      "nu: 0.4789473684210527 gamma: 2.0691380811147902e-08 test_acc: 0.3946\n",
      "nu: 0.4789473684210527 gamma: 7.847599703514623e-08 test_acc: 0.3946\n",
      "nu: 0.4789473684210527 gamma: 2.976351441631319e-07 test_acc: 0.3991\n",
      "nu: 0.4789473684210527 gamma: 1.1288378916846883e-06 test_acc: 0.4214\n",
      "nu: 0.4789473684210527 gamma: 4.281332398719396e-06 test_acc: 0.4232\n",
      "nu: 0.4789473684210527 gamma: 1.6237767391887242e-05 test_acc: 0.475\n",
      "nu: 0.4789473684210527 gamma: 6.158482110660267e-05 test_acc: 0.475\n",
      "nu: 0.4789473684210527 gamma: 0.00023357214690901214 test_acc: 0.475\n",
      "nu: 0.4789473684210527 gamma: 0.0008858667904100832 test_acc: 0.475\n",
      "nu: 0.4789473684210527 gamma: 0.003359818286283788 test_acc: 0.475\n",
      "nu: 0.4789473684210527 gamma: 0.012742749857031322 test_acc: 0.4741\n",
      "nu: 0.4789473684210527 gamma: 0.04832930238571752 test_acc: 0.475\n",
      "nu: 0.4789473684210527 gamma: 0.18329807108324375 test_acc: 0.4759\n",
      "nu: 0.4789473684210527 gamma: 0.6951927961775619 test_acc: 0.4795\n",
      "nu: 0.4789473684210527 gamma: 2.636650898730366 test_acc: 0.4839\n",
      "nu: 0.4789473684210527 gamma: 10.0 test_acc: 0.4804\n",
      "nu: 0.5310526315789474 gamma: 1e-10 test_acc: 0.3946\n",
      "nu: 0.5310526315789474 gamma: 3.792690190732254e-10 test_acc: 0.3946\n",
      "nu: 0.5310526315789474 gamma: 1.4384498882876659e-09 test_acc: 0.3946\n",
      "nu: 0.5310526315789474 gamma: 5.455594781168515e-09 test_acc: 0.3946\n",
      "nu: 0.5310526315789474 gamma: 2.0691380811147902e-08 test_acc: 0.3946\n",
      "nu: 0.5310526315789474 gamma: 7.847599703514623e-08 test_acc: 0.3946\n",
      "nu: 0.5310526315789474 gamma: 2.976351441631319e-07 test_acc: 0.467\n",
      "nu: 0.5310526315789474 gamma: 1.1288378916846883e-06 test_acc: 0.4723\n",
      "nu: 0.5310526315789474 gamma: 4.281332398719396e-06 test_acc: 0.4241\n",
      "nu: 0.5310526315789474 gamma: 1.6237767391887242e-05 test_acc: 0.4643\n",
      "nu: 0.5310526315789474 gamma: 6.158482110660267e-05 test_acc: 0.4643\n",
      "nu: 0.5310526315789474 gamma: 0.00023357214690901214 test_acc: 0.4634\n",
      "nu: 0.5310526315789474 gamma: 0.0008858667904100832 test_acc: 0.4643\n",
      "nu: 0.5310526315789474 gamma: 0.003359818286283788 test_acc: 0.4643\n",
      "nu: 0.5310526315789474 gamma: 0.012742749857031322 test_acc: 0.4643\n",
      "nu: 0.5310526315789474 gamma: 0.04832930238571752 test_acc: 0.4652\n",
      "nu: 0.5310526315789474 gamma: 0.18329807108324375 test_acc: 0.4625\n",
      "nu: 0.5310526315789474 gamma: 0.6951927961775619 test_acc: 0.4625\n",
      "nu: 0.5310526315789474 gamma: 2.636650898730366 test_acc: 0.4598\n",
      "nu: 0.5310526315789474 gamma: 10.0 test_acc: 0.4723\n",
      "nu: 0.5831578947368421 gamma: 1e-10 test_acc: 0.3946\n",
      "nu: 0.5831578947368421 gamma: 3.792690190732254e-10 test_acc: 0.3946\n",
      "nu: 0.5831578947368421 gamma: 1.4384498882876659e-09 test_acc: 0.3946\n",
      "nu: 0.5831578947368421 gamma: 5.455594781168515e-09 test_acc: 0.3946\n",
      "nu: 0.5831578947368421 gamma: 2.0691380811147902e-08 test_acc: 0.3946\n",
      "nu: 0.5831578947368421 gamma: 7.847599703514623e-08 test_acc: 0.3946\n",
      "nu: 0.5831578947368421 gamma: 2.976351441631319e-07 test_acc: 0.4205\n",
      "nu: 0.5831578947368421 gamma: 1.1288378916846883e-06 test_acc: 0.4464\n",
      "nu: 0.5831578947368421 gamma: 4.281332398719396e-06 test_acc: 0.4098\n",
      "nu: 0.5831578947368421 gamma: 1.6237767391887242e-05 test_acc: 0.4562\n",
      "nu: 0.5831578947368421 gamma: 6.158482110660267e-05 test_acc: 0.4554\n",
      "nu: 0.5831578947368421 gamma: 0.00023357214690901214 test_acc: 0.4554\n",
      "nu: 0.5831578947368421 gamma: 0.0008858667904100832 test_acc: 0.4554\n",
      "nu: 0.5831578947368421 gamma: 0.003359818286283788 test_acc: 0.4554\n",
      "nu: 0.5831578947368421 gamma: 0.012742749857031322 test_acc: 0.4554\n",
      "nu: 0.5831578947368421 gamma: 0.04832930238571752 test_acc: 0.458\n",
      "nu: 0.5831578947368421 gamma: 0.18329807108324375 test_acc: 0.4571\n",
      "nu: 0.5831578947368421 gamma: 0.6951927961775619 test_acc: 0.4527\n",
      "nu: 0.5831578947368421 gamma: 2.636650898730366 test_acc: 0.4536\n",
      "nu: 0.5831578947368421 gamma: 10.0 test_acc: 0.4625\n",
      "nu: 0.6352631578947369 gamma: 1e-10 test_acc: 0.3946\n",
      "nu: 0.6352631578947369 gamma: 3.792690190732254e-10 test_acc: 0.3946\n",
      "nu: 0.6352631578947369 gamma: 1.4384498882876659e-09 test_acc: 0.3946\n",
      "nu: 0.6352631578947369 gamma: 5.455594781168515e-09 test_acc: 0.3946\n",
      "nu: 0.6352631578947369 gamma: 2.0691380811147902e-08 test_acc: 0.3946\n",
      "nu: 0.6352631578947369 gamma: 7.847599703514623e-08 test_acc: 0.3946\n",
      "nu: 0.6352631578947369 gamma: 2.976351441631319e-07 test_acc: 0.4045\n",
      "nu: 0.6352631578947369 gamma: 1.1288378916846883e-06 test_acc: 0.425\n"
     ]
    },
    {
     "name": "stdout",
     "output_type": "stream",
     "text": [
      "nu: 0.6352631578947369 gamma: 4.281332398719396e-06 test_acc: 0.4402\n",
      "nu: 0.6352631578947369 gamma: 1.6237767391887242e-05 test_acc: 0.4339\n",
      "nu: 0.6352631578947369 gamma: 6.158482110660267e-05 test_acc: 0.4402\n",
      "nu: 0.6352631578947369 gamma: 0.00023357214690901214 test_acc: 0.4393\n",
      "nu: 0.6352631578947369 gamma: 0.0008858667904100832 test_acc: 0.4393\n",
      "nu: 0.6352631578947369 gamma: 0.003359818286283788 test_acc: 0.4393\n",
      "nu: 0.6352631578947369 gamma: 0.012742749857031322 test_acc: 0.4393\n",
      "nu: 0.6352631578947369 gamma: 0.04832930238571752 test_acc: 0.4411\n",
      "nu: 0.6352631578947369 gamma: 0.18329807108324375 test_acc: 0.4393\n",
      "nu: 0.6352631578947369 gamma: 0.6951927961775619 test_acc: 0.442\n",
      "nu: 0.6352631578947369 gamma: 2.636650898730366 test_acc: 0.4411\n",
      "nu: 0.6352631578947369 gamma: 10.0 test_acc: 0.45\n",
      "nu: 0.6873684210526316 gamma: 1e-10 test_acc: 0.3946\n",
      "nu: 0.6873684210526316 gamma: 3.792690190732254e-10 test_acc: 0.3946\n",
      "nu: 0.6873684210526316 gamma: 1.4384498882876659e-09 test_acc: 0.3946\n",
      "nu: 0.6873684210526316 gamma: 5.455594781168515e-09 test_acc: 0.3946\n",
      "nu: 0.6873684210526316 gamma: 2.0691380811147902e-08 test_acc: 0.3946\n",
      "nu: 0.6873684210526316 gamma: 7.847599703514623e-08 test_acc: 0.3946\n",
      "nu: 0.6873684210526316 gamma: 2.976351441631319e-07 test_acc: 0.3946\n",
      "nu: 0.6873684210526316 gamma: 1.1288378916846883e-06 test_acc: 0.4232\n",
      "nu: 0.6873684210526316 gamma: 4.281332398719396e-06 test_acc: 0.4321\n",
      "nu: 0.6873684210526316 gamma: 1.6237767391887242e-05 test_acc: 0.433\n",
      "nu: 0.6873684210526316 gamma: 6.158482110660267e-05 test_acc: 0.4375\n",
      "nu: 0.6873684210526316 gamma: 0.00023357214690901214 test_acc: 0.4366\n",
      "nu: 0.6873684210526316 gamma: 0.0008858667904100832 test_acc: 0.4366\n",
      "nu: 0.6873684210526316 gamma: 0.003359818286283788 test_acc: 0.4366\n",
      "nu: 0.6873684210526316 gamma: 0.012742749857031322 test_acc: 0.4366\n",
      "nu: 0.6873684210526316 gamma: 0.04832930238571752 test_acc: 0.4366\n",
      "nu: 0.6873684210526316 gamma: 0.18329807108324375 test_acc: 0.4357\n",
      "nu: 0.6873684210526316 gamma: 0.6951927961775619 test_acc: 0.4357\n",
      "nu: 0.6873684210526316 gamma: 2.636650898730366 test_acc: 0.4366\n",
      "nu: 0.6873684210526316 gamma: 10.0 test_acc: 0.4366\n",
      "nu: 0.7394736842105263 gamma: 1e-10 test_acc: 0.3946\n",
      "nu: 0.7394736842105263 gamma: 3.792690190732254e-10 test_acc: 0.3946\n",
      "nu: 0.7394736842105263 gamma: 1.4384498882876659e-09 test_acc: 0.3946\n",
      "nu: 0.7394736842105263 gamma: 5.455594781168515e-09 test_acc: 0.3946\n",
      "nu: 0.7394736842105263 gamma: 2.0691380811147902e-08 test_acc: 0.3946\n",
      "nu: 0.7394736842105263 gamma: 7.847599703514623e-08 test_acc: 0.3946\n",
      "nu: 0.7394736842105263 gamma: 2.976351441631319e-07 test_acc: 0.4062\n",
      "nu: 0.7394736842105263 gamma: 1.1288378916846883e-06 test_acc: 0.4259\n",
      "nu: 0.7394736842105263 gamma: 4.281332398719396e-06 test_acc: 0.4304\n",
      "nu: 0.7394736842105263 gamma: 1.6237767391887242e-05 test_acc: 0.4357\n",
      "nu: 0.7394736842105263 gamma: 6.158482110660267e-05 test_acc: 0.4321\n",
      "nu: 0.7394736842105263 gamma: 0.00023357214690901214 test_acc: 0.433\n",
      "nu: 0.7394736842105263 gamma: 0.0008858667904100832 test_acc: 0.4321\n",
      "nu: 0.7394736842105263 gamma: 0.003359818286283788 test_acc: 0.4321\n",
      "nu: 0.7394736842105263 gamma: 0.012742749857031322 test_acc: 0.433\n",
      "nu: 0.7394736842105263 gamma: 0.04832930238571752 test_acc: 0.433\n",
      "nu: 0.7394736842105263 gamma: 0.18329807108324375 test_acc: 0.433\n",
      "nu: 0.7394736842105263 gamma: 0.6951927961775619 test_acc: 0.4339\n",
      "nu: 0.7394736842105263 gamma: 2.636650898730366 test_acc: 0.4357\n",
      "nu: 0.7394736842105263 gamma: 10.0 test_acc: 0.4277\n",
      "nu: 0.791578947368421 gamma: 1e-10 test_acc: 0.3946\n",
      "nu: 0.791578947368421 gamma: 3.792690190732254e-10 test_acc: 0.3946\n",
      "nu: 0.791578947368421 gamma: 1.4384498882876659e-09 test_acc: 0.3946\n",
      "nu: 0.791578947368421 gamma: 5.455594781168515e-09 test_acc: 0.3946\n",
      "nu: 0.791578947368421 gamma: 2.0691380811147902e-08 test_acc: 0.3946\n",
      "nu: 0.791578947368421 gamma: 7.847599703514623e-08 test_acc: 0.3946\n",
      "nu: 0.791578947368421 gamma: 2.976351441631319e-07 test_acc: 0.3946\n",
      "nu: 0.791578947368421 gamma: 1.1288378916846883e-06 test_acc: 0.4018\n",
      "nu: 0.791578947368421 gamma: 4.281332398719396e-06 test_acc: 0.4062\n",
      "nu: 0.791578947368421 gamma: 1.6237767391887242e-05 test_acc: 0.4286\n",
      "nu: 0.791578947368421 gamma: 6.158482110660267e-05 test_acc: 0.4286\n",
      "nu: 0.791578947368421 gamma: 0.00023357214690901214 test_acc: 0.4286\n",
      "nu: 0.791578947368421 gamma: 0.0008858667904100832 test_acc: 0.4286\n",
      "nu: 0.791578947368421 gamma: 0.003359818286283788 test_acc: 0.4295\n",
      "nu: 0.791578947368421 gamma: 0.012742749857031322 test_acc: 0.4295\n",
      "nu: 0.791578947368421 gamma: 0.04832930238571752 test_acc: 0.4295\n",
      "nu: 0.791578947368421 gamma: 0.18329807108324375 test_acc: 0.4277\n",
      "nu: 0.791578947368421 gamma: 0.6951927961775619 test_acc: 0.4312\n",
      "nu: 0.791578947368421 gamma: 2.636650898730366 test_acc: 0.4286\n",
      "nu: 0.791578947368421 gamma: 10.0 test_acc: 0.4241\n",
      "nu: 0.8436842105263158 gamma: 1e-10 test_acc: 0.3946\n",
      "nu: 0.8436842105263158 gamma: 3.792690190732254e-10 test_acc: 0.3946\n",
      "nu: 0.8436842105263158 gamma: 1.4384498882876659e-09 test_acc: 0.3946\n",
      "nu: 0.8436842105263158 gamma: 5.455594781168515e-09 test_acc: 0.3946\n",
      "nu: 0.8436842105263158 gamma: 2.0691380811147902e-08 test_acc: 0.3946\n",
      "nu: 0.8436842105263158 gamma: 7.847599703514623e-08 test_acc: 0.4527\n",
      "nu: 0.8436842105263158 gamma: 2.976351441631319e-07 test_acc: 0.4911\n",
      "nu: 0.8436842105263158 gamma: 1.1288378916846883e-06 test_acc: 0.4402\n",
      "nu: 0.8436842105263158 gamma: 4.281332398719396e-06 test_acc: 0.3991\n",
      "nu: 0.8436842105263158 gamma: 1.6237767391887242e-05 test_acc: 0.4259\n",
      "nu: 0.8436842105263158 gamma: 6.158482110660267e-05 test_acc: 0.4223\n",
      "nu: 0.8436842105263158 gamma: 0.00023357214690901214 test_acc: 0.4205\n",
      "nu: 0.8436842105263158 gamma: 0.0008858667904100832 test_acc: 0.4214\n",
      "nu: 0.8436842105263158 gamma: 0.003359818286283788 test_acc: 0.4214\n",
      "nu: 0.8436842105263158 gamma: 0.012742749857031322 test_acc: 0.4214\n",
      "nu: 0.8436842105263158 gamma: 0.04832930238571752 test_acc: 0.4214\n",
      "nu: 0.8436842105263158 gamma: 0.18329807108324375 test_acc: 0.4232\n",
      "nu: 0.8436842105263158 gamma: 0.6951927961775619 test_acc: 0.4223\n",
      "nu: 0.8436842105263158 gamma: 2.636650898730366 test_acc: 0.4214\n",
      "nu: 0.8436842105263158 gamma: 10.0 test_acc: 0.417\n",
      "nu: 0.8957894736842106 gamma: 1e-10 test_acc: 0.3946\n",
      "nu: 0.8957894736842106 gamma: 3.792690190732254e-10 test_acc: 0.3946\n",
      "nu: 0.8957894736842106 gamma: 1.4384498882876659e-09 test_acc: 0.3946\n",
      "nu: 0.8957894736842106 gamma: 5.455594781168515e-09 test_acc: 0.3946\n",
      "nu: 0.8957894736842106 gamma: 2.0691380811147902e-08 test_acc: 0.3946\n",
      "nu: 0.8957894736842106 gamma: 7.847599703514623e-08 test_acc: 0.4536\n",
      "nu: 0.8957894736842106 gamma: 2.976351441631319e-07 test_acc: 0.4929\n",
      "nu: 0.8957894736842106 gamma: 1.1288378916846883e-06 test_acc: 0.442\n",
      "nu: 0.8957894736842106 gamma: 4.281332398719396e-06 test_acc: 0.4125\n",
      "nu: 0.8957894736842106 gamma: 1.6237767391887242e-05 test_acc: 0.4018\n",
      "nu: 0.8957894736842106 gamma: 6.158482110660267e-05 test_acc: 0.4116\n",
      "nu: 0.8957894736842106 gamma: 0.00023357214690901214 test_acc: 0.4098\n",
      "nu: 0.8957894736842106 gamma: 0.0008858667904100832 test_acc: 0.4098\n",
      "nu: 0.8957894736842106 gamma: 0.003359818286283788 test_acc: 0.4098\n",
      "nu: 0.8957894736842106 gamma: 0.012742749857031322 test_acc: 0.4089\n",
      "nu: 0.8957894736842106 gamma: 0.04832930238571752 test_acc: 0.4098\n",
      "nu: 0.8957894736842106 gamma: 0.18329807108324375 test_acc: 0.4125\n",
      "nu: 0.8957894736842106 gamma: 0.6951927961775619 test_acc: 0.4134\n",
      "nu: 0.8957894736842106 gamma: 2.636650898730366 test_acc: 0.4125\n",
      "nu: 0.8957894736842106 gamma: 10.0 test_acc: 0.4107\n",
      "nu: 0.9478947368421053 gamma: 1e-10 test_acc: 0.3946\n",
      "nu: 0.9478947368421053 gamma: 3.792690190732254e-10 test_acc: 0.3946\n",
      "nu: 0.9478947368421053 gamma: 1.4384498882876659e-09 test_acc: 0.3946\n",
      "nu: 0.9478947368421053 gamma: 5.455594781168515e-09 test_acc: 0.3946\n",
      "nu: 0.9478947368421053 gamma: 2.0691380811147902e-08 test_acc: 0.3946\n",
      "nu: 0.9478947368421053 gamma: 7.847599703514623e-08 test_acc: 0.3946\n",
      "nu: 0.9478947368421053 gamma: 2.976351441631319e-07 test_acc: 0.3946\n",
      "nu: 0.9478947368421053 gamma: 1.1288378916846883e-06 test_acc: 0.433\n",
      "nu: 0.9478947368421053 gamma: 4.281332398719396e-06 test_acc: 0.4375\n",
      "nu: 0.9478947368421053 gamma: 1.6237767391887242e-05 test_acc: 0.4027\n",
      "nu: 0.9478947368421053 gamma: 6.158482110660267e-05 test_acc: 0.4\n"
     ]
    },
    {
     "name": "stdout",
     "output_type": "stream",
     "text": [
      "nu: 0.9478947368421053 gamma: 0.00023357214690901214 test_acc: 0.4009\n",
      "nu: 0.9478947368421053 gamma: 0.0008858667904100832 test_acc: 0.4009\n",
      "nu: 0.9478947368421053 gamma: 0.003359818286283788 test_acc: 0.4009\n",
      "nu: 0.9478947368421053 gamma: 0.012742749857031322 test_acc: 0.4009\n",
      "nu: 0.9478947368421053 gamma: 0.04832930238571752 test_acc: 0.4\n",
      "nu: 0.9478947368421053 gamma: 0.18329807108324375 test_acc: 0.4009\n",
      "nu: 0.9478947368421053 gamma: 0.6951927961775619 test_acc: 0.4036\n",
      "nu: 0.9478947368421053 gamma: 2.636650898730366 test_acc: 0.3991\n",
      "nu: 0.9478947368421053 gamma: 10.0 test_acc: 0.4009\n",
      "nu: 1.0 gamma: 1e-10 test_acc: 0.3946\n",
      "nu: 1.0 gamma: 3.792690190732254e-10 test_acc: 0.3946\n",
      "nu: 1.0 gamma: 1.4384498882876659e-09 test_acc: 0.3946\n",
      "nu: 1.0 gamma: 5.455594781168515e-09 test_acc: 0.3946\n",
      "nu: 1.0 gamma: 2.0691380811147902e-08 test_acc: 0.3946\n",
      "nu: 1.0 gamma: 7.847599703514623e-08 test_acc: 0.3946\n",
      "nu: 1.0 gamma: 2.976351441631319e-07 test_acc: 0.3946\n",
      "nu: 1.0 gamma: 1.1288378916846883e-06 test_acc: 0.3946\n",
      "nu: 1.0 gamma: 4.281332398719396e-06 test_acc: 0.3946\n",
      "nu: 1.0 gamma: 1.6237767391887242e-05 test_acc: 0.3946\n",
      "nu: 1.0 gamma: 6.158482110660267e-05 test_acc: 0.3946\n",
      "nu: 1.0 gamma: 0.00023357214690901214 test_acc: 0.3946\n",
      "nu: 1.0 gamma: 0.0008858667904100832 test_acc: 0.3946\n",
      "nu: 1.0 gamma: 0.003359818286283788 test_acc: 0.3946\n",
      "nu: 1.0 gamma: 0.012742749857031322 test_acc: 0.3946\n",
      "nu: 1.0 gamma: 0.04832930238571752 test_acc: 0.3946\n",
      "nu: 1.0 gamma: 0.18329807108324375 test_acc: 0.3946\n",
      "nu: 1.0 gamma: 0.6951927961775619 test_acc: 0.3946\n",
      "nu: 1.0 gamma: 2.636650898730366 test_acc: 0.3946\n",
      "nu: 1.0 gamma: 10.0 test_acc: 0.3946\n"
     ]
    }
   ],
   "source": [
    "#x_train,x_test,y_train,y_test=train_test_split(train_data,train_label1,train_size=1000,random_state=1)\n",
    "#交叉训练验证\n",
    "# kernel=['linear','rbf','sigmoid']\n",
    "train_data,train_label=ceate_data(rate,false_data1,train_data1)\n",
    "train_data=np.concatenate([train_data1,false_data1])\n",
    "train_label=np.concatenate([t_label,f_label])\n",
    "gammaList=np.logspace(-10,1,20)\n",
    "nuList=np.array([0.01,0.03,0.05,0.1,0.15])\n",
    "best_para=[]\n",
    "all_para=[]\n",
    "for nu in nuList:\n",
    "    best_gamma=0\n",
    "    best_acc=0\n",
    "    for gam in gammaList:\n",
    "#         train_data,train_label=ceate_data(rate,false_data1,train_data1)\n",
    "        ocsvm= OneClassSVM(kernel='rbf',nu=nu,gamma=gam).fit(alldata)\n",
    "        t_pred=ocsvm.predict(train_data)\n",
    "        test_acc= metrics.accuracy_score(train_label,t_pred)\n",
    "        all_para.append([nu,gam,round(test_acc,4)])\n",
    "        if test_acc>best_acc:\n",
    "            test_gamma=gam\n",
    "            best_acc=test_acc\n",
    "        print('nu:',nu,'gamma:',gam,'test_acc:',round(test_acc,4))\n",
    "    best_para.append([nu,best_gamma,best_acc])        \n"
   ]
  },
  {
   "cell_type": "code",
   "execution_count": 484,
   "metadata": {},
   "outputs": [
    {
     "name": "stdout",
     "output_type": "stream",
     "text": [
      "best_nu: 0.01 best_gamma: 10.0 max_acc: 0.6125\n"
     ]
    }
   ],
   "source": [
    "import matplotlib.pyplot as plt\n",
    "for i in best_para:\n",
    "    print('nu:',i[0],'best_gamma:',i[1],'max_acc:',i[2])\n",
    "best_nu,best_gamma=best_para[0:2]\n"
   ]
  },
  {
   "cell_type": "code",
   "execution_count": 485,
   "metadata": {},
   "outputs": [
    {
     "data": {
      "image/png": "[encoded data removed]",
      "text/plain": [
       "<Figure size 432x288 with 1 Axes>"
      ]
     },
     "metadata": {
      "needs_background": "light"
     },
     "output_type": "display_data"
    },
    {
     "data": {
      "image/png": "[encoded data removed]",
      "text/plain": [
       "<Figure size 432x288 with 1 Axes>"
      ]
     },
     "metadata": {
      "needs_background": "light"
     },
     "output_type": "display_data"
    }
   ],
   "source": [
    "x_gamma=[]\n",
    "y_acc=[]\n",
    "for i in range(len(all_para)):    \n",
    "    if all_para[i][0]==best_nu:\n",
    "        x_gamma.append(all_para[i][1])\n",
    "        y_acc.append(all_para[i][2])\n",
    "save_path='out/one-class-svm/'+'gamma_''rate_'+str(rate)+'.jpg'\n",
    "plt.figure(1)\n",
    "plt.plot(x_gamma,y_acc)\n",
    "plt.title('best_gamma='+str(best_gamma))\n",
    "plt.xlabel('gamma')\n",
    "plt.ylabel('accuracy')\n",
    "plt.savefig(save_path)\n",
    "plt.show()\n",
    "\n",
    "plt.figure(2)\n",
    "x_nu=nuList\n",
    "y_acc1=[]\n",
    "for nu in x_nu:\n",
    "    tmp=[]\n",
    "    for i in range(len(all_para)):\n",
    "        if all_para[i][0]==nu:\n",
    "            tmp.append(all_para[i][2])\n",
    "    y_acc1.append(max(tmp))\n",
    "plt.plot(x_nu,y_acc1)\n",
    "plt.title('best_nu='+str(best_nu))\n",
    "plt.xlabel('nu')\n",
    "plt.ylabel('accuracy')\n",
    "save_path='out/one-class-svm/'+'nu_''rate_'+str(rate)+'.jpg'\n",
    "plt.savefig(save_path)\n",
    "plt.show()"
   ]
  },
  {
   "cell_type": "code",
   "execution_count": 495,
   "metadata": {},
   "outputs": [],
   "source": [
    "ocsvm = OneClassSVM(nu=0.05,kernel='rbf',gamma=best_gamma).fit(alldata)"
   ]
  },
  {
   "cell_type": "code",
   "execution_count": 496,
   "metadata": {},
   "outputs": [
    {
     "name": "stdout",
     "output_type": "stream",
     "text": [
      "Yes! got it\n",
      "445\n",
      "(11482, 3)\n"
     ]
    },
    {
     "data": {
      "image/png": "[encoded data removed]",
      "text/plain": [
       "<Figure size 432x288 with 1 Axes>"
      ]
     },
     "metadata": {
      "needs_background": "light"
     },
     "output_type": "display_data"
    }
   ],
   "source": [
    "#对未知样本预测\n",
    "un_pred = ocsvm.predict(unknown_data1)\n",
    "plt.figure(3)\n",
    "plt.plot(un_pred)\n",
    "#print(len(un_pred))\n",
    "if -1 in un_pred:\n",
    "    print('Yes! got it')\n",
    "else:\n",
    "    print('cannot find target')\n",
    "print((len(un_pred)-sum(un_pred))//2)\n",
    "pre_unknown={}\n",
    "for i in range(len(unknown)):\n",
    "    if un_pred[i]==-1:\n",
    "        pre_unknown[unknown[i]]=3#预测有矿\n",
    "    else:\n",
    "        pre_unknown[unknown[i]]=0#预测未知\n",
    "v=np.zeros(data_loc.shape[0])\n",
    "data_label=np.c_[data_loc,v]\n",
    "\n",
    "for i in range(data_loc.shape[0]):\n",
    "    if i in true_label:\n",
    "        data_label[i][2]=2#标记有矿\n",
    "    elif i in false_label:\n",
    "        data_label[i][2]=1#标记无矿\n",
    "    else:\n",
    "        data_label[i][2]=pre_unknown[i]\n",
    "       \n",
    "print(data_label.shape)\n",
    "data4=pd.DataFrame(data_label)\n",
    "data4.columns=['Y','X','label']\n",
    "file_path='out/one-class-svm/'+'unknown_predict_25'+str(rate)+'.xlsx'\n",
    "with pd.ExcelWriter(file_path) as writer:\n",
    "    data4.to_excel(writer,sheet_name='预测结果')\n"
   ]
  },
  {
   "cell_type": "code",
   "execution_count": 497,
   "metadata": {},
   "outputs": [
    {
     "data": {
      "text/plain": [
       "<Figure size 432x288 with 0 Axes>"
      ]
     },
     "metadata": {},
     "output_type": "display_data"
    },
    {
     "data": {
      "image/png": "[encoded data removed]",
      "text/plain": [
       "<Figure size 432x288 with 2 Axes>"
      ]
     },
     "metadata": {
      "needs_background": "light"
     },
     "output_type": "display_data"
    }
   ],
   "source": [
    "plt.figure(4)\n",
    "data4.plot.scatter('Y', 'X', c='label', colormap='jet')\n",
    "plt.title('result1')\n",
    "plt.show()"
   ]
  },
  {
   "cell_type": "code",
   "execution_count": 483,
   "metadata": {},
   "outputs": [
    {
     "name": "stdout",
     "output_type": "stream",
     "text": [
      "Yes! got it\n",
      "11482\n",
      "(11482, 3)\n"
     ]
    },
    {
     "data": {
      "image/png": "[encoded data removed]",
      "text/plain": [
       "<Figure size 432x288 with 1 Axes>"
      ]
     },
     "metadata": {
      "needs_background": "light"
     },
     "output_type": "display_data"
    },
    {
     "data": {
      "text/plain": [
       "<Figure size 432x288 with 0 Axes>"
      ]
     },
     "metadata": {},
     "output_type": "display_data"
    },
    {
     "data": {
      "image/png": "[encoded data removed]",
      "text/plain": [
       "<Figure size 432x288 with 2 Axes>"
      ]
     },
     "metadata": {
      "needs_background": "light"
     },
     "output_type": "display_data"
    }
   ],
   "source": [
    "#对所有样本预测\n",
    "un_pred = ocsvm.predict(alldata)\n",
    "plt.figure(5)\n",
    "plt.plot(un_pred)\n",
    "#print(len(un_pred))\n",
    "if -1 in un_pred:\n",
    "    print('Yes! got it')\n",
    "else:\n",
    "    print('cannot find target')\n",
    "lab=[1 if i==-1 else 0 for i in un_pred]\n",
    "print((len(un_pred)-sum(un_pred))//2)\n",
    "data_label=np.c_[data_loc,np.array(lab)]\n",
    "       \n",
    "print(data_label.shape)\n",
    "data4=pd.DataFrame(data_label)\n",
    "data4.columns=['Y','X','label']\n",
    "file_path='out/one-class-svm/'+'alldata_predict_50'+str(rate)+'.xlsx'\n",
    "with pd.ExcelWriter(file_path) as writer:\n",
    "    data4.to_excel(writer,sheet_name='预测结果')\n",
    "plt.figure(4)\n",
    "data4.plot.scatter('Y', 'X', c='label', colormap='jet')\n",
    "plt.title('result1')\n",
    "plt.show()"
   ]
  },
  {
   "cell_type": "code",
   "execution_count": 408,
   "metadata": {},
   "outputs": [
    {
     "data": {
      "text/plain": [
       "array([10465.8, 76750.4])"
      ]
     },
     "execution_count": 408,
     "metadata": {},
     "output_type": "execute_result"
    }
   ],
   "source": [
    "data_loc[0]"
   ]
  },
  {
   "cell_type": "code",
   "execution_count": 267,
   "metadata": {},
   "outputs": [
    {
     "data": {
      "text/plain": [
       "<Figure size 432x288 with 0 Axes>"
      ]
     },
     "metadata": {},
     "output_type": "display_data"
    },
    {
     "data": {
      "image/png": "[encoded data removed]",
      "text/plain": [
       "<Figure size 432x288 with 2 Axes>"
      ]
     },
     "metadata": {
      "needs_background": "light"
     },
     "output_type": "display_data"
    }
   ],
   "source": [
    "plt.figure(6)\n",
    "zk.plot.scatter('Y', 'X', c='label', colormap='jet')\n",
    "plt.title('zk_location')\n",
    "plt.show()"
   ]
  },
  {
   "cell_type": "code",
   "execution_count": null,
   "metadata": {},
   "outputs": [],
   "source": []
  }
 ],
 "metadata": {
  "kernelspec": {
   "display_name": "Python 3",
   "language": "python",
   "name": "python3"
  },
  "language_info": {
   "codemirror_mode": {
    "name": "ipython",
    "version": 3
   },
   "file_extension": ".py",
   "mimetype": "text/x-python",
   "name": "python",
   "nbconvert_exporter": "python",
   "pygments_lexer": "ipython3",
   "version": "3.10.6"
  },
  "vscode": {
   "interpreter": {
    "hash": "31f2aee4e71d21fbe5cf8b01ff0e069b9275f58929596ceb00d14d90e3e16cd6"
   }
  }
 },
 "nbformat": 4,
 "nbformat_minor": 2
}
