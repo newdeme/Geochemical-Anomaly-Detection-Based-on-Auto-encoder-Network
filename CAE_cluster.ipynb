{
 "cells": [
  {
   "cell_type": "code",
   "execution_count": 1,
   "metadata": {},
   "outputs": [],
   "source": [
    "import pandas as pd\n",
    "import numpy as np\n",
    "import os\n",
    "import math\n",
    "os.environ['CUDA_VISIBLE_DEVICES'] = '0'"
   ]
  },
  {
   "cell_type": "code",
   "execution_count": 1183,
   "metadata": {},
   "outputs": [
    {
     "data": {
      "text/html": [
       "<div>\n",
       "<style scoped>\n",
       "    .dataframe tbody tr th:only-of-type {\n",
       "        vertical-align: middle;\n",
       "    }\n",
       "\n",
       "    .dataframe tbody tr th {\n",
       "        vertical-align: top;\n",
       "    }\n",
       "\n",
       "    .dataframe thead th {\n",
       "        text-align: right;\n",
       "    }\n",
       "</style>\n",
       "<table border=\"1\" class=\"dataframe\">\n",
       "  <thead>\n",
       "    <tr style=\"text-align: right;\">\n",
       "      <th></th>\n",
       "      <th>X</th>\n",
       "      <th>Y</th>\n",
       "      <th>Au</th>\n",
       "      <th>Ag</th>\n",
       "      <th>As</th>\n",
       "      <th>Sb</th>\n",
       "      <th>Bi</th>\n",
       "      <th>Co</th>\n",
       "      <th>Cu</th>\n",
       "      <th>Mo</th>\n",
       "      <th>Ni</th>\n",
       "      <th>Pb</th>\n",
       "      <th>W</th>\n",
       "      <th>Zn</th>\n",
       "    </tr>\n",
       "  </thead>\n",
       "  <tbody>\n",
       "    <tr>\n",
       "      <th>0</th>\n",
       "      <td>382898.8</td>\n",
       "      <td>52224.9</td>\n",
       "      <td>1.10</td>\n",
       "      <td>0.06</td>\n",
       "      <td>27.0</td>\n",
       "      <td>6.31</td>\n",
       "      <td>0.31</td>\n",
       "      <td>13.3</td>\n",
       "      <td>20.6</td>\n",
       "      <td>0.99</td>\n",
       "      <td>22.6</td>\n",
       "      <td>19.9</td>\n",
       "      <td>1.95</td>\n",
       "      <td>58.1</td>\n",
       "    </tr>\n",
       "    <tr>\n",
       "      <th>1</th>\n",
       "      <td>382894.8</td>\n",
       "      <td>52224.9</td>\n",
       "      <td>1.85</td>\n",
       "      <td>0.04</td>\n",
       "      <td>28.1</td>\n",
       "      <td>6.52</td>\n",
       "      <td>0.40</td>\n",
       "      <td>14.2</td>\n",
       "      <td>20.3</td>\n",
       "      <td>1.39</td>\n",
       "      <td>25.3</td>\n",
       "      <td>23.3</td>\n",
       "      <td>2.46</td>\n",
       "      <td>69.9</td>\n",
       "    </tr>\n",
       "    <tr>\n",
       "      <th>2</th>\n",
       "      <td>382890.8</td>\n",
       "      <td>52224.9</td>\n",
       "      <td>1.82</td>\n",
       "      <td>0.08</td>\n",
       "      <td>25.9</td>\n",
       "      <td>4.16</td>\n",
       "      <td>0.37</td>\n",
       "      <td>15.5</td>\n",
       "      <td>22.1</td>\n",
       "      <td>1.09</td>\n",
       "      <td>29.6</td>\n",
       "      <td>37.1</td>\n",
       "      <td>3.28</td>\n",
       "      <td>63.3</td>\n",
       "    </tr>\n",
       "    <tr>\n",
       "      <th>3</th>\n",
       "      <td>382886.8</td>\n",
       "      <td>52224.9</td>\n",
       "      <td>2.26</td>\n",
       "      <td>0.06</td>\n",
       "      <td>26.7</td>\n",
       "      <td>6.24</td>\n",
       "      <td>0.31</td>\n",
       "      <td>15.3</td>\n",
       "      <td>24.3</td>\n",
       "      <td>2.28</td>\n",
       "      <td>31.3</td>\n",
       "      <td>68.4</td>\n",
       "      <td>4.75</td>\n",
       "      <td>73.2</td>\n",
       "    </tr>\n",
       "    <tr>\n",
       "      <th>4</th>\n",
       "      <td>382882.8</td>\n",
       "      <td>52224.9</td>\n",
       "      <td>1.22</td>\n",
       "      <td>0.08</td>\n",
       "      <td>26.3</td>\n",
       "      <td>5.22</td>\n",
       "      <td>0.31</td>\n",
       "      <td>14.2</td>\n",
       "      <td>23.0</td>\n",
       "      <td>1.21</td>\n",
       "      <td>29.3</td>\n",
       "      <td>33.4</td>\n",
       "      <td>5.18</td>\n",
       "      <td>76.4</td>\n",
       "    </tr>\n",
       "  </tbody>\n",
       "</table>\n",
       "</div>"
      ],
      "text/plain": [
       "          X        Y    Au    Ag    As    Sb    Bi    Co    Cu    Mo    Ni  \\\n",
       "0  382898.8  52224.9  1.10  0.06  27.0  6.31  0.31  13.3  20.6  0.99  22.6   \n",
       "1  382894.8  52224.9  1.85  0.04  28.1  6.52  0.40  14.2  20.3  1.39  25.3   \n",
       "2  382890.8  52224.9  1.82  0.08  25.9  4.16  0.37  15.5  22.1  1.09  29.6   \n",
       "3  382886.8  52224.9  2.26  0.06  26.7  6.24  0.31  15.3  24.3  2.28  31.3   \n",
       "4  382882.8  52224.9  1.22  0.08  26.3  5.22  0.31  14.2  23.0  1.21  29.3   \n",
       "\n",
       "     Pb     W    Zn  \n",
       "0  19.9  1.95  58.1  \n",
       "1  23.3  2.46  69.9  \n",
       "2  37.1  3.28  63.3  \n",
       "3  68.4  4.75  73.2  \n",
       "4  33.4  5.18  76.4  "
      ]
     },
     "execution_count": 1183,
     "metadata": {},
     "output_type": "execute_result"
    }
   ],
   "source": [
    "file_path='./data/10000.xls'\n",
    "#file_path1='./data/1万土壤数据.xlsx'\n",
    "data1=pd.read_excel(file_path,sheet_name='中河2')\n",
    "# data2=pd.read_excel(file_path,sheet_name='孤山岭1')\n",
    "# data3=pd.read_excel(file_path,sheet_name='石板沟1')\n",
    "# data4=pd.read_excel(file_path,sheet_name='摩云岭1')\n",
    "data1.head()"
   ]
  },
  {
   "cell_type": "code",
   "execution_count": 1184,
   "metadata": {},
   "outputs": [],
   "source": [
    "def dist(location_test):\n",
    "    dist=[]\n",
    "    loc_list=location_test.values\n",
    "    for i in range(len(location_test)):\n",
    "        tmp=[]\n",
    "        for j in range(len(location_test)):\n",
    "            tmp.append(np.linalg.norm(loc_list[i]-loc_list[j]))\n",
    "        dist.append(tmp)\n",
    "    return dist"
   ]
  },
  {
   "cell_type": "code",
   "execution_count": 1185,
   "metadata": {},
   "outputs": [],
   "source": [
    "location_test=data1.loc[:,['X','Y']]\n",
    "dists=dist(location_test)\n"
   ]
  },
  {
   "cell_type": "code",
   "execution_count": 1187,
   "metadata": {},
   "outputs": [
    {
     "data": {
      "text/plain": [
       "0.0"
      ]
     },
     "execution_count": 1187,
     "metadata": {},
     "output_type": "execute_result"
    }
   ],
   "source": [
    "dists[0][0]"
   ]
  },
  {
   "cell_type": "code",
   "execution_count": 1315,
   "metadata": {},
   "outputs": [
    {
     "name": "stdout",
     "output_type": "stream",
     "text": [
      "    Au    Ag\n",
      "0  1.1  0.06\n",
      "(3925, 2)\n"
     ]
    }
   ],
   "source": [
    "data_test1=data1.loc[:,['Au','Ag']]\n",
    "print(data_test1[0:1])\n",
    "print(location_test.shape)\n"
   ]
  },
  {
   "cell_type": "code",
   "execution_count": 1316,
   "metadata": {},
   "outputs": [],
   "source": [
    "from sklearn import preprocessing\n",
    "scaler = preprocessing.MinMaxScaler() #min-max标准化\n",
    "#scaler = preprocessing.StandardScaler()  #z-score标准化\n",
    "# data_trian = scaler.fit_transform(data_trian)\n",
    "# data_test = scaler.fit_transform(data_test)\n",
    "# data_trian1=scaler.fit_transform(data_trian1) \n",
    "data_test1=scaler.fit_transform(data_test1) \n",
    "# data_trian2=scaler.fit_transform(data_trian2) \n",
    "# data_test2=scaler.fit_transform(data_test2) "
   ]
  },
  {
   "cell_type": "code",
   "execution_count": 1317,
   "metadata": {},
   "outputs": [],
   "source": [
    "#滑动窗口长度；步长\n",
    "sequence_length = 16#采样点数量\n",
    "time_step =4#滑窗步长"
   ]
  },
  {
   "cell_type": "code",
   "execution_count": 1318,
   "metadata": {},
   "outputs": [],
   "source": [
    "def get_data1(start, end, data,location, sequence_length, time_step,dist):\n",
    "    import heapq\n",
    "    result=[]\n",
    "    newloc=[]\n",
    "    loc1=location.values\n",
    "    for i in range(start,end,time_step):\n",
    "        tmp=dist[i]\n",
    "        idx=map(tmp.index,heapq.nsmallest(sequence_length,tmp))\n",
    "        idx=sorted(idx)\n",
    "        res=[]\n",
    "        newl=[]\n",
    "        for j in idx:\n",
    "            res.append(data[j])\n",
    "            newl.append(loc1[j])\n",
    "        result.append(res)\n",
    "        newloc.append(newl)\n",
    "    result=np.array(result)\n",
    "    newloc=np.array(newloc)\n",
    "    return result,newloc\n",
    "            "
   ]
  },
  {
   "cell_type": "code",
   "execution_count": 1319,
   "metadata": {},
   "outputs": [
    {
     "name": "stdout",
     "output_type": "stream",
     "text": [
      "(982, 16, 2)\n",
      "(3925, 2)\n"
     ]
    }
   ],
   "source": [
    "X_test,loc_test = get_data1(0, len(data_test1), data_test1,location_test, sequence_length, time_step,dists)\n",
    "print(X_test.shape)\n",
    "print(data_test1.shape)"
   ]
  },
  {
   "cell_type": "code",
   "execution_count": 1320,
   "metadata": {},
   "outputs": [],
   "source": [
    "import tensorflow as tf \n",
    "from keras.models import Model,Input,load_model, Sequential \n",
    "from keras.layers import Conv1D, Dropout, Dense  \n",
    "from keras.layers import MaxPooling1D, UpSampling1D, Flatten, Reshape \n",
    "from keras.callbacks import ModelCheckpoint, TensorBoard, EarlyStopping"
   ]
  },
  {
   "cell_type": "code",
   "execution_count": 1321,
   "metadata": {},
   "outputs": [],
   "source": [
    "from keras.layers.wrappers import TimeDistributed\n",
    "from keras.layers.core import Dense, RepeatVector\n",
    "from keras.layers.noise import GaussianDropout,GaussianNoise\n"
   ]
  },
  {
   "cell_type": "code",
   "execution_count": 1322,
   "metadata": {},
   "outputs": [
    {
     "name": "stdout",
     "output_type": "stream",
     "text": [
      "16 2\n"
     ]
    }
   ],
   "source": [
    "sample_length=X_test.shape[1]\n",
    "feature_dim=X_test.shape[2]\n",
    "print(sample_length,feature_dim)"
   ]
  },
  {
   "cell_type": "code",
   "execution_count": 1323,
   "metadata": {},
   "outputs": [],
   "source": [
    "data=Input(shape=(sample_length,feature_dim ))\n",
    "x=GaussianNoise(0.01)(data)\n",
    "x=Conv1D(filters=16, kernel_size=5, padding='same', activation='relu',input_shape=(sample_length, feature_dim))(x)\n",
    "x=MaxPooling1D(pool_size=2)(x)       \n",
    "x=Conv1D(filters=8, kernel_size=3, padding='same', activation='relu',input_shape=(sample_length//2,8))(x)\n",
    "encoded=MaxPooling1D(pool_size=2)(x)\n",
    "\n",
    "x=UpSampling1D(size=2)(encoded)\n",
    "x=Conv1D(filters=8, kernel_size=3, padding='same', activation='relu',input_shape=(sample_length//2,8))(x)\n",
    "x=UpSampling1D(size=2)(x)\n",
    "x=Conv1D(filters=16, kernel_size=5, padding='same', activation='relu',input_shape=(sample_length,8))(x)\n",
    "decoded=Conv1D(filters= feature_dim, kernel_size=5, padding='same', activation='sigmoid',input_shape=(sample_length,16))(x)\n",
    "       \n",
    "autoencoder = Model(data, decoded)\n",
    "autoencoder.compile(loss=\"mse\", optimizer='adam')\n",
    "encoder_model = Model(data,encoded)"
   ]
  },
  {
   "cell_type": "code",
   "execution_count": 1324,
   "metadata": {},
   "outputs": [
    {
     "name": "stdout",
     "output_type": "stream",
     "text": [
      "Train on 883 samples, validate on 99 samples\n",
      "Epoch 1/100\n",
      "883/883 [==============================] - 4s 5ms/step - loss: 0.2434 - val_loss: 0.2394\n",
      "Epoch 2/100\n",
      "883/883 [==============================] - 0s 66us/step - loss: 0.2346 - val_loss: 0.2279\n",
      "Epoch 3/100\n",
      "883/883 [==============================] - 0s 63us/step - loss: 0.2199 - val_loss: 0.2089\n",
      "Epoch 4/100\n",
      "883/883 [==============================] - 0s 63us/step - loss: 0.1958 - val_loss: 0.1781\n",
      "Epoch 5/100\n",
      "883/883 [==============================] - 0s 62us/step - loss: 0.1579 - val_loss: 0.1326\n",
      "Epoch 6/100\n",
      "883/883 [==============================] - 0s 62us/step - loss: 0.1066 - val_loss: 0.0782\n",
      "Epoch 7/100\n",
      "883/883 [==============================] - 0s 62us/step - loss: 0.0547 - val_loss: 0.0348\n",
      "Epoch 8/100\n",
      "883/883 [==============================] - 0s 62us/step - loss: 0.0214 - val_loss: 0.0140\n",
      "Epoch 9/100\n",
      "883/883 [==============================] - 0s 63us/step - loss: 0.0081 - val_loss: 0.0070\n",
      "Epoch 10/100\n",
      "883/883 [==============================] - 0s 64us/step - loss: 0.0037 - val_loss: 0.0047\n",
      "Epoch 11/100\n",
      "883/883 [==============================] - 0s 61us/step - loss: 0.0022 - val_loss: 0.0037\n",
      "Epoch 12/100\n",
      "883/883 [==============================] - 0s 63us/step - loss: 0.0015 - val_loss: 0.0033\n",
      "Epoch 13/100\n",
      "883/883 [==============================] - 0s 64us/step - loss: 0.0012 - val_loss: 0.0030\n",
      "Epoch 14/100\n",
      "883/883 [==============================] - 0s 61us/step - loss: 9.9431e-04 - val_loss: 0.0029\n",
      "Epoch 15/100\n",
      "883/883 [==============================] - 0s 61us/step - loss: 8.6941e-04 - val_loss: 0.0028\n",
      "Epoch 16/100\n",
      "883/883 [==============================] - 0s 63us/step - loss: 7.8007e-04 - val_loss: 0.0027\n",
      "Epoch 17/100\n",
      "883/883 [==============================] - 0s 61us/step - loss: 7.1211e-04 - val_loss: 0.0026\n",
      "Epoch 18/100\n",
      "883/883 [==============================] - 0s 63us/step - loss: 6.5995e-04 - val_loss: 0.0026\n",
      "Epoch 19/100\n",
      "883/883 [==============================] - 0s 62us/step - loss: 6.1699e-04 - val_loss: 0.0025\n",
      "Epoch 20/100\n",
      "883/883 [==============================] - 0s 60us/step - loss: 5.8242e-04 - val_loss: 0.0025\n",
      "Epoch 21/100\n",
      "883/883 [==============================] - 0s 63us/step - loss: 5.5483e-04 - val_loss: 0.0024\n",
      "Epoch 22/100\n",
      "883/883 [==============================] - 0s 62us/step - loss: 5.3125e-04 - val_loss: 0.0024\n",
      "Epoch 23/100\n",
      "883/883 [==============================] - 0s 61us/step - loss: 5.1284e-04 - val_loss: 0.0024\n",
      "Epoch 24/100\n",
      "883/883 [==============================] - 0s 60us/step - loss: 4.9761e-04 - val_loss: 0.0024\n",
      "Epoch 25/100\n",
      "883/883 [==============================] - 0s 52us/step - loss: 4.8496e-04 - val_loss: 0.0024\n",
      "Epoch 26/100\n",
      "883/883 [==============================] - 0s 68us/step - loss: 4.7484e-04 - val_loss: 0.0024\n",
      "Epoch 27/100\n",
      "883/883 [==============================] - 0s 59us/step - loss: 4.6630e-04 - val_loss: 0.0024\n",
      "Epoch 28/100\n",
      "883/883 [==============================] - 0s 67us/step - loss: 4.5898e-04 - val_loss: 0.0023\n",
      "Epoch 29/100\n",
      "883/883 [==============================] - 0s 53us/step - loss: 4.5273e-04 - val_loss: 0.0023\n",
      "Epoch 30/100\n",
      "883/883 [==============================] - 0s 68us/step - loss: 4.4741e-04 - val_loss: 0.0023\n",
      "Epoch 31/100\n",
      "883/883 [==============================] - 0s 57us/step - loss: 4.4301e-04 - val_loss: 0.0023\n",
      "Epoch 32/100\n",
      "883/883 [==============================] - 0s 69us/step - loss: 4.3923e-04 - val_loss: 0.0023\n",
      "Epoch 33/100\n",
      "883/883 [==============================] - 0s 60us/step - loss: 4.3579e-04 - val_loss: 0.0023\n",
      "Epoch 34/100\n",
      "883/883 [==============================] - 0s 56us/step - loss: 4.3310e-04 - val_loss: 0.0023\n",
      "Epoch 35/100\n",
      "883/883 [==============================] - 0s 68us/step - loss: 4.3066e-04 - val_loss: 0.0023\n",
      "Epoch 36/100\n",
      "883/883 [==============================] - 0s 68us/step - loss: 4.2861e-04 - val_loss: 0.0023\n",
      "Epoch 37/100\n",
      "883/883 [==============================] - 0s 57us/step - loss: 4.2669e-04 - val_loss: 0.0023\n",
      "Epoch 38/100\n",
      "883/883 [==============================] - 0s 68us/step - loss: 4.2502e-04 - val_loss: 0.0023\n",
      "Epoch 39/100\n",
      "883/883 [==============================] - 0s 68us/step - loss: 4.2371e-04 - val_loss: 0.0023\n",
      "Epoch 40/100\n",
      "883/883 [==============================] - 0s 57us/step - loss: 4.2250e-04 - val_loss: 0.0023\n",
      "Epoch 41/100\n",
      "883/883 [==============================] - 0s 68us/step - loss: 4.2134e-04 - val_loss: 0.0023\n",
      "Epoch 42/100\n",
      "883/883 [==============================] - 0s 68us/step - loss: 4.2040e-04 - val_loss: 0.0023\n",
      "Epoch 43/100\n",
      "883/883 [==============================] - 0s 68us/step - loss: 4.1959e-04 - val_loss: 0.0023\n",
      "Epoch 44/100\n",
      "883/883 [==============================] - 0s 57us/step - loss: 4.1882e-04 - val_loss: 0.0023\n",
      "Epoch 45/100\n",
      "883/883 [==============================] - 0s 63us/step - loss: 4.1812e-04 - val_loss: 0.0023\n",
      "Epoch 46/100\n",
      "883/883 [==============================] - 0s 57us/step - loss: 4.1755e-04 - val_loss: 0.0023\n",
      "Epoch 47/100\n",
      "883/883 [==============================] - 0s 68us/step - loss: 4.1704e-04 - val_loss: 0.0023\n",
      "Epoch 48/100\n",
      "883/883 [==============================] - 0s 57us/step - loss: 4.1648e-04 - val_loss: 0.0023\n",
      "Epoch 49/100\n",
      "883/883 [==============================] - 0s 57us/step - loss: 4.1602e-04 - val_loss: 0.0023\n",
      "Epoch 50/100\n",
      "883/883 [==============================] - 0s 72us/step - loss: 4.1565e-04 - val_loss: 0.0023\n",
      "Epoch 51/100\n",
      "883/883 [==============================] - 0s 57us/step - loss: 4.1527e-04 - val_loss: 0.0023\n",
      "Epoch 52/100\n",
      "883/883 [==============================] - 0s 68us/step - loss: 4.1492e-04 - val_loss: 0.0023\n",
      "Epoch 53/100\n",
      "883/883 [==============================] - 0s 68us/step - loss: 4.1461e-04 - val_loss: 0.0023\n",
      "Epoch 54/100\n",
      "883/883 [==============================] - 0s 57us/step - loss: 4.1431e-04 - val_loss: 0.0023\n",
      "Epoch 55/100\n",
      "883/883 [==============================] - 0s 68us/step - loss: 4.1407e-04 - val_loss: 0.0023\n",
      "Epoch 56/100\n",
      "883/883 [==============================] - 0s 57us/step - loss: 4.1385e-04 - val_loss: 0.0023\n",
      "Epoch 57/100\n",
      "883/883 [==============================] - 0s 57us/step - loss: 4.1360e-04 - val_loss: 0.0023\n",
      "Epoch 58/100\n",
      "883/883 [==============================] - 0s 68us/step - loss: 4.1341e-04 - val_loss: 0.0023\n",
      "Epoch 59/100\n",
      "883/883 [==============================] - 0s 57us/step - loss: 4.1321e-04 - val_loss: 0.0023\n",
      "Epoch 60/100\n",
      "883/883 [==============================] - 0s 63us/step - loss: 4.1306e-04 - val_loss: 0.0023\n",
      "Epoch 61/100\n",
      "883/883 [==============================] - 0s 63us/step - loss: 4.1290e-04 - val_loss: 0.0023\n",
      "Epoch 62/100\n",
      "883/883 [==============================] - 0s 62us/step - loss: 4.1274e-04 - val_loss: 0.0023\n",
      "Epoch 63/100\n",
      "883/883 [==============================] - 0s 62us/step - loss: 4.1254e-04 - val_loss: 0.0023\n",
      "Epoch 64/100\n",
      "883/883 [==============================] - 0s 63us/step - loss: 4.1244e-04 - val_loss: 0.0023\n",
      "Epoch 65/100\n",
      "883/883 [==============================] - 0s 63us/step - loss: 4.1231e-04 - val_loss: 0.0023\n",
      "Epoch 66/100\n",
      "883/883 [==============================] - 0s 63us/step - loss: 4.1221e-04 - val_loss: 0.0023\n",
      "Epoch 67/100\n",
      "883/883 [==============================] - 0s 63us/step - loss: 4.1205e-04 - val_loss: 0.0023\n",
      "Epoch 68/100\n",
      "883/883 [==============================] - 0s 60us/step - loss: 4.1197e-04 - val_loss: 0.0023\n",
      "Epoch 69/100\n",
      "883/883 [==============================] - 0s 53us/step - loss: 4.1188e-04 - val_loss: 0.0023\n",
      "Epoch 70/100\n",
      "883/883 [==============================] - 0s 57us/step - loss: 4.1181e-04 - val_loss: 0.0023\n",
      "Epoch 71/100\n",
      "883/883 [==============================] - 0s 67us/step - loss: 4.1169e-04 - val_loss: 0.0023\n",
      "Epoch 72/100\n",
      "883/883 [==============================] - 0s 57us/step - loss: 4.1165e-04 - val_loss: 0.0023\n",
      "Epoch 73/100\n",
      "883/883 [==============================] - 0s 72us/step - loss: 4.1157e-04 - val_loss: 0.0023\n",
      "Epoch 74/100\n",
      "883/883 [==============================] - 0s 63us/step - loss: 4.1146e-04 - val_loss: 0.0023\n",
      "Epoch 75/100\n",
      "883/883 [==============================] - 0s 62us/step - loss: 4.1135e-04 - val_loss: 0.0023\n",
      "Epoch 76/100\n",
      "883/883 [==============================] - 0s 56us/step - loss: 4.1133e-04 - val_loss: 0.0023\n",
      "Epoch 77/100\n"
     ]
    },
    {
     "name": "stdout",
     "output_type": "stream",
     "text": [
      "883/883 [==============================] - 0s 68us/step - loss: 4.1130e-04 - val_loss: 0.0023\n",
      "Epoch 78/100\n",
      "883/883 [==============================] - 0s 57us/step - loss: 4.1121e-04 - val_loss: 0.0023\n",
      "Epoch 79/100\n",
      "883/883 [==============================] - 0s 57us/step - loss: 4.1115e-04 - val_loss: 0.0023\n",
      "Epoch 80/100\n",
      "883/883 [==============================] - 0s 69us/step - loss: 4.1108e-04 - val_loss: 0.0023\n",
      "Epoch 81/100\n",
      "883/883 [==============================] - 0s 63us/step - loss: 4.1101e-04 - val_loss: 0.0023\n",
      "Epoch 82/100\n",
      "883/883 [==============================] - 0s 63us/step - loss: 4.1098e-04 - val_loss: 0.0023\n",
      "Epoch 83/100\n",
      "883/883 [==============================] - 0s 63us/step - loss: 4.1094e-04 - val_loss: 0.0023\n",
      "Epoch 84/100\n",
      "883/883 [==============================] - 0s 54us/step - loss: 4.1094e-04 - val_loss: 0.0023\n",
      "Epoch 85/100\n",
      "883/883 [==============================] - 0s 74us/step - loss: 4.1085e-04 - val_loss: 0.0023\n",
      "Epoch 86/100\n",
      "883/883 [==============================] - 0s 64us/step - loss: 4.1082e-04 - val_loss: 0.0023\n",
      "Epoch 87/100\n",
      "883/883 [==============================] - 0s 65us/step - loss: 4.1079e-04 - val_loss: 0.0023\n",
      "Epoch 88/100\n",
      "883/883 [==============================] - 0s 63us/step - loss: 4.1075e-04 - val_loss: 0.0023\n",
      "Epoch 89/100\n",
      "883/883 [==============================] - 0s 62us/step - loss: 4.1072e-04 - val_loss: 0.0023\n",
      "Epoch 90/100\n",
      "883/883 [==============================] - 0s 61us/step - loss: 4.1067e-04 - val_loss: 0.0023\n",
      "Epoch 91/100\n",
      "883/883 [==============================] - 0s 62us/step - loss: 4.1065e-04 - val_loss: 0.0023\n",
      "Epoch 92/100\n",
      "883/883 [==============================] - 0s 62us/step - loss: 4.1059e-04 - val_loss: 0.0023\n",
      "Epoch 93/100\n",
      "883/883 [==============================] - 0s 61us/step - loss: 4.1053e-04 - val_loss: 0.0023\n",
      "Epoch 94/100\n",
      "883/883 [==============================] - 0s 63us/step - loss: 4.1057e-04 - val_loss: 0.0023\n",
      "Epoch 95/100\n",
      "883/883 [==============================] - 0s 61us/step - loss: 4.1050e-04 - val_loss: 0.0023\n",
      "Epoch 96/100\n",
      "883/883 [==============================] - 0s 60us/step - loss: 4.1047e-04 - val_loss: 0.0023\n",
      "Epoch 97/100\n",
      "883/883 [==============================] - 0s 69us/step - loss: 4.1045e-04 - val_loss: 0.0023\n",
      "Epoch 98/100\n",
      "883/883 [==============================] - 0s 61us/step - loss: 4.1043e-04 - val_loss: 0.0023\n",
      "Epoch 99/100\n",
      "883/883 [==============================] - 0s 65us/step - loss: 4.1041e-04 - val_loss: 0.0023\n",
      "Epoch 100/100\n",
      "883/883 [==============================] - 0s 62us/step - loss: 4.1040e-04 - val_loss: 0.0023\n"
     ]
    },
    {
     "data": {
      "text/plain": [
       "<keras.callbacks.History at 0x1ff9ca2cc18>"
      ]
     },
     "execution_count": 1324,
     "metadata": {},
     "output_type": "execute_result"
    }
   ],
   "source": [
    "early_stopping = EarlyStopping(monitor='val_loss', patience=20)\n",
    "autoencoder.fit(X_test, X_test,epochs=100,batch_size=128,shuffle=True,validation_split=0.1,callbacks=[early_stopping])"
   ]
  },
  {
   "cell_type": "code",
   "execution_count": 1325,
   "metadata": {},
   "outputs": [
    {
     "name": "stdout",
     "output_type": "stream",
     "text": [
      "(982, 16, 2)\n",
      "(982, 4, 8)\n"
     ]
    }
   ],
   "source": [
    "encoded_data =encoder_model.predict(X_test)\n",
    "print(X_test.shape)\n",
    "print(encoded_data.shape)\n",
    "# print(encoded_data[0])"
   ]
  },
  {
   "cell_type": "code",
   "execution_count": 1326,
   "metadata": {},
   "outputs": [
    {
     "name": "stdout",
     "output_type": "stream",
     "text": [
      "[1.3574797 1.3590193 1.3568652 1.3571761]\n",
      "(982, 4)\n"
     ]
    }
   ],
   "source": [
    "encoded_data1=np.sum(encoded_data,axis=2)\n",
    "# encoded_data1=encoded_data.reshape([498,32])\n",
    "print(encoded_data1[0])\n",
    "print(encoded_data1.shape)"
   ]
  },
  {
   "cell_type": "code",
   "execution_count": 1327,
   "metadata": {},
   "outputs": [],
   "source": [
    "from sklearn.cluster import SpectralClustering\n",
    "from sklearn.metrics import calinski_harabasz_score"
   ]
  },
  {
   "cell_type": "code",
   "execution_count": 1328,
   "metadata": {},
   "outputs": [],
   "source": [
    "# #rbf构造邻接矩阵\n",
    "# X=encoded_data1\n",
    "# scores=[]\n",
    "# s=dict()\n",
    "# label={}\n",
    "# for index,gamma in enumerate([0.01,0.1,1,10]):\n",
    "#     for index,k in enumerate((4,5,6,7,8,9)):\n",
    "#         pred_y=SpectralClustering(n_clusters=k, gamma=gamma).fit_predict(X)\n",
    "#         print(\"Calinski-Harabasz Score with gamma=\",gamma,\"n_cluster=\",k,\"score=\",calinski_harabaz_score(X,pred_y))\n",
    "#         tmp=dict()\n",
    "#         tmp['gamma']=gamma\n",
    "#         tmp['n_cluster']=k\n",
    "#         tmp['score']=calinski_harabaz_score(X,pred_y)\n",
    "#         s[calinski_harabaz_score(X,pred_y)]=tmp\n",
    "#         label[(gamma,k)]=pred_y\n",
    "#         scores.append(calinski_harabaz_score(X,pred_y))\n",
    "# gamma,n_cluster=s.get(np.max(scores))['gamma'],s.get(np.max(scores))['n_cluster']\n",
    "# last_label=label[(gamma,n_cluster)]\n",
    "# print(np.max(scores))\n",
    "# print(\"最大得分项：\")\n",
    "# print(s.get(np.max(scores)))"
   ]
  },
  {
   "cell_type": "code",
   "execution_count": 1329,
   "metadata": {},
   "outputs": [
    {
     "name": "stdout",
     "output_type": "stream",
     "text": [
      "Calinski-Harabasz Score with n_neighbors= 9 n_cluster= 4 score= 172.73122887636407\n",
      "Calinski-Harabasz Score with n_neighbors= 9 n_cluster= 5 score= 130.00366387186153\n",
      "Calinski-Harabasz Score with n_neighbors= 9 n_cluster= 6 score= 105.61879814980716\n",
      "Calinski-Harabasz Score with n_neighbors= 9 n_cluster= 7 score= 97.34196018460766\n",
      "Calinski-Harabasz Score with n_neighbors= 9 n_cluster= 8 score= 85.70877146320605\n",
      "Calinski-Harabasz Score with n_neighbors= 9 n_cluster= 9 score= 69.91048255387248\n",
      "Calinski-Harabasz Score with n_neighbors= 9 n_cluster= 10 score= 89.58396814824708\n",
      "Calinski-Harabasz Score with n_neighbors= 9 n_cluster= 11 score= 86.4635574505613\n",
      "Calinski-Harabasz Score with n_neighbors= 9 n_cluster= 12 score= 81.45882860988515\n",
      "Calinski-Harabasz Score with n_neighbors= 9 n_cluster= 13 score= 73.97658302853588\n",
      "Calinski-Harabasz Score with n_neighbors= 9 n_cluster= 14 score= 68.68733213396249\n",
      "Calinski-Harabasz Score with n_neighbors= 10 n_cluster= 4 score= 171.17200515279976\n",
      "Calinski-Harabasz Score with n_neighbors= 10 n_cluster= 5 score= 130.03408229537726\n",
      "Calinski-Harabasz Score with n_neighbors= 10 n_cluster= 6 score= 105.39185407892424\n",
      "Calinski-Harabasz Score with n_neighbors= 10 n_cluster= 7 score= 96.87518846168605\n",
      "Calinski-Harabasz Score with n_neighbors= 10 n_cluster= 8 score= 83.8141534852967\n",
      "Calinski-Harabasz Score with n_neighbors= 10 n_cluster= 9 score= 77.02571581038525\n",
      "Calinski-Harabasz Score with n_neighbors= 10 n_cluster= 10 score= 63.114966377847345\n",
      "Calinski-Harabasz Score with n_neighbors= 10 n_cluster= 11 score= 86.45313557224222\n",
      "Calinski-Harabasz Score with n_neighbors= 10 n_cluster= 12 score= 78.54674976614278\n",
      "Calinski-Harabasz Score with n_neighbors= 10 n_cluster= 13 score= 73.90642338728824\n",
      "Calinski-Harabasz Score with n_neighbors= 10 n_cluster= 14 score= 69.6709330229319\n",
      "Calinski-Harabasz Score with n_neighbors= 11 n_cluster= 4 score= 171.42252544255314\n",
      "Calinski-Harabasz Score with n_neighbors= 11 n_cluster= 5 score= 130.80982779237218\n",
      "Calinski-Harabasz Score with n_neighbors= 11 n_cluster= 6 score= 105.38442694253355\n",
      "Calinski-Harabasz Score with n_neighbors= 11 n_cluster= 7 score= 96.75661997945416\n",
      "Calinski-Harabasz Score with n_neighbors= 11 n_cluster= 8 score= 83.334988784096\n",
      "Calinski-Harabasz Score with n_neighbors= 11 n_cluster= 9 score= 74.84286942622504\n",
      "Calinski-Harabasz Score with n_neighbors= 11 n_cluster= 10 score= 63.23816977448683\n",
      "Calinski-Harabasz Score with n_neighbors= 11 n_cluster= 11 score= 83.50061591829575\n",
      "Calinski-Harabasz Score with n_neighbors= 11 n_cluster= 12 score= 85.72391903062115\n",
      "Calinski-Harabasz Score with n_neighbors= 11 n_cluster= 13 score= 74.69817116543338\n",
      "Calinski-Harabasz Score with n_neighbors= 11 n_cluster= 14 score= 71.7392740956784\n",
      "Calinski-Harabasz Score with n_neighbors= 12 n_cluster= 4 score= 173.504326263989\n",
      "Calinski-Harabasz Score with n_neighbors= 12 n_cluster= 5 score= 130.82887165472215\n",
      "Calinski-Harabasz Score with n_neighbors= 12 n_cluster= 6 score= 105.32259860937916\n",
      "Calinski-Harabasz Score with n_neighbors= 12 n_cluster= 7 score= 94.5974058509054\n",
      "Calinski-Harabasz Score with n_neighbors= 12 n_cluster= 8 score= 83.05344391696072\n",
      "Calinski-Harabasz Score with n_neighbors= 12 n_cluster= 9 score= 75.21708808905018\n",
      "Calinski-Harabasz Score with n_neighbors= 12 n_cluster= 10 score= 66.45598479384977\n",
      "Calinski-Harabasz Score with n_neighbors= 12 n_cluster= 11 score= 84.1243952855199\n",
      "Calinski-Harabasz Score with n_neighbors= 12 n_cluster= 12 score= 83.13471574401957\n",
      "Calinski-Harabasz Score with n_neighbors= 12 n_cluster= 13 score= 78.54460311837096\n",
      "Calinski-Harabasz Score with n_neighbors= 12 n_cluster= 14 score= 72.80404436615646\n",
      "Calinski-Harabasz Score with n_neighbors= 13 n_cluster= 4 score= 173.2777564579872\n",
      "Calinski-Harabasz Score with n_neighbors= 13 n_cluster= 5 score= 130.81168140140701\n",
      "Calinski-Harabasz Score with n_neighbors= 13 n_cluster= 6 score= 105.34836812176658\n",
      "Calinski-Harabasz Score with n_neighbors= 13 n_cluster= 7 score= 94.46146073303905\n",
      "Calinski-Harabasz Score with n_neighbors= 13 n_cluster= 8 score= 83.05264282019814\n",
      "Calinski-Harabasz Score with n_neighbors= 13 n_cluster= 9 score= 70.88460043781474\n",
      "Calinski-Harabasz Score with n_neighbors= 13 n_cluster= 10 score= 66.09890285235076\n",
      "Calinski-Harabasz Score with n_neighbors= 13 n_cluster= 11 score= 86.44537728367206\n",
      "Calinski-Harabasz Score with n_neighbors= 13 n_cluster= 12 score= 82.99766697372306\n",
      "Calinski-Harabasz Score with n_neighbors= 13 n_cluster= 13 score= 78.66568983749175\n",
      "Calinski-Harabasz Score with n_neighbors= 13 n_cluster= 14 score= 72.66595816873931\n",
      "Calinski-Harabasz Score with n_neighbors= 14 n_cluster= 4 score= 171.04456728058943\n",
      "Calinski-Harabasz Score with n_neighbors= 14 n_cluster= 5 score= 130.81046969763005\n",
      "Calinski-Harabasz Score with n_neighbors= 14 n_cluster= 6 score= 105.33823532122034\n",
      "Calinski-Harabasz Score with n_neighbors= 14 n_cluster= 7 score= 94.18458995484804\n",
      "Calinski-Harabasz Score with n_neighbors= 14 n_cluster= 8 score= 83.76616221934721\n",
      "Calinski-Harabasz Score with n_neighbors= 14 n_cluster= 9 score= 103.65890089362591\n",
      "Calinski-Harabasz Score with n_neighbors= 14 n_cluster= 10 score= 61.9414370741879\n",
      "Calinski-Harabasz Score with n_neighbors= 14 n_cluster= 11 score= 86.98844586937888\n",
      "Calinski-Harabasz Score with n_neighbors= 14 n_cluster= 12 score= 82.98243021778546\n",
      "Calinski-Harabasz Score with n_neighbors= 14 n_cluster= 13 score= 78.58349060363052\n",
      "Calinski-Harabasz Score with n_neighbors= 14 n_cluster= 14 score= 72.58492919027499\n",
      "Calinski-Harabasz Score with n_neighbors= 15 n_cluster= 4 score= 173.08174176043462\n",
      "Calinski-Harabasz Score with n_neighbors= 15 n_cluster= 5 score= 131.9479755278653\n",
      "Calinski-Harabasz Score with n_neighbors= 15 n_cluster= 6 score= 105.32243888313165\n",
      "Calinski-Harabasz Score with n_neighbors= 15 n_cluster= 7 score= 94.0890147961545\n",
      "Calinski-Harabasz Score with n_neighbors= 15 n_cluster= 8 score= 83.76735009889126\n",
      "Calinski-Harabasz Score with n_neighbors= 15 n_cluster= 9 score= 105.25037504512441\n",
      "Calinski-Harabasz Score with n_neighbors= 15 n_cluster= 10 score= 99.70450195557417\n",
      "Calinski-Harabasz Score with n_neighbors= 15 n_cluster= 11 score= 88.44059009091278\n",
      "Calinski-Harabasz Score with n_neighbors= 15 n_cluster= 12 score= 83.05360885963232\n",
      "Calinski-Harabasz Score with n_neighbors= 15 n_cluster= 13 score= 78.07240087836891\n",
      "Calinski-Harabasz Score with n_neighbors= 15 n_cluster= 14 score= 72.55597322831977\n",
      "Calinski-Harabasz Score with n_neighbors= 16 n_cluster= 4 score= 170.9017136417995\n",
      "Calinski-Harabasz Score with n_neighbors= 16 n_cluster= 5 score= 130.14999238599728\n",
      "Calinski-Harabasz Score with n_neighbors= 16 n_cluster= 6 score= 105.28823885238002\n",
      "Calinski-Harabasz Score with n_neighbors= 16 n_cluster= 7 score= 94.14759206047013\n",
      "Calinski-Harabasz Score with n_neighbors= 16 n_cluster= 8 score= 83.00340829034845\n",
      "Calinski-Harabasz Score with n_neighbors= 16 n_cluster= 9 score= 105.22661681577556\n",
      "Calinski-Harabasz Score with n_neighbors= 16 n_cluster= 10 score= 93.53510729044574\n",
      "Calinski-Harabasz Score with n_neighbors= 16 n_cluster= 11 score= 88.42340988170128\n",
      "Calinski-Harabasz Score with n_neighbors= 16 n_cluster= 12 score= 83.02946718960845\n",
      "Calinski-Harabasz Score with n_neighbors= 16 n_cluster= 13 score= 76.56534379991832\n",
      "Calinski-Harabasz Score with n_neighbors= 16 n_cluster= 14 score= 71.44681519681984\n",
      "173.504326263989\n",
      "最大得分项：\n",
      "{'n_neighbors': 12, 'n_cluster': 4, 'score': 173.504326263989}\n"
     ]
    }
   ],
   "source": [
    "#KNN法构造邻接矩阵\n",
    "X=encoded_data1\n",
    "scores=[]\n",
    "s=dict()\n",
    "label={}\n",
    "for index,nb in enumerate([9,10,11,12,13,14,15,16]):\n",
    "    for index,k in enumerate((4,5,6,7,8,9,10,11,12,13,14)):\n",
    "        pred_y=SpectralClustering(affinity='nearest_neighbors',n_clusters=k, n_neighbors=nb).fit_predict(X)\n",
    "        print(\"Calinski-Harabasz Score with n_neighbors=\",nb,\"n_cluster=\",k,\"score=\",calinski_harabasz_score(X,pred_y))\n",
    "        tmp=dict()\n",
    "        tmp['n_neighbors']=nb\n",
    "        tmp['n_cluster']=k\n",
    "        tmp['score']=calinski_harabasz_score(X,pred_y)\n",
    "        s[calinski_harabasz_score(X,pred_y)]=tmp\n",
    "        label[(nb,k)]=pred_y\n",
    "        scores.append(calinski_harabasz_score(X,pred_y))\n",
    "nb,n_cluster=s.get(np.max(scores))['n_neighbors'],s.get(np.max(scores))['n_cluster']\n",
    "last_label=label[(nb,n_cluster)]\n",
    "print(np.max(scores))\n",
    "print(\"最大得分项：\")\n",
    "print(s.get(np.max(scores)))"
   ]
  },
  {
   "cell_type": "code",
   "execution_count": 1278,
   "metadata": {},
   "outputs": [],
   "source": [
    "def savelabel(loc,label):\n",
    "    n=len(set(label))\n",
    "    dic0={}\n",
    "    for i in label:\n",
    "        if i in dic0:\n",
    "            dic0[i]+=1\n",
    "        else:\n",
    "            dic0[i]=1\n",
    "    sorted_x = sorted(dic0.items(), key=lambda x : x[1], reverse=True)\n",
    "    newlabel=[-1]*len(label)\n",
    "    for i in range(n):\n",
    "        k,v=sorted_x[i]\n",
    "        for j in range(len(label)):\n",
    "            if label[j]==k:\n",
    "                newlabel[j]=i           \n",
    "    data=[]\n",
    "    dic={}\n",
    "    for i in range(loc.shape[0]):\n",
    "        loc1=loc[i]\n",
    "        lab=newlabel[i]\n",
    "        for j in range(loc1.shape[0]):\n",
    "            x,y=loc1[j]\n",
    "            if (y,x) in dic:\n",
    "                dic[(y,x)].append(lab)\n",
    "            else:\n",
    "                dic[(y,x)]=[lab]\n",
    "    for tup in dic:\n",
    "        y,x=tup\n",
    "        count=0\n",
    "        dic1={}\n",
    "        lis=dic[tup]\n",
    "        for lab in lis:\n",
    "            if lab in dic1:\n",
    "                dic1[lab]+=1\n",
    "            else:\n",
    "                dic1[lab]=1\n",
    "        mx=max(dic1.values())\n",
    "        for k,v in dic1.items():\n",
    "            if v==mx:\n",
    "                mostlab=k\n",
    "                break\n",
    "        data.append([y,x,mostlab])\n",
    "    \n",
    "    return data\n",
    "        "
   ]
  },
  {
   "cell_type": "code",
   "execution_count": 1330,
   "metadata": {},
   "outputs": [
    {
     "name": "stdout",
     "output_type": "stream",
     "text": [
      "(3912, 3)\n"
     ]
    }
   ],
   "source": [
    "data=savelabel(loc_test,last_label)\n",
    "data=pd.DataFrame(data)\n",
    "print(data.shape)\n",
    "data.columns=['Y','X','label']\n",
    "with pd.ExcelWriter('out/CAE_Cluster/jianlishuiku/AuAg_4.xlsx') as writer:\n",
    "    data.to_excel(writer,sheet_name='AuAg')"
   ]
  },
  {
   "cell_type": "code",
   "execution_count": 1331,
   "metadata": {},
   "outputs": [
    {
     "data": {
      "image/png": "[encoded data removed]",
      "text/plain": [
       "<Figure size 432x288 with 2 Axes>"
      ]
     },
     "metadata": {
      "needs_background": "light"
     },
     "output_type": "display_data"
    }
   ],
   "source": [
    "import matplotlib.pyplot as plt\n",
    "data.plot.scatter('Y', 'X', c='label', colormap='jet')\n",
    "plt.title('result1')\n",
    "plt.show()"
   ]
  },
  {
   "cell_type": "code",
   "execution_count": null,
   "metadata": {},
   "outputs": [],
   "source": []
  }
 ],
 "metadata": {
  "kernelspec": {
   "display_name": "Python 3.8.10 64-bit",
   "language": "python",
   "name": "python3"
  },
  "language_info": {
   "codemirror_mode": {
    "name": "ipython",
    "version": 3
   },
   "file_extension": ".py",
   "mimetype": "text/x-python",
   "name": "python",
   "nbconvert_exporter": "python",
   "pygments_lexer": "ipython3",
   "version": "3.10.6"
  },
  "vscode": {
   "interpreter": {
    "hash": "31f2aee4e71d21fbe5cf8b01ff0e069b9275f58929596ceb00d14d90e3e16cd6"
   }
  }
 },
 "nbformat": 4,
 "nbformat_minor": 2
}
