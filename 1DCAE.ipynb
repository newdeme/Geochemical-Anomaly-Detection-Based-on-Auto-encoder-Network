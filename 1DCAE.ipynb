{
 "cells": [
  {
   "cell_type": "code",
   "execution_count": 8,
   "metadata": {},
   "outputs": [],
   "source": [
    "import pandas as pd\n",
    "import numpy as np\n",
    "import os\n",
    "import math"
   ]
  },
  {
   "cell_type": "code",
   "execution_count": 9,
   "metadata": {
    "scrolled": true
   },
   "outputs": [
    {
     "data": {
      "text/html": [
       "<div>\n",
       "<style scoped>\n",
       "    .dataframe tbody tr th:only-of-type {\n",
       "        vertical-align: middle;\n",
       "    }\n",
       "\n",
       "    .dataframe tbody tr th {\n",
       "        vertical-align: top;\n",
       "    }\n",
       "\n",
       "    .dataframe thead th {\n",
       "        text-align: right;\n",
       "    }\n",
       "</style>\n",
       "<table border=\"1\" class=\"dataframe\">\n",
       "  <thead>\n",
       "    <tr style=\"text-align: right;\">\n",
       "      <th></th>\n",
       "      <th>X</th>\n",
       "      <th>Y</th>\n",
       "      <th>Au</th>\n",
       "      <th>Ag</th>\n",
       "      <th>As</th>\n",
       "      <th>Sb</th>\n",
       "      <th>Bi</th>\n",
       "      <th>Co</th>\n",
       "      <th>Cu</th>\n",
       "      <th>Mo</th>\n",
       "      <th>Ni</th>\n",
       "      <th>Pb</th>\n",
       "      <th>W</th>\n",
       "      <th>Zn</th>\n",
       "    </tr>\n",
       "  </thead>\n",
       "  <tbody>\n",
       "    <tr>\n",
       "      <th>0</th>\n",
       "      <td>382898.8</td>\n",
       "      <td>52224.9</td>\n",
       "      <td>1.10</td>\n",
       "      <td>0.06</td>\n",
       "      <td>27.0</td>\n",
       "      <td>6.31</td>\n",
       "      <td>0.31</td>\n",
       "      <td>13.3</td>\n",
       "      <td>20.6</td>\n",
       "      <td>0.99</td>\n",
       "      <td>22.6</td>\n",
       "      <td>19.9</td>\n",
       "      <td>1.95</td>\n",
       "      <td>58.1</td>\n",
       "    </tr>\n",
       "    <tr>\n",
       "      <th>1</th>\n",
       "      <td>382894.8</td>\n",
       "      <td>52224.9</td>\n",
       "      <td>1.85</td>\n",
       "      <td>0.04</td>\n",
       "      <td>28.1</td>\n",
       "      <td>6.52</td>\n",
       "      <td>0.40</td>\n",
       "      <td>14.2</td>\n",
       "      <td>20.3</td>\n",
       "      <td>1.39</td>\n",
       "      <td>25.3</td>\n",
       "      <td>23.3</td>\n",
       "      <td>2.46</td>\n",
       "      <td>69.9</td>\n",
       "    </tr>\n",
       "    <tr>\n",
       "      <th>2</th>\n",
       "      <td>382890.8</td>\n",
       "      <td>52224.9</td>\n",
       "      <td>1.82</td>\n",
       "      <td>0.08</td>\n",
       "      <td>25.9</td>\n",
       "      <td>4.16</td>\n",
       "      <td>0.37</td>\n",
       "      <td>15.5</td>\n",
       "      <td>22.1</td>\n",
       "      <td>1.09</td>\n",
       "      <td>29.6</td>\n",
       "      <td>37.1</td>\n",
       "      <td>3.28</td>\n",
       "      <td>63.3</td>\n",
       "    </tr>\n",
       "    <tr>\n",
       "      <th>3</th>\n",
       "      <td>382886.8</td>\n",
       "      <td>52224.9</td>\n",
       "      <td>2.26</td>\n",
       "      <td>0.06</td>\n",
       "      <td>26.7</td>\n",
       "      <td>6.24</td>\n",
       "      <td>0.31</td>\n",
       "      <td>15.3</td>\n",
       "      <td>24.3</td>\n",
       "      <td>2.28</td>\n",
       "      <td>31.3</td>\n",
       "      <td>68.4</td>\n",
       "      <td>4.75</td>\n",
       "      <td>73.2</td>\n",
       "    </tr>\n",
       "    <tr>\n",
       "      <th>4</th>\n",
       "      <td>382882.8</td>\n",
       "      <td>52224.9</td>\n",
       "      <td>1.22</td>\n",
       "      <td>0.08</td>\n",
       "      <td>26.3</td>\n",
       "      <td>5.22</td>\n",
       "      <td>0.31</td>\n",
       "      <td>14.2</td>\n",
       "      <td>23.0</td>\n",
       "      <td>1.21</td>\n",
       "      <td>29.3</td>\n",
       "      <td>33.4</td>\n",
       "      <td>5.18</td>\n",
       "      <td>76.4</td>\n",
       "    </tr>\n",
       "  </tbody>\n",
       "</table>\n",
       "</div>"
      ],
      "text/plain": [
       "          X        Y    Au    Ag    As    Sb    Bi    Co    Cu    Mo    Ni  \\\n",
       "0  382898.8  52224.9  1.10  0.06  27.0  6.31  0.31  13.3  20.6  0.99  22.6   \n",
       "1  382894.8  52224.9  1.85  0.04  28.1  6.52  0.40  14.2  20.3  1.39  25.3   \n",
       "2  382890.8  52224.9  1.82  0.08  25.9  4.16  0.37  15.5  22.1  1.09  29.6   \n",
       "3  382886.8  52224.9  2.26  0.06  26.7  6.24  0.31  15.3  24.3  2.28  31.3   \n",
       "4  382882.8  52224.9  1.22  0.08  26.3  5.22  0.31  14.2  23.0  1.21  29.3   \n",
       "\n",
       "     Pb     W    Zn  \n",
       "0  19.9  1.95  58.1  \n",
       "1  23.3  2.46  69.9  \n",
       "2  37.1  3.28  63.3  \n",
       "3  68.4  4.75  73.2  \n",
       "4  33.4  5.18  76.4  "
      ]
     },
     "execution_count": 9,
     "metadata": {},
     "output_type": "execute_result"
    }
   ],
   "source": [
    "file_path='./data/10000.xls'\n",
    "#file_path1='./data/1万土壤数据.xlsx'\n",
    "data1=pd.read_excel(file_path,sheet_name='中河2')\n",
    "data2=pd.read_excel(file_path,sheet_name='孤山岭1')\n",
    "data3=pd.read_excel(file_path,sheet_name='石板沟1')\n",
    "data4=pd.read_excel(file_path,sheet_name='摩云岭1')\n",
    "data1.head()"
   ]
  },
  {
   "cell_type": "code",
   "execution_count": 10,
   "metadata": {},
   "outputs": [
    {
     "data": {
      "text/plain": [
       "(2645, 2)"
      ]
     },
     "execution_count": 10,
     "metadata": {},
     "output_type": "execute_result"
    }
   ],
   "source": [
    "data4.loc[:,['X','Y']].shape"
   ]
  },
  {
   "cell_type": "code",
   "execution_count": 11,
   "metadata": {},
   "outputs": [
    {
     "name": "stdout",
     "output_type": "stream",
     "text": [
      "(5606, 2)\n",
      "(3925, 2)\n",
      "\n"
     ]
    }
   ],
   "source": [
    "data_trian1=pd.concat([data2.loc[:,['Ag','W']],data3.loc[:,['Ag','W']],data4.loc[:,['Ag','W']]]) # 做元素选择\n",
    "# data_trian1=data4.loc[:,['W']]\n",
    "# data_trian1=data3.loc[:,['Pb','Zn','Ag']]\n",
    "data_test1=data1.loc[:,['Ag','W']]\n",
    "# data_trian=data1.loc[0:int(1989*0.8),['Pb','Zn','Ag']]\n",
    "# data_test=data1.loc[int(1989*0.8)+1:1989,['Pb','Zn','Ag']]\n",
    "# data_trian2=data1.loc[:,['Cu']]\n",
    "# data_test2=data2.loc[:,['Cu']]\n",
    "location_test=data1.loc[:,['X','Y']]\n",
    "location_trian=pd.concat([data2.loc[:,['X','Y']],data3.loc[:,['X','Y']],data4.loc[:,['X','Y']]])\n",
    "# location_trian=data4.loc[:,['X','Y']]\n",
    "# print(data2.loc[:,['W']].shape)\n",
    "# print(data3.loc[:,['W']].shape)\n",
    "print(data_trian1.shape)\n",
    "print(data_test1.shape)\n",
    "print()\n",
    "\n"
   ]
  },
  {
   "cell_type": "code",
   "execution_count": 12,
   "metadata": {},
   "outputs": [],
   "source": [
    "from sklearn import preprocessing\n",
    "scaler = preprocessing.MinMaxScaler() #min-max标准化\n",
    "#scaler = preprocessing.StandardScaler()  #z-score标准化\n",
    "# data_trian = scaler.fit_transform(data_trian)\n",
    "# data_test = scaler.fit_transform(data_test)\n",
    "data_trian1=scaler.fit_transform(data_trian1) \n",
    "data_test1=scaler.fit_transform(data_test1) \n",
    "# data_trian2=scaler.fit_transform(data_trian2) \n",
    "# data_test2=scaler.fit_transform(data_test2) "
   ]
  },
  {
   "cell_type": "code",
   "execution_count": 13,
   "metadata": {},
   "outputs": [],
   "source": [
    "#滑动窗口长度；步长\n",
    "sequence_length = 32#采样点数量\n",
    "time_step = 8#滑窗步长"
   ]
  },
  {
   "cell_type": "code",
   "execution_count": 14,
   "metadata": {},
   "outputs": [],
   "source": [
    "#截取滑动窗口的数据\n",
    "def get_data(start, end, data, location, sequence_length, time_step):\n",
    "    result = []\n",
    "    loc=[]\n",
    "    for index in range(start, end- sequence_length+1 , time_step):\n",
    "        result.append(np.array(data[index: index + sequence_length])) #.values\n",
    "        loc.append(np.array(location[index: index + sequence_length]))\n",
    "    result = np.array(result) #数组\n",
    "    loc=np.array(loc)\n",
    "#     np.random.shuffle(result) #打乱顺序\n",
    "    X_train = result  #[:, :] #训练\n",
    "    return X_train,loc"
   ]
  },
  {
   "cell_type": "code",
   "execution_count": 15,
   "metadata": {},
   "outputs": [],
   "source": [
    "def data_dist(location):\n",
    "    dist=[]\n",
    "    loc_list=location.values\n",
    "    for i in range(len(location)):\n",
    "        tmp=[]\n",
    "        for j in range(len(location)):\n",
    "            tmp.append(np.linalg.norm(loc_list[i]-loc_list[j]))\n",
    "        dist.append(tmp)\n",
    "    return dist"
   ]
  },
  {
   "cell_type": "code",
   "execution_count": 16,
   "metadata": {},
   "outputs": [],
   "source": [
    "def get_data1(start, end, data, location, sequence_length, time_step,dist):\n",
    "    result=[]\n",
    "    newloc=[]\n",
    "    loc1=location.values\n",
    "    for k in range(start,end,time_step):\n",
    "        tmp=dist[k]\n",
    "        res=[]\n",
    "        loc2=[]\n",
    "        for _ in range(sequence_length):\n",
    "            idx=dist[k].index(min(tmp))\n",
    "            res.append(data[idx])\n",
    "            loc2.append(loc1[idx])\n",
    "            tmp.remove(min(tmp))\n",
    "        result.append(res)\n",
    "        newloc.append(loc2)\n",
    "    result=np.array(result)\n",
    "    newloc=np.array(newloc)\n",
    "    return result,newloc                           "
   ]
  },
  {
   "cell_type": "code",
   "execution_count": 17,
   "metadata": {},
   "outputs": [],
   "source": [
    "dist_trian=data_dist(location_trian)\n",
    "dist_test=data_dist(location_test)"
   ]
  },
  {
   "cell_type": "code",
   "execution_count": 874,
   "metadata": {},
   "outputs": [],
   "source": [
    "X_train,loc_trian = get_data(0, len(data_trian1), data_trian1, location_trian,sequence_length, time_step,dist_trian)"
   ]
  },
  {
   "cell_type": "code",
   "execution_count": 875,
   "metadata": {},
   "outputs": [
    {
     "name": "stdout",
     "output_type": "stream",
     "text": [
      "(697, 32, 2)\n",
      "(697, 32, 2)\n",
      "(5606, 2)\n"
     ]
    }
   ],
   "source": [
    "print(X_train.shape)\n",
    "print(loc_trian.shape)\n",
    "print(data_trian1.shape)"
   ]
  },
  {
   "cell_type": "code",
   "execution_count": 876,
   "metadata": {},
   "outputs": [],
   "source": [
    "import tensorflow as tf \n",
    "from keras.models import Model, load_model, Sequential \n",
    "from keras.layers import Conv1D, LSTM, Dropout, Dense  \n",
    "from keras.layers import MaxPooling1D, UpSampling1D, Flatten, Reshape \n",
    "from keras.callbacks import ModelCheckpoint, TensorBoard, EarlyStopping"
   ]
  },
  {
   "cell_type": "code",
   "execution_count": 877,
   "metadata": {},
   "outputs": [],
   "source": [
    "from keras.models import Sequential\n",
    "from keras.layers.recurrent import LSTM\n",
    "from keras.layers.wrappers import TimeDistributed\n",
    "from keras.layers.core import Dense, RepeatVector\n",
    "from keras.layers.noise import GaussianDropout,GaussianNoise\n"
   ]
  },
  {
   "cell_type": "code",
   "execution_count": 3,
   "metadata": {},
   "outputs": [],
   "source": [
    "class Lstm_Autoencoder(object):\n",
    "    model_name = 'Lstm_Autoencoder'\n",
    "    VERBOSE = 1\n",
    "\n",
    "    def __init__(self):\n",
    "        self.model = None\n",
    "        self.time_window_size = None\n",
    "        self.config = None\n",
    "        self.metric = None\n",
    "        self.threshold = None\n",
    "        self.feature_dimentions = None\n",
    "\n",
    "    @staticmethod\n",
    "    def create_model(time_window_size, feature_dimentions, metric):\n",
    "        model = Sequential()\n",
    "        model.add(GaussianNoise(0.01,input_shape=(time_window_size, feature_dimentions)))\n",
    "        model.add(Conv1D(filters=32, kernel_size=5, padding='same', activation='relu',\n",
    "                        input_shape=(time_window_size, feature_dimentions)))\n",
    "        model.add(MaxPooling1D(pool_size=2))\n",
    "        \n",
    "        model.add(Conv1D(filters=16, kernel_size=3, padding='same', activation='relu',\n",
    "                        input_shape=(16,32)))\n",
    "        model.add(MaxPooling1D(pool_size=2))\n",
    "        \n",
    "        model.add(Conv1D(filters=8, kernel_size=3, padding='same', activation='relu',\n",
    "                        input_shape=(8,16)))\n",
    "        model.add(MaxPooling1D(pool_size=2))    \n",
    "        \n",
    "        model.add(UpSampling1D(size=2))\n",
    "        model.add(Conv1D(filters=8, kernel_size=3, padding='same', activation='relu',\n",
    "                        input_shape=(8, 8)))\n",
    "\n",
    "        model.add(UpSampling1D(size=2))\n",
    "        model.add(Conv1D(filters=16, kernel_size=3, padding='same', activation='relu',\n",
    "                        input_shape=(16, 8)))\n",
    "        \n",
    "        model.add(UpSampling1D(size=2))\n",
    "        model.add(Conv1D(filters=32, kernel_size=3, padding='same', activation='relu',\n",
    "                        input_shape=(32, 16)))\n",
    "        \n",
    "        model.add(Conv1D(filters=feature_dimentions, kernel_size=5, padding='same', activation='relu',\n",
    "                        input_shape=(32, 32)))\n",
    "#        model.add(TimeDistributed(Dense(units=feature_dimentions, activation=\"linear\")))\n",
    "        \n",
    "        model.compile(loss=\"mse\", optimizer='adam', metrics=[metric])\n",
    "\n",
    "        print(model.summary())\n",
    "        return model\n",
    "    \n",
    "  \n",
    "\n",
    "    def load_model(self, model_dir_path):\n",
    "        config_file_path = Lstm_Autoencoder.get_config_file(model_dir_path)\n",
    "        self.config = np.load(config_file_path).item()\n",
    "        self.metric = self.config['metric']\n",
    "        self.time_window_size = self.config['time_window_size']\n",
    "        self.feature_dimentions = self.config['feature_dimentions']\n",
    "        # self.threshold = self.config['threshold']\n",
    "        self.model = Lstm_Autoencoder.create_model(self.time_window_size, self.feature_dimentions, self.metric)\n",
    "        weight_file_path = Lstm_Autoencoder.get_weight_file(model_dir_path)\n",
    "        self.model.load_weights(weight_file_path)\n",
    "\n",
    "    @staticmethod\n",
    "    def get_config_file(model_dir_path):\n",
    "        return model_dir_path + '/' + Lstm_Autoencoder.model_name + '-config.npy'\n",
    "\n",
    "    @staticmethod\n",
    "    def get_weight_file(model_dir_path):\n",
    "        return model_dir_path + '/' + Lstm_Autoencoder.model_name + '-weights.h5'\n",
    "\n",
    "    @staticmethod\n",
    "    def get_architecture_file(model_dir_path):\n",
    "        return model_dir_path + '/' + Lstm_Autoencoder.model_name + '-architecture.json'\n",
    "\n",
    "    def fit(self, X_train_data, y_train_data, model_dir_path, batch_size=32, epochs=50,\n",
    "            validation_split=0.2, metric='mean_absolute_error'):\n",
    "\n",
    "        self.metric = metric\n",
    "        self.time_window_size = X_train_data.shape[1]\n",
    "        self.feature_dimentions = X_train_data.shape[2]\n",
    "\n",
    "        weight_file_path = Lstm_Autoencoder.get_weight_file(model_dir_path=model_dir_path)\n",
    "        architecture_file_path = Lstm_Autoencoder.get_architecture_file(model_dir_path)\n",
    "        early_stopping = EarlyStopping(monitor='val_loss', patience=10) ##5\n",
    "        checkpoint = ModelCheckpoint(weight_file_path, monitor='val_loss', verbose=1, save_best_only=True)\n",
    "        callbacks_list = [early_stopping, checkpoint]\n",
    "        self.model = Lstm_Autoencoder.create_model(self.time_window_size, self.feature_dimentions, metric=self.metric)\n",
    "        open(architecture_file_path, 'w').write(self.model.to_json())\n",
    "        history = self.model.fit(x=X_train_data, y=y_train_data,\n",
    "                                 batch_size=batch_size, epochs=epochs,\n",
    "                                 verbose=Lstm_Autoencoder.VERBOSE, validation_split=validation_split,\n",
    "                                 callbacks=callbacks_list)\n",
    "        self.model.save_weights(weight_file_path)\n",
    "\n",
    "        # scores = self.predict(X_test_data, y_test_data)\n",
    "        # scores.sort()\n",
    "        # cut_point = int(estimated_negative_sample_ratio * len(scores))\n",
    "        # self.threshold = scores[cut_point]\n",
    "        #\n",
    "        # print('estimated threshold is ' + str(self.threshold))\n",
    "\n",
    "        self.config = dict()\n",
    "        self.config['time_window_size'] = self.time_window_size\n",
    "        self.config['feature_dimentions'] = self.feature_dimentions\n",
    "        self.config['metric'] = self.metric\n",
    "        # self.config['threshold'] = self.threshold\n",
    "        config_file_path = Lstm_Autoencoder.get_config_file(model_dir_path=model_dir_path)\n",
    "        np.save(config_file_path, self.config)\n",
    "\n",
    "        return history\n",
    "\n",
    "    def predict_error(self, X_test_data, y_test_data):\n",
    "        y_test_predict = self.model.predict(x=X_test_data, batch_size=32)\n",
    "#         dist = np.sum(np.linalg.norm(y_test_data - y_test_predict, axis=2),axis=1)/(y_test_data.shape[1]*y_test_data.shape[2])\n",
    "        dist=np.linalg.norm(y_test_data - y_test_predict, axis=2)/y_test_data.shape[2]\n",
    "        return dist\n",
    "\n",
    "    def anomaly(self, X_test_data, y_test_data, threshold=None):\n",
    "        if threshold is not None:\n",
    "            self.threshold = threshold\n",
    "\n",
    "        dist = self.predict_error(X_test_data, y_test_data)\n",
    "        return zip(dist >= self.threshold, dist)\n"
   ]
  },
  {
   "cell_type": "code",
   "execution_count": 4,
   "metadata": {},
   "outputs": [],
   "source": [
    "DO_TRAINING = True\n",
    "model_dir_path = './1D_AutoEncoder'\n",
    "lae = Lstm_Autoencoder()\n",
    "training_history_file_path = model_dir_path + '/' + lae.model_name + '-trainHistoryDict'\n",
    "history = None\n",
    "import pickle\n",
    "import os\n",
    "os.environ['CUDA_VISIBLE_DEVICES'] = '0'"
   ]
  },
  {
   "cell_type": "code",
   "execution_count": 5,
   "metadata": {},
   "outputs": [
    {
     "ename": "NameError",
     "evalue": "name 'X_train' is not defined",
     "output_type": "error",
     "traceback": [
      "\u001b[1;31m---------------------------------------------------------------------------\u001b[0m",
      "\u001b[1;31mNameError\u001b[0m                                 Traceback (most recent call last)",
      "\u001b[1;32m<ipython-input-5-1a29a22a7d3b>\u001b[0m in \u001b[0;36m<module>\u001b[1;34m\u001b[0m\n\u001b[0;32m      1\u001b[0m \u001b[1;32mif\u001b[0m \u001b[0mDO_TRAINING\u001b[0m\u001b[1;33m:\u001b[0m\u001b[1;33m\u001b[0m\u001b[0m\n\u001b[1;32m----> 2\u001b[1;33m     \u001b[0mhistory\u001b[0m \u001b[1;33m=\u001b[0m \u001b[0mlae\u001b[0m\u001b[1;33m.\u001b[0m\u001b[0mfit\u001b[0m\u001b[1;33m(\u001b[0m\u001b[0mX_train\u001b[0m\u001b[1;33m,\u001b[0m \u001b[0mX_train\u001b[0m\u001b[1;33m,\u001b[0m \u001b[0mmodel_dir_path\u001b[0m\u001b[1;33m=\u001b[0m\u001b[0mmodel_dir_path\u001b[0m\u001b[1;33m,\u001b[0m \u001b[0mvalidation_split\u001b[0m\u001b[1;33m=\u001b[0m\u001b[1;36m0.1\u001b[0m\u001b[1;33m,\u001b[0m \u001b[0mepochs\u001b[0m\u001b[1;33m=\u001b[0m\u001b[1;36m100\u001b[0m\u001b[1;33m)\u001b[0m\u001b[1;33m\u001b[0m\u001b[0m\n\u001b[0m\u001b[0;32m      3\u001b[0m     \u001b[1;32mwith\u001b[0m \u001b[0mopen\u001b[0m\u001b[1;33m(\u001b[0m\u001b[0mtraining_history_file_path\u001b[0m\u001b[1;33m,\u001b[0m \u001b[1;34m'wb'\u001b[0m\u001b[1;33m)\u001b[0m \u001b[1;32mas\u001b[0m \u001b[0mfile_pi\u001b[0m\u001b[1;33m:\u001b[0m\u001b[1;33m\u001b[0m\u001b[0m\n\u001b[0;32m      4\u001b[0m         \u001b[0mpickle\u001b[0m\u001b[1;33m.\u001b[0m\u001b[0mdump\u001b[0m\u001b[1;33m(\u001b[0m\u001b[0mhistory\u001b[0m\u001b[1;33m.\u001b[0m\u001b[0mhistory\u001b[0m\u001b[1;33m,\u001b[0m \u001b[0mfile_pi\u001b[0m\u001b[1;33m)\u001b[0m\u001b[1;33m\u001b[0m\u001b[0m\n\u001b[0;32m      5\u001b[0m \u001b[1;32melif\u001b[0m \u001b[0mos\u001b[0m\u001b[1;33m.\u001b[0m\u001b[0mpath\u001b[0m\u001b[1;33m.\u001b[0m\u001b[0mexists\u001b[0m\u001b[1;33m(\u001b[0m\u001b[0mtraining_history_file_path\u001b[0m\u001b[1;33m)\u001b[0m\u001b[1;33m:\u001b[0m\u001b[1;33m\u001b[0m\u001b[0m\n",
      "\u001b[1;31mNameError\u001b[0m: name 'X_train' is not defined"
     ]
    }
   ],
   "source": [
    "if DO_TRAINING:\n",
    "    history = lae.fit(X_train, X_train, model_dir_path=model_dir_path, validation_split=0.1, epochs=100)\n",
    "    with open(training_history_file_path, 'wb') as file_pi:\n",
    "        pickle.dump(history.history, file_pi)\n",
    "elif os.path.exists(training_history_file_path):\n",
    "    with open(training_history_file_path, 'rb') as file_pi:\n",
    "        history = pickle.load(file_pi)"
   ]
  },
  {
   "cell_type": "code",
   "execution_count": 881,
   "metadata": {},
   "outputs": [
    {
     "name": "stdout",
     "output_type": "stream",
     "text": [
      "(487, 32, 2)\n",
      "(487, 32, 2)\n",
      "(3925, 2)\n"
     ]
    }
   ],
   "source": [
    "X_test,loc_test = get_data(0, len(data_test1), data_test1,location_test, sequence_length, time_step,dist_test)\n",
    "print(X_test.shape)\n",
    "print(loc_test.shape)\n",
    "print(data_test1.shape)"
   ]
  },
  {
   "cell_type": "code",
   "execution_count": 882,
   "metadata": {},
   "outputs": [
    {
     "name": "stdout",
     "output_type": "stream",
     "text": [
      "(487, 32)\n",
      "(487,)\n"
     ]
    }
   ],
   "source": [
    "reconstruction_error_0 = lae.predict_error(X_test, X_test)\n",
    "reconstruction_error_sum=np.sum(reconstruction_error_0,axis=1)/X_test.shape[1]\n",
    "print(reconstruction_error_0.shape)\n",
    "print(reconstruction_error_sum.shape)"
   ]
  },
  {
   "cell_type": "code",
   "execution_count": 883,
   "metadata": {},
   "outputs": [],
   "source": [
    "def loc_error(reconstruction_error,loc):\n",
    "    reconstruction={}\n",
    "    for i in range(loc.shape[0]):\n",
    "        for j in range(loc.shape[1]):\n",
    "            lc=tuple(loc[i,j])\n",
    "            error=reconstruction_error[i,j]\n",
    "            if lc in reconstruction:\n",
    "                reconstruction[lc]=max(reconstruction[lc],error)\n",
    "            else:\n",
    "                reconstruction[lc]=error\n",
    "    errors=[]\n",
    "    for loc,value in reconstruction.items():\n",
    "        loc=list(loc)\n",
    "        loc.append(value)\n",
    "        errors.append(loc)\n",
    "    errors=np.array(errors)\n",
    "    return errors    "
   ]
  },
  {
   "cell_type": "code",
   "execution_count": 884,
   "metadata": {},
   "outputs": [
    {
     "name": "stdout",
     "output_type": "stream",
     "text": [
      "(3920, 3)\n",
      "(487, 32, 2)\n"
     ]
    }
   ],
   "source": [
    "errors=loc_error(reconstruction_error_0,loc_test)\n",
    "print(errors.shape)\n",
    "print(loc_test.shape)"
   ]
  },
  {
   "cell_type": "code",
   "execution_count": 887,
   "metadata": {},
   "outputs": [],
   "source": [
    "data=pd.DataFrame(errors)\n",
    "data.columns=['X','Y','error']\n",
    "with pd.ExcelWriter('out/zhonhe/reconstruction_error_Ag_W.xlsx') as writer:\n",
    "    data.to_excel(writer,sheet_name='zhonghe_Ag_W') "
   ]
  },
  {
   "cell_type": "code",
   "execution_count": 888,
   "metadata": {},
   "outputs": [
    {
     "data": {
      "image/png": "[encoded data removed]",
      "text/plain": [
       "<Figure size 432x288 with 1 Axes>"
      ]
     },
     "metadata": {
      "needs_background": "light"
     },
     "output_type": "display_data"
    }
   ],
   "source": [
    "import matplotlib.pyplot as plt\n",
    "plt.plot(reconstruction_error_sum, marker='o', ms=3.5, linestyle='', label='point')\n",
    "plt.legend()\n",
    "plt.title('Ag_W')\n",
    "plt.ylabel('reconstruction error')\n",
    "plt.xlabel('Data period index')\n",
    "plt.savefig('out/zhonhe/zhonghe_Ag_W_reconstruction_error.png')\n",
    "plt.show()"
   ]
  },
  {
   "cell_type": "code",
   "execution_count": null,
   "metadata": {},
   "outputs": [],
   "source": []
  }
 ],
 "metadata": {
  "kernelspec": {
   "display_name": "Python 3",
   "language": "python",
   "name": "python3"
  },
  "language_info": {
   "codemirror_mode": {
    "name": "ipython",
    "version": 3
   },
   "file_extension": ".py",
   "mimetype": "text/x-python",
   "name": "python",
   "nbconvert_exporter": "python",
   "pygments_lexer": "ipython3",
   "version": "3.10.6"
  },
  "vscode": {
   "interpreter": {
    "hash": "31f2aee4e71d21fbe5cf8b01ff0e069b9275f58929596ceb00d14d90e3e16cd6"
   }
  }
 },
 "nbformat": 4,
 "nbformat_minor": 2
}
